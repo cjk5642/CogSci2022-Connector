{
  "cells": [
    {
      "cell_type": "markdown",
      "metadata": {
        "id": "tINRhKuwC89m"
      },
      "source": [
        "# Imports"
      ]
    },
    {
      "cell_type": "code",
      "execution_count": 21,
      "metadata": {
        "id": "EyD2S81EC5yq"
      },
      "outputs": [],
      "source": [
        "import os\n",
        "import pandas as pd\n",
        "import numpy as np\n",
        "from tqdm import tqdm\n",
        "import matplotlib.pyplot as plt\n",
        "import seaborn as sns\n",
        "import warnings\n",
        "import statsmodels.formula.api as smf\n",
        "from collections import Counter, defaultdict\n",
        "from sklearn.decomposition import PCA\n",
        "warnings.filterwarnings('ignore')\n",
        "\n",
        "from nltk.stem import PorterStemmer\n",
        "ps = PorterStemmer()\n",
        "\n",
        "plot_path = \"./data/plots\"\n",
        "rankings = {'Easy': 1, 'Medium': 2, 'Hard': 3}\n",
        "wordpairs = pd.read_csv(\"./data/wordpairs.csv\")"
      ]
    },
    {
      "cell_type": "markdown",
      "metadata": {
        "id": "uCmL2HQCDyn0"
      },
      "source": [
        "# Load Data"
      ]
    },
    {
      "cell_type": "code",
      "execution_count": 22,
      "metadata": {
        "id": "nihQIHADDzEH"
      },
      "outputs": [],
      "source": [
        "if not os.path.isdir(\"./data/processed\"):\n",
        "  os.makedirs(\"./data/processed\")\n",
        "\n",
        "if not os.path.isdir(plot_path):\n",
        "  os.makedirs(plot_path)\n",
        "\n",
        "def cosine_similarity(v1, v2):\n",
        "  v1 = np.array(v1).flatten()\n",
        "  v2 = np.array(v2).flatten()\n",
        "  return np.dot(v1, v2) / (np.linalg.norm(v1) * np.linalg.norm(v2))\n",
        "\n",
        "def return_emb(word, source_emb):\n",
        "  try:\n",
        "    emb = source_emb[word]\n",
        "    return word\n",
        "  except KeyError:\n",
        "    word_stem = ps.stem(word)\n",
        "    try:\n",
        "      emb = source_emb[word_stem]\n",
        "      return word_stem\n",
        "    except KeyError:\n",
        "      return np.NaN\n",
        "\n",
        "def return_clue(data):\n",
        "  values = []\n",
        "  options = ['clueOption1', 'clueOption2', 'clueOption3', 'clueOption4', 'clueOption5', 'clueOption6', 'clueOption7', 'clueOption8']\n",
        "  for i in range(len(data)):\n",
        "    row = data.loc[i, options].dropna().to_list()\n",
        "    try:\n",
        "      option = row.index(data.loc[i, 'clueFinal'])\n",
        "      values.append(int(options[option].lstrip('clueOption')))\n",
        "    except ValueError:\n",
        "      values.append(None)\n",
        "  return values\n",
        "\n",
        "def return_guess(data):\n",
        "  values = {'GUESS_1_FINAL': [], 'GUESS_2_FINAL': []}\n",
        "  options = ['GuessOption1', 'GuessOption2', 'GuessOption3', 'GuessOption4', 'GuessOption5', 'GuessOption6', 'GuessOption7', 'GuessOption8']\n",
        "  guesses = ['GUESS_1_FINAL', 'GUESS_2_FINAL']\n",
        "  for i in range(len(data)):\n",
        "    row = data.loc[i, options].dropna().to_list()\n",
        "    finals = data.loc[i, guesses]\n",
        "    for f in guesses:\n",
        "      try:\n",
        "        option = row.index(finals[f])\n",
        "        values[f].append(int(options[option].lstrip('GuessOption')))\n",
        "      except ValueError:\n",
        "        values[f].append(None)\n",
        "  return values.values()\n",
        "\n",
        "def load_wordpairs_data(wordpairs_path = \"./data/wordpairs.csv\"):\n",
        "  return pd.read_csv(wordpairs_path)\n",
        "\n",
        "def load_raw_data(wordpairs: pd.DataFrame = wordpairs, raw_path = \"./data/raw_data.csv\"):\n",
        "  raw = pd.read_csv(raw_path, usecols = ['Experiment', 'Word1', 'Word2', 'Clue1', 'Level', 'Player2.ACC', 'Clue2', 'Clue3'])\n",
        "  raw['Word Pair'] = raw['Word1'] + '-' + raw['Word2']\n",
        "  raw = raw[raw['Word Pair'].isin(wordpairs['wordpair'].to_list())].reset_index(drop = True)\n",
        "  raw['wordpair_id'] = [wordpairs.loc[wordpairs['wordpair'] == raw.loc[i, 'Word Pair'], 'wordpair_id'].values[0] for i in range(len(raw))]\n",
        "  raw_clues = raw.loc[:, ['wordpair_id', 'Clue1', 'Clue2', 'Clue3', 'Player2.ACC']]\n",
        "  raw_temp = raw.rename({'Word1': 'target1', 'Word2': 'target2'}, axis = 1)\n",
        "  return raw, raw_clues, raw_temp\n",
        "\n",
        "def load_online_data(online_path = \"./data/online.csv\"):\n",
        "  online = pd.read_csv(online_path)\n",
        "  online['Ranking'] = online['Level'].apply(lambda x: rankings[x])\n",
        "  online_clues = online.loc[:, ['wordpair_id', 'gameID', 'clueOption1', 'clueOption2', 'clueOption3', 'clueOption4', 'clueOption5', 'clueOption6', 'clueOption7', 'clueOption8', 'clueFinal', 'Acc', 'Level', 'Ranking']]\n",
        "  online_unique_clues = online[['wordpair_id', 'gameID', 'clueOption1', 'clueOption2', 'clueOption3', 'clueOption4', 'clueOption5', 'clueOption6', 'clueOption7', 'clueOption8', 'target1', 'target2']]\n",
        "  online_clues['Number of Clues'] = [len(online_unique_clues.loc[i,:].dropna().to_list()) for i in range(len(online_clues))]\n",
        "  online_guesses = online.loc[:, ['wordpair_id', 'gameID', 'GuessOption1', 'GuessOption2', 'GuessOption3', 'GuessOption4', 'GuessOption5', 'GuessOption6', \n",
        "                                  'GuessOption7', 'GuessOption8', \"target1\", \"target2\"]]\n",
        "  online.to_csv(r\"./data/processed/online.csv\", index = False)\n",
        "  return online, online_clues, online_unique_clues, online_guesses\n",
        "\n",
        "def load_embeddings_data(glove_path = \"./data/glove_embeddings.csv\",\n",
        "                         swow_path = \"./data/swow_embeddings.csv\"):\n",
        "  return pd.read_csv(glove_path), pd.read_csv(swow_path)"
      ]
    },
    {
      "cell_type": "code",
      "execution_count": 23,
      "metadata": {},
      "outputs": [],
      "source": [
        "############# Extract Raw\n",
        "raw, raw_clues, raw_temp = load_raw_data()\n",
        "\n",
        "########### Extract Online\n",
        "online, online_clues, online_unique_clues, online_guesses = load_online_data()\n",
        "\n",
        "#glove_path = parentdirectory + \"glove_embeddings.csv\"\n",
        "glove, swow = load_embeddings_data()"
      ]
    },
    {
      "cell_type": "markdown",
      "metadata": {
        "id": "U1h_OWB4BpeW"
      },
      "source": [
        "# *Searching for multiple concepts within semantic memory*\n",
        "\n",
        "Collin J. Kovacs, Jasper M. Wilson, and Abhilasha A. Kumar\n",
        "\n",
        "[Latex paper draft](https://www.overleaf.com/3682451699jnphdztfwskz)\n",
        "\n",
        "There is not a lot of work investigating the explicit search processes in ambiguous multi-referent contexts. Previous work in this area has shown that speakers tend to use some form of context sensitivity judgment and pragmatic inference to come up with the final response, BUT the explicit generation process remains obscure in these communication tasks. How might we study this process by which an individual arrives upon the final referent? In this work, we introduce and evaluate a think-aloud paradigm for capturing interim responses during semantic search, borrowing from tasks such as fluency and variants of RAT. (explain task)"
      ]
    },
    {
      "cell_type": "markdown",
      "metadata": {
        "id": "ArK3OmFFEN21"
      },
      "source": [
        "## We discuss whether and how it differs from the standard paradigm. \n",
        "  - Average accuracy in easy/medium/hard for both datasets"
      ]
    },
    {
      "cell_type": "code",
      "execution_count": 24,
      "metadata": {
        "colab": {
          "base_uri": "https://localhost:8080/",
          "height": 513
        },
        "id": "Sp3lh3DKEZ-m",
        "outputId": "bac378ae-ee8d-45a8-9ac2-8ebe79962696"
      },
      "outputs": [
        {
          "data": {
            "image/png": "[encoded data removed]",
            "text/plain": [
              "<Figure size 864x576 with 1 Axes>"
            ]
          },
          "metadata": {
            "needs_background": "light"
          },
          "output_type": "display_data"
        }
      ],
      "source": [
        "avg_acc_level_raw = raw.groupby('Level').mean().reset_index().rename({'Player2.ACC': 'Average Accuracy'}, axis = 1)\n",
        "avg_acc_level_raw['Type'] = 'Raw'\n",
        "avg_acc_level_online = online[['Level', 'Acc']].groupby('Level').mean().reset_index().rename({'Acc': 'Average Accuracy'}, axis = 1)\n",
        "avg_acc_level_online['Type'] = 'Online'\n",
        "avg_acc_level_total = pd.concat([avg_acc_level_raw, avg_acc_level_online], axis = 0, ignore_index = True)\n",
        "avg_acc_level_total['Ranking'] = avg_acc_level_total['Level'].apply(lambda x: rankings[x])\n",
        "avg_acc_level_total = avg_acc_level_total.sort_values(['Ranking'], ascending = True).reset_index(drop = True)\n",
        "\n",
        "fig, ax = plt.subplots(figsize = (12, 8))\n",
        "sns.barplot(data = avg_acc_level_total, x = 'Level', y = 'Average Accuracy', hue = 'Type', ax = ax)\n",
        "ax.title.set_text(\"Average Accuracy by Difficulty per Dataset\")\n",
        "plt.savefig(os.path.join(plot_path, 'average_acc_by_diff_per_dataset.png'))\n",
        "plt.show()"
      ]
    },
    {
      "cell_type": "markdown",
      "metadata": {
        "id": "OQ9mDw9sEas1"
      },
      "source": [
        "- Number of unique clues produced for both datasets (do by level)"
      ]
    },
    {
      "cell_type": "code",
      "execution_count": 25,
      "metadata": {
        "colab": {
          "base_uri": "https://localhost:8080/",
          "height": 564
        },
        "id": "bwjxhS_hEdFy",
        "outputId": "90893a61-1303-4efa-ebc4-7fb2be0c57a3"
      },
      "outputs": [
        {
          "data": {
            "text/html": [
              "<div>\n",
              "<style scoped>\n",
              "    .dataframe tbody tr th:only-of-type {\n",
              "        vertical-align: middle;\n",
              "    }\n",
              "\n",
              "    .dataframe tbody tr th {\n",
              "        vertical-align: top;\n",
              "    }\n",
              "\n",
              "    .dataframe thead th {\n",
              "        text-align: right;\n",
              "    }\n",
              "</style>\n",
              "<table border=\"1\" class=\"dataframe\">\n",
              "  <thead>\n",
              "    <tr style=\"text-align: right;\">\n",
              "      <th></th>\n",
              "      <th>wordpair_id</th>\n",
              "      <th>count_type</th>\n",
              "      <th>count</th>\n",
              "    </tr>\n",
              "  </thead>\n",
              "  <tbody>\n",
              "    <tr>\n",
              "      <th>0</th>\n",
              "      <td>ankle-travel</td>\n",
              "      <td>2</td>\n",
              "      <td>29</td>\n",
              "    </tr>\n",
              "    <tr>\n",
              "      <th>1</th>\n",
              "      <td>army-drum</td>\n",
              "      <td>2</td>\n",
              "      <td>17</td>\n",
              "    </tr>\n",
              "    <tr>\n",
              "      <th>2</th>\n",
              "      <td>ash-snake</td>\n",
              "      <td>2</td>\n",
              "      <td>29</td>\n",
              "    </tr>\n",
              "    <tr>\n",
              "      <th>3</th>\n",
              "      <td>bet-dream</td>\n",
              "      <td>2</td>\n",
              "      <td>23</td>\n",
              "    </tr>\n",
              "    <tr>\n",
              "      <th>4</th>\n",
              "      <td>birth-hand</td>\n",
              "      <td>2</td>\n",
              "      <td>23</td>\n",
              "    </tr>\n",
              "  </tbody>\n",
              "</table>\n",
              "</div>"
            ],
            "text/plain": [
              "    wordpair_id  count_type  count\n",
              "0  ankle-travel           2     29\n",
              "1     army-drum           2     17\n",
              "2     ash-snake           2     29\n",
              "3     bet-dream           2     23\n",
              "4    birth-hand           2     23"
            ]
          },
          "metadata": {},
          "output_type": "display_data"
        },
        {
          "data": {
            "text/html": [
              "<div>\n",
              "<style scoped>\n",
              "    .dataframe tbody tr th:only-of-type {\n",
              "        vertical-align: middle;\n",
              "    }\n",
              "\n",
              "    .dataframe tbody tr th {\n",
              "        vertical-align: top;\n",
              "    }\n",
              "\n",
              "    .dataframe thead th {\n",
              "        text-align: right;\n",
              "    }\n",
              "</style>\n",
              "<table border=\"1\" class=\"dataframe\">\n",
              "  <thead>\n",
              "    <tr style=\"text-align: right;\">\n",
              "      <th></th>\n",
              "      <th>count_type</th>\n",
              "      <th>count</th>\n",
              "    </tr>\n",
              "  </thead>\n",
              "  <tbody>\n",
              "    <tr>\n",
              "      <th>0</th>\n",
              "      <td>1</td>\n",
              "      <td>23.103448</td>\n",
              "    </tr>\n",
              "    <tr>\n",
              "      <th>1</th>\n",
              "      <td>2</td>\n",
              "      <td>21.172414</td>\n",
              "    </tr>\n",
              "  </tbody>\n",
              "</table>\n",
              "</div>"
            ],
            "text/plain": [
              "   count_type      count\n",
              "0           1  23.103448\n",
              "1           2  21.172414"
            ]
          },
          "metadata": {},
          "output_type": "display_data"
        },
        {
          "data": {
            "image/png": "[encoded data removed]",
            "text/plain": [
              "<Figure size 432x288 with 1 Axes>"
            ]
          },
          "metadata": {
            "needs_background": "light"
          },
          "output_type": "display_data"
        }
      ],
      "source": [
        "online_unique = online[['wordpair_id','clueFinal']].value_counts().reset_index().groupby(['wordpair_id']).size().reset_index(name='count1')\n",
        "raw_unique = raw[['wordpair_id','Clue1']].value_counts().reset_index().groupby(['wordpair_id']).size().reset_index(name='count2')\n",
        "raw_unique = raw_unique.merge(online_unique)\n",
        "raw_long = pd.wide_to_long(raw_unique, stubnames='count', i=['wordpair_id'], j='count_type').reset_index()\n",
        "display(raw_long.head())\n",
        "count_means = raw_long[['wordpair_id','count_type', 'count']].groupby(['count_type']).mean().reset_index()\n",
        "display(count_means)\n",
        "ax = count_means.plot.bar(x='count_type', y='count', rot=0)\n",
        "plt.savefig(os.path.join(plot_path, 'num_unique_clues_both_dataset.png'))"
      ]
    },
    {
      "cell_type": "markdown",
      "metadata": {
        "id": "55kP2Mz6lz9L"
      },
      "source": [
        "## Compare this between raw and online\n",
        "- sim(clueFinal, t1) = x\n",
        "- sim(clueFinal, t2) = y\n",
        "- Assign the smaller of x or y to be the “closer” target\n",
        "- Assign the greater of x or y to be the “farther” target\n",
        "- Now calculate average similarity to “closer” vs. “farther\"\n",
        "- Do this by level to see if final clues are more skewed towards one of the targets\n"
      ]
    },
    {
      "cell_type": "code",
      "execution_count": 27,
      "metadata": {
        "colab": {
          "base_uri": "https://localhost:8080/",
          "height": 497
        },
        "id": "IOyhvPPsl1L4",
        "outputId": "e85c15f3-fbf5-4b0c-e24a-8a4435a1a893"
      },
      "outputs": [
        {
          "data": {
            "image/png": "[encoded data removed]",
            "text/plain": [
              "<Figure size 864x576 with 1 Axes>"
            ]
          },
          "metadata": {
            "needs_background": "light"
          },
          "output_type": "display_data"
        }
      ],
      "source": [
        "new_online = online[['clueFinal','target1', 'target2', 'Level', 'Ranking']]\n",
        "for j in ['clueFinal', 'target1', 'target2']:\n",
        "  new_online[f'{j}True'] = new_online[j].apply(lambda x: return_emb(x, glove))\n",
        "new_online = new_online.dropna().reset_index(drop = True)\n",
        "\n",
        "x, y, closer, farther = [], [], [], []\n",
        "for i in range(len(new_online)):\n",
        "  xs = cosine_similarity(glove[new_online.loc[i, 'clueFinalTrue']], glove[new_online.loc[i, 'target1True']])\n",
        "  ys = cosine_similarity(glove[new_online.loc[i, 'clueFinalTrue']], glove[new_online.loc[i, 'target2True']])\n",
        "\n",
        "  x.append(xs)\n",
        "  y.append(ys)\n",
        "\n",
        "  if xs < ys:\n",
        "    closer.append(xs)\n",
        "    farther.append(ys)\n",
        "  else:\n",
        "    closer.append(ys)\n",
        "    farther.append(xs)\n",
        "new_online['x'] = x\n",
        "new_online['y'] = y\n",
        "new_online['closer'] = closer \n",
        "new_online['farther'] = farther\n",
        "new_online_grouped = new_online[['Level', 'closer', 'farther']].groupby(['Level']).mean().reset_index().melt(id_vars = ['Level'])\n",
        "new_online_grouped = new_online_grouped.rename({\"value\": 'Average Similarity', 'variable': 'Distance to Clue Final'}, axis = 1)\n",
        "new_online_grouped['Ranking'] = new_online_grouped['Level'].apply(lambda x: rankings[x])\n",
        "new_online_grouped = new_online_grouped.sort_values('Ranking')\n",
        "fig, ax = plt.subplots(figsize = (12, 8))\n",
        "sns.barplot(data = new_online_grouped, x = 'Level', y = 'Average Similarity', hue = 'Distance to Clue Final', ax = ax)\n",
        "plt.savefig(os.path.join(plot_path, 'distance_to_clue_final_similarity.png'))\n",
        "plt.show()"
      ]
    },
    {
      "cell_type": "markdown",
      "metadata": {
        "id": "AornW3hoCrUh"
      },
      "source": [
        "## - We discuss the extent to which participants select the different candidates as the final clue and the accuracy when these candidates are chosen as the final clue. We also break this down by level/difficulty\n"
      ]
    },
    {
      "cell_type": "code",
      "execution_count": 28,
      "metadata": {
        "colab": {
          "base_uri": "https://localhost:8080/",
          "height": 729
        },
        "id": "9D-NI__mCt48",
        "outputId": "89b15cdd-07f6-4158-97b1-5ca81e7a7f6f"
      },
      "outputs": [
        {
          "data": {
            "image/png": "[encoded data removed]",
            "text/plain": [
              "<Figure size 796x720 with 2 Axes>"
            ]
          },
          "metadata": {
            "needs_background": "light"
          },
          "output_type": "display_data"
        }
      ],
      "source": [
        "options = online[['wordpair_id', 'SelectedClue', 'Acc', 'Level']]\n",
        "avg_acc_selected = options.groupby(['wordpair_id', 'SelectedClue']).mean().reset_index()\n",
        "rows = []\n",
        "for wp in options['wordpair_id'].unique():\n",
        "  t = options[options['wordpair_id'] == wp].reset_index(drop = True)\n",
        "  ## make sure to count \"unique\" clues as well, coded as 0 here, otherwise the count is 0 for them\n",
        "  t[['SelectedClue']] = t[['SelectedClue']].fillna(value=0)\n",
        "  t_counts = t[['wordpair_id', 'SelectedClue', 'Level']].value_counts().reset_index().ffill()\n",
        "  t_counts[0] /= t_counts[0].sum() # get the proportions\n",
        "  t_acc = t.groupby(['wordpair_id', 'SelectedClue', 'Level']).mean().reset_index().ffill()\n",
        "  new_t = pd.merge(t_counts, t_acc, on = ['wordpair_id', 'SelectedClue', 'Level'])\n",
        "  new_t = new_t.set_index(['wordpair_id', 'SelectedClue', 'Level'])\n",
        "\n",
        "  idx = 3*(list(range(1, 10)))\n",
        "  w = [wp for i in idx]\n",
        "  diff = 9*['Easy'] + 9*['Medium'] + 9*['Hard']\n",
        "  ind = zip(w, idx, diff)\n",
        "  new_t = new_t.reindex(ind, fill_value=0).reset_index().ffill()\n",
        "  new_t.loc[new_t['SelectedClue'] == 9, 'SelectedClue'] = 'None'\n",
        "  rows.append(new_t)\n",
        "\n",
        "final_options = pd.concat(rows, axis = 0, ignore_index=True).rename({0: 'Proportion', 'Acc': 'AvgAcc', 'SelectedClue': 'Clue Option'}, axis = 1)\n",
        "final_options['Proportion'] = final_options['Proportion'].astype(float)\n",
        "avg_final_options = final_options.groupby(['Clue Option', 'Level']).mean().reset_index().ffill()\n",
        "avg_final_options['Ranking'] = avg_final_options['Level'].apply(lambda x: rankings[x])\n",
        "avg_final_options = avg_final_options.sort_values(['Clue Option', 'Ranking']).rename({'AvgAcc': 'Average Accuracy'}, axis = 1).melt(id_vars = ['Clue Option', 'Level', 'Ranking'])\n",
        "\n",
        "sns.catplot(x = 'Clue Option', y = 'value', hue = 'Level', row = 'variable', kind = 'bar', data = avg_final_options, aspect = 2)\n",
        "plt.savefig(os.path.join(plot_path, 'proportion_avg_acc_per_level_per_clue.png'))\n",
        "plt.show()"
      ]
    },
    {
      "cell_type": "markdown",
      "metadata": {
        "id": "Rm4JOnW1niUI"
      },
      "source": [
        "- If they are typing after search/threshold criterion is complete, then their first candidate time should be in the same ballpark as the original study clue time - plot histogram of RT for original data and online data.\n",
        "  - Look at the TBOption1 (online) and Player1.RT (raw)\n",
        "  - One hist overall and hist seperated by level"
      ]
    },
    {
      "cell_type": "code",
      "execution_count": 29,
      "metadata": {
        "colab": {
          "base_uri": "https://localhost:8080/",
          "height": 513
        },
        "id": "C0PUmFv8nRcI",
        "outputId": "c7c6e658-bf3f-49e5-c232-23a19dc2ebc1"
      },
      "outputs": [
        {
          "data": {
            "image/png": "[encoded data removed]",
            "text/plain": [
              "<Figure size 864x576 with 2 Axes>"
            ]
          },
          "metadata": {
            "needs_background": "light"
          },
          "output_type": "display_data"
        }
      ],
      "source": [
        "online_time = online[['TBOption1', 'Level']].rename({\"TBOption1\": 'Response Time'}, axis = 1)\n",
        "online_time['Type'] = 'Online'\n",
        "raw_time = pd.read_csv(\"./data/raw_data.csv\", usecols = ['Player1.RT', 'Level']).rename({'Player1.RT': \"Response Time\"}, axis = 1)\n",
        "raw_time['Type'] = 'Raw'\n",
        "\n",
        "time_frame = pd.concat([online_time, raw_time], axis = 0, ignore_index = True)\n",
        "fig, ax = plt.subplots(2, 1, figsize = (12, 8))\n",
        "for i, t in enumerate(['Online', 'Raw']):\n",
        "  tmp = time_frame[time_frame['Type'] == t]\n",
        "  if i == 0:\n",
        "    sns.kdeplot(data = tmp, x = 'Response Time', hue = 'Level', fill = True, ax = ax[i], legend = False, palette = 'Set1', hue_order = ['Easy', 'Medium', 'Hard'])\n",
        "    ax[i].set_xticks([])\n",
        "    ax[i].set_xlabel(\"\")\n",
        "  else:\n",
        "    sns.kdeplot(data = tmp, x = 'Response Time', hue = 'Level', fill = True, ax = ax[i], legend = True, palette = 'Set1', hue_order = [\"Easy\", 'Medium', 'Hard'])\n",
        "  ax[i].set_xlim([0, 150_000])\n",
        "  ax[i].title.set_text(f\"{t} Dataset\")\n",
        "plt.subplots_adjust(wspace = 0, hspace = 0.1)\n",
        "plt.savefig(os.path.join(plot_path, 'density_estimation_between_datasets_per_level.png'))\n",
        "plt.show()"
      ]
    },
    {
      "cell_type": "markdown",
      "metadata": {
        "id": "f8YNqwxgzWCg"
      },
      "source": [
        "- compute cosine similarity of each candidate clue to the targets - are first candidates more similar to the two targets than other candidates? do this using glove and swow both"
      ]
    },
    {
      "cell_type": "code",
      "execution_count": 32,
      "metadata": {
        "id": "PGAUvOm9zWxT"
      },
      "outputs": [],
      "source": [
        "options_names = [i for i in online.columns if 'clueoption' in i.lower()]\n",
        "online_sim = online[options_names + ['target1', 'target2', 'wordpair_id', 'gameID']].melt(id_vars = ['target1', 'target2', 'wordpair_id', 'gameID']).dropna().reset_index(drop = True)\n",
        "online_glove = online_sim.copy()\n",
        "online_swow = online_sim.copy()\n",
        "\n",
        "online_glove['target1'] = online_glove['target1'].apply(lambda x: return_emb(x, glove))\n",
        "online_glove['target2'] = online_glove['target2'].apply(lambda x: return_emb(x, glove))\n",
        "online_glove['value'] = online_glove['value'].apply(lambda x: return_emb(x, glove))\n",
        "online_glove = online_glove.dropna().reset_index(drop = True)\n",
        "online_glove['sim_of_t1_val'] = [cosine_similarity(glove[online_glove.loc[i, 'target1']], glove[online_glove.loc[i, 'value']]) for i in range(len(online_glove))]\n",
        "online_glove['sim_of_t2_val'] = [cosine_similarity(glove[online_glove.loc[i, 'target2']], glove[online_glove.loc[i, 'value']]) for i in range(len(online_glove))]\n",
        "online_glove = online_glove.rename({'variable': 'clues'}, axis = 1)#.melt(id_vars = ['wordpair_id', 'gameID', 'clues', 'value'])\n",
        "online_glove['embedding'] = 'glove'\n",
        "\n",
        "online_swow['target1'] = online_swow['target1'].apply(lambda x: return_emb(x, swow))\n",
        "online_swow['target2'] = online_swow['target2'].apply(lambda x: return_emb(x, swow))\n",
        "online_swow['value'] = online_swow['value'].apply(lambda x: return_emb(x, swow))\n",
        "online_swow = online_swow.dropna().reset_index(drop = True)\n",
        "online_swow['sim_of_t1_val'] = [cosine_similarity(swow[online_swow.loc[i, 'target1']], swow[online_swow.loc[i, 'value']]) for i in range(len(online_swow))]\n",
        "online_swow['sim_of_t2_val'] = [cosine_similarity(swow[online_swow.loc[i, 'target2']], swow[online_swow.loc[i, 'value']]) for i in range(len(online_swow))]\n",
        "online_swow = online_swow.rename({'variable': 'clues'}, axis = 1)#.melt(id_vars = ['wordpair_id', 'gameID', 'clues', 'value'])\n",
        "online_swow['embedding'] = 'swow'\n",
        "\n",
        "total_online_emb = pd.concat([online_glove, online_swow], axis = 0, ignore_index=True)\n",
        "total_online_emb = total_online_emb.drop(['target1', 'target2', 'value'], axis = 1)\n",
        "total_online_emb['clues'] = total_online_emb['clues'].apply(lambda x: x[-1])\n",
        "total_online_emb = total_online_emb.melt(id_vars = ['wordpair_id', 'gameID', 'clues', 'embedding'])\n",
        "total_online_emb['variable'] = total_online_emb['variable'].apply(lambda x: x.split('_')[2][-1])\n",
        "total_online_emb.rename({'clues': 'Clue Option','variable': 'Target', 'embedding': 'Embedding', 'value': 'Similarity'}, axis = 1, inplace = True)"
      ]
    },
    {
      "cell_type": "code",
      "execution_count": 33,
      "metadata": {
        "colab": {
          "base_uri": "https://localhost:8080/",
          "height": 423
        },
        "id": "UDnAAFRfFeMJ",
        "outputId": "27b09457-be00-4fa9-a713-de4051a630b3"
      },
      "outputs": [
        {
          "data": {
            "text/html": [
              "<div>\n",
              "<style scoped>\n",
              "    .dataframe tbody tr th:only-of-type {\n",
              "        vertical-align: middle;\n",
              "    }\n",
              "\n",
              "    .dataframe tbody tr th {\n",
              "        vertical-align: top;\n",
              "    }\n",
              "\n",
              "    .dataframe thead th {\n",
              "        text-align: right;\n",
              "    }\n",
              "</style>\n",
              "<table border=\"1\" class=\"dataframe\">\n",
              "  <thead>\n",
              "    <tr style=\"text-align: right;\">\n",
              "      <th></th>\n",
              "      <th>wordpair_id</th>\n",
              "      <th>gameID</th>\n",
              "      <th>Clue Option</th>\n",
              "      <th>Embedding</th>\n",
              "      <th>Target</th>\n",
              "      <th>Similarity</th>\n",
              "    </tr>\n",
              "  </thead>\n",
              "  <tbody>\n",
              "    <tr>\n",
              "      <th>0</th>\n",
              "      <td>bowl-sun</td>\n",
              "      <td>454955-472987</td>\n",
              "      <td>1</td>\n",
              "      <td>glove</td>\n",
              "      <td>1</td>\n",
              "      <td>0.109829</td>\n",
              "    </tr>\n",
              "    <tr>\n",
              "      <th>1</th>\n",
              "      <td>cave-knight</td>\n",
              "      <td>454955-472987</td>\n",
              "      <td>1</td>\n",
              "      <td>glove</td>\n",
              "      <td>1</td>\n",
              "      <td>0.268687</td>\n",
              "    </tr>\n",
              "    <tr>\n",
              "      <th>2</th>\n",
              "      <td>glow-quick</td>\n",
              "      <td>454955-472987</td>\n",
              "      <td>1</td>\n",
              "      <td>glove</td>\n",
              "      <td>1</td>\n",
              "      <td>0.386934</td>\n",
              "    </tr>\n",
              "    <tr>\n",
              "      <th>3</th>\n",
              "      <td>gold-silver</td>\n",
              "      <td>454955-472987</td>\n",
              "      <td>1</td>\n",
              "      <td>glove</td>\n",
              "      <td>1</td>\n",
              "      <td>0.434517</td>\n",
              "    </tr>\n",
              "    <tr>\n",
              "      <th>4</th>\n",
              "      <td>oak-tree</td>\n",
              "      <td>454955-472987</td>\n",
              "      <td>1</td>\n",
              "      <td>glove</td>\n",
              "      <td>1</td>\n",
              "      <td>0.380577</td>\n",
              "    </tr>\n",
              "    <tr>\n",
              "      <th>...</th>\n",
              "      <td>...</td>\n",
              "      <td>...</td>\n",
              "      <td>...</td>\n",
              "      <td>...</td>\n",
              "      <td>...</td>\n",
              "      <td>...</td>\n",
              "    </tr>\n",
              "    <tr>\n",
              "      <th>17679</th>\n",
              "      <td>bowl-sun</td>\n",
              "      <td>473115-463794</td>\n",
              "      <td>8</td>\n",
              "      <td>swow</td>\n",
              "      <td>2</td>\n",
              "      <td>0.687335</td>\n",
              "    </tr>\n",
              "    <tr>\n",
              "      <th>17680</th>\n",
              "      <td>glow-quick</td>\n",
              "      <td>473115-463794</td>\n",
              "      <td>8</td>\n",
              "      <td>swow</td>\n",
              "      <td>2</td>\n",
              "      <td>0.120511</td>\n",
              "    </tr>\n",
              "    <tr>\n",
              "      <th>17681</th>\n",
              "      <td>gold-silver</td>\n",
              "      <td>473115-463794</td>\n",
              "      <td>8</td>\n",
              "      <td>swow</td>\n",
              "      <td>2</td>\n",
              "      <td>0.567042</td>\n",
              "    </tr>\n",
              "    <tr>\n",
              "      <th>17682</th>\n",
              "      <td>oak-tree</td>\n",
              "      <td>473115-463794</td>\n",
              "      <td>8</td>\n",
              "      <td>swow</td>\n",
              "      <td>2</td>\n",
              "      <td>0.667645</td>\n",
              "    </tr>\n",
              "    <tr>\n",
              "      <th>17683</th>\n",
              "      <td>chapel-feet</td>\n",
              "      <td>486514-466626</td>\n",
              "      <td>8</td>\n",
              "      <td>swow</td>\n",
              "      <td>2</td>\n",
              "      <td>0.031457</td>\n",
              "    </tr>\n",
              "  </tbody>\n",
              "</table>\n",
              "<p>17684 rows × 6 columns</p>\n",
              "</div>"
            ],
            "text/plain": [
              "       wordpair_id         gameID Clue Option Embedding Target  Similarity\n",
              "0         bowl-sun  454955-472987           1     glove      1    0.109829\n",
              "1      cave-knight  454955-472987           1     glove      1    0.268687\n",
              "2       glow-quick  454955-472987           1     glove      1    0.386934\n",
              "3      gold-silver  454955-472987           1     glove      1    0.434517\n",
              "4         oak-tree  454955-472987           1     glove      1    0.380577\n",
              "...            ...            ...         ...       ...    ...         ...\n",
              "17679     bowl-sun  473115-463794           8      swow      2    0.687335\n",
              "17680   glow-quick  473115-463794           8      swow      2    0.120511\n",
              "17681  gold-silver  473115-463794           8      swow      2    0.567042\n",
              "17682     oak-tree  473115-463794           8      swow      2    0.667645\n",
              "17683  chapel-feet  486514-466626           8      swow      2    0.031457\n",
              "\n",
              "[17684 rows x 6 columns]"
            ]
          },
          "execution_count": 33,
          "metadata": {},
          "output_type": "execute_result"
        }
      ],
      "source": [
        "total_online_emb"
      ]
    },
    {
      "cell_type": "code",
      "execution_count": 34,
      "metadata": {
        "colab": {
          "base_uri": "https://localhost:8080/",
          "height": 369
        },
        "id": "0tv2THNN31eg",
        "outputId": "05931032-dc8e-45a7-c5f0-835861847d3b"
      },
      "outputs": [
        {
          "data": {
            "image/png": "[encoded data removed]",
            "text/plain": [
              "<Figure size 762.375x360 with 2 Axes>"
            ]
          },
          "metadata": {
            "needs_background": "light"
          },
          "output_type": "display_data"
        }
      ],
      "source": [
        "sns.catplot(data = total_online_emb, x = 'Clue Option', y = 'Similarity', hue = 'Target', col = 'Embedding', kind = 'bar')\n",
        "plt.savefig(os.path.join(plot_path, 'similarity_per_target_per_embedding.png'))\n",
        "plt.show()"
      ]
    },
    {
      "cell_type": "markdown",
      "metadata": {
        "id": "3ecRsPAICugq"
      },
      "source": [
        "## - Next, we evaluate whether the number of candidates produced by participants correlate with performance across different levels"
      ]
    },
    {
      "cell_type": "code",
      "execution_count": 35,
      "metadata": {
        "colab": {
          "base_uri": "https://localhost:8080/",
          "height": 1000
        },
        "id": "muxlBIVsCwZc",
        "outputId": "d2984a50-a43d-4545-a4bf-5ab8bfbfc0a4"
      },
      "outputs": [
        {
          "data": {
            "text/html": [
              "<div>\n",
              "<style scoped>\n",
              "    .dataframe tbody tr th:only-of-type {\n",
              "        vertical-align: middle;\n",
              "    }\n",
              "\n",
              "    .dataframe tbody tr th {\n",
              "        vertical-align: top;\n",
              "    }\n",
              "\n",
              "    .dataframe thead th {\n",
              "        text-align: right;\n",
              "    }\n",
              "</style>\n",
              "<table border=\"1\" class=\"dataframe\">\n",
              "  <thead>\n",
              "    <tr style=\"text-align: right;\">\n",
              "      <th></th>\n",
              "      <th>wordpair_id</th>\n",
              "      <th>gameID</th>\n",
              "      <th>clueOption1</th>\n",
              "      <th>clueOption2</th>\n",
              "      <th>clueOption3</th>\n",
              "      <th>clueOption4</th>\n",
              "      <th>clueOption5</th>\n",
              "      <th>clueOption6</th>\n",
              "      <th>clueOption7</th>\n",
              "      <th>clueOption8</th>\n",
              "      <th>clueFinal</th>\n",
              "      <th>Acc</th>\n",
              "      <th>Level</th>\n",
              "      <th>Ranking</th>\n",
              "      <th>Number of Clues</th>\n",
              "    </tr>\n",
              "  </thead>\n",
              "  <tbody>\n",
              "    <tr>\n",
              "      <th>731</th>\n",
              "      <td>jump-leap</td>\n",
              "      <td>473184-487224</td>\n",
              "      <td>high</td>\n",
              "      <td>legs</td>\n",
              "      <td>quick</td>\n",
              "      <td>NaN</td>\n",
              "      <td>NaN</td>\n",
              "      <td>NaN</td>\n",
              "      <td>NaN</td>\n",
              "      <td>NaN</td>\n",
              "      <td>frog</td>\n",
              "      <td>1</td>\n",
              "      <td>Easy</td>\n",
              "      <td>1</td>\n",
              "      <td>7</td>\n",
              "    </tr>\n",
              "    <tr>\n",
              "      <th>729</th>\n",
              "      <td>gums-teeth</td>\n",
              "      <td>473184-487224</td>\n",
              "      <td>dentist</td>\n",
              "      <td>hygiene</td>\n",
              "      <td>flossing</td>\n",
              "      <td>NaN</td>\n",
              "      <td>NaN</td>\n",
              "      <td>NaN</td>\n",
              "      <td>NaN</td>\n",
              "      <td>NaN</td>\n",
              "      <td>dental</td>\n",
              "      <td>1</td>\n",
              "      <td>Easy</td>\n",
              "      <td>1</td>\n",
              "      <td>7</td>\n",
              "    </tr>\n",
              "    <tr>\n",
              "      <th>850</th>\n",
              "      <td>oak-tree</td>\n",
              "      <td>473749-473360</td>\n",
              "      <td>wood</td>\n",
              "      <td>earth</td>\n",
              "      <td>states</td>\n",
              "      <td>NaN</td>\n",
              "      <td>NaN</td>\n",
              "      <td>NaN</td>\n",
              "      <td>NaN</td>\n",
              "      <td>NaN</td>\n",
              "      <td>wood</td>\n",
              "      <td>1</td>\n",
              "      <td>Easy</td>\n",
              "      <td>1</td>\n",
              "      <td>7</td>\n",
              "    </tr>\n",
              "    <tr>\n",
              "      <th>849</th>\n",
              "      <td>new-old</td>\n",
              "      <td>473749-473360</td>\n",
              "      <td>time</td>\n",
              "      <td>measure</td>\n",
              "      <td>antonyms</td>\n",
              "      <td>NaN</td>\n",
              "      <td>NaN</td>\n",
              "      <td>NaN</td>\n",
              "      <td>NaN</td>\n",
              "      <td>NaN</td>\n",
              "      <td>time</td>\n",
              "      <td>1</td>\n",
              "      <td>Easy</td>\n",
              "      <td>1</td>\n",
              "      <td>7</td>\n",
              "    </tr>\n",
              "    <tr>\n",
              "      <th>848</th>\n",
              "      <td>lion-tiger</td>\n",
              "      <td>473749-473360</td>\n",
              "      <td>cat</td>\n",
              "      <td>animal</td>\n",
              "      <td>roar</td>\n",
              "      <td>NaN</td>\n",
              "      <td>NaN</td>\n",
              "      <td>NaN</td>\n",
              "      <td>NaN</td>\n",
              "      <td>NaN</td>\n",
              "      <td>cat</td>\n",
              "      <td>1</td>\n",
              "      <td>Easy</td>\n",
              "      <td>1</td>\n",
              "      <td>7</td>\n",
              "    </tr>\n",
              "    <tr>\n",
              "      <th>...</th>\n",
              "      <td>...</td>\n",
              "      <td>...</td>\n",
              "      <td>...</td>\n",
              "      <td>...</td>\n",
              "      <td>...</td>\n",
              "      <td>...</td>\n",
              "      <td>...</td>\n",
              "      <td>...</td>\n",
              "      <td>...</td>\n",
              "      <td>...</td>\n",
              "      <td>...</td>\n",
              "      <td>...</td>\n",
              "      <td>...</td>\n",
              "      <td>...</td>\n",
              "      <td>...</td>\n",
              "    </tr>\n",
              "    <tr>\n",
              "      <th>439</th>\n",
              "      <td>ankle-travel</td>\n",
              "      <td>464255-486078</td>\n",
              "      <td>cross up</td>\n",
              "      <td>basketball</td>\n",
              "      <td>walk</td>\n",
              "      <td>NaN</td>\n",
              "      <td>NaN</td>\n",
              "      <td>NaN</td>\n",
              "      <td>NaN</td>\n",
              "      <td>NaN</td>\n",
              "      <td>basketball</td>\n",
              "      <td>0</td>\n",
              "      <td>Hard</td>\n",
              "      <td>3</td>\n",
              "      <td>7</td>\n",
              "    </tr>\n",
              "    <tr>\n",
              "      <th>438</th>\n",
              "      <td>stern-wind</td>\n",
              "      <td>464103-465376</td>\n",
              "      <td>sailboat</td>\n",
              "      <td>strong</td>\n",
              "      <td>forceful</td>\n",
              "      <td>NaN</td>\n",
              "      <td>NaN</td>\n",
              "      <td>NaN</td>\n",
              "      <td>NaN</td>\n",
              "      <td>NaN</td>\n",
              "      <td>sailboat</td>\n",
              "      <td>1</td>\n",
              "      <td>Hard</td>\n",
              "      <td>3</td>\n",
              "      <td>7</td>\n",
              "    </tr>\n",
              "    <tr>\n",
              "      <th>436</th>\n",
              "      <td>regret-rude</td>\n",
              "      <td>464103-465376</td>\n",
              "      <td>actions</td>\n",
              "      <td>bad</td>\n",
              "      <td>past</td>\n",
              "      <td>NaN</td>\n",
              "      <td>NaN</td>\n",
              "      <td>NaN</td>\n",
              "      <td>NaN</td>\n",
              "      <td>NaN</td>\n",
              "      <td>bad</td>\n",
              "      <td>1</td>\n",
              "      <td>Hard</td>\n",
              "      <td>3</td>\n",
              "      <td>7</td>\n",
              "    </tr>\n",
              "    <tr>\n",
              "      <th>399</th>\n",
              "      <td>giant-subtle</td>\n",
              "      <td>463960-455649</td>\n",
              "      <td>nimble</td>\n",
              "      <td>noise</td>\n",
              "      <td>large</td>\n",
              "      <td>elephant</td>\n",
              "      <td>NaN</td>\n",
              "      <td>NaN</td>\n",
              "      <td>NaN</td>\n",
              "      <td>NaN</td>\n",
              "      <td>nimble</td>\n",
              "      <td>0</td>\n",
              "      <td>Hard</td>\n",
              "      <td>3</td>\n",
              "      <td>8</td>\n",
              "    </tr>\n",
              "    <tr>\n",
              "      <th>1093</th>\n",
              "      <td>ash-snake</td>\n",
              "      <td>486051-473300</td>\n",
              "      <td>shed</td>\n",
              "      <td>desert</td>\n",
              "      <td>burn</td>\n",
              "      <td>NaN</td>\n",
              "      <td>NaN</td>\n",
              "      <td>NaN</td>\n",
              "      <td>NaN</td>\n",
              "      <td>NaN</td>\n",
              "      <td>desert</td>\n",
              "      <td>1</td>\n",
              "      <td>Hard</td>\n",
              "      <td>3</td>\n",
              "      <td>7</td>\n",
              "    </tr>\n",
              "  </tbody>\n",
              "</table>\n",
              "<p>1456 rows × 15 columns</p>\n",
              "</div>"
            ],
            "text/plain": [
              "       wordpair_id         gameID clueOption1 clueOption2 clueOption3  \\\n",
              "731      jump-leap  473184-487224        high        legs       quick   \n",
              "729     gums-teeth  473184-487224     dentist     hygiene    flossing   \n",
              "850       oak-tree  473749-473360        wood       earth      states   \n",
              "849        new-old  473749-473360        time     measure    antonyms   \n",
              "848     lion-tiger  473749-473360         cat      animal        roar   \n",
              "...            ...            ...         ...         ...         ...   \n",
              "439   ankle-travel  464255-486078    cross up  basketball        walk   \n",
              "438     stern-wind  464103-465376    sailboat      strong    forceful   \n",
              "436    regret-rude  464103-465376     actions         bad        past   \n",
              "399   giant-subtle  463960-455649      nimble       noise       large   \n",
              "1093     ash-snake  486051-473300        shed      desert        burn   \n",
              "\n",
              "     clueOption4 clueOption5 clueOption6 clueOption7 clueOption8   clueFinal  \\\n",
              "731          NaN         NaN         NaN         NaN         NaN        frog   \n",
              "729          NaN         NaN         NaN         NaN         NaN      dental   \n",
              "850          NaN         NaN         NaN         NaN         NaN        wood   \n",
              "849          NaN         NaN         NaN         NaN         NaN        time   \n",
              "848          NaN         NaN         NaN         NaN         NaN         cat   \n",
              "...          ...         ...         ...         ...         ...         ...   \n",
              "439          NaN         NaN         NaN         NaN         NaN  basketball   \n",
              "438          NaN         NaN         NaN         NaN         NaN    sailboat   \n",
              "436          NaN         NaN         NaN         NaN         NaN         bad   \n",
              "399     elephant         NaN         NaN         NaN         NaN      nimble   \n",
              "1093         NaN         NaN         NaN         NaN         NaN      desert   \n",
              "\n",
              "      Acc Level  Ranking  Number of Clues  \n",
              "731     1  Easy        1                7  \n",
              "729     1  Easy        1                7  \n",
              "850     1  Easy        1                7  \n",
              "849     1  Easy        1                7  \n",
              "848     1  Easy        1                7  \n",
              "...   ...   ...      ...              ...  \n",
              "439     0  Hard        3                7  \n",
              "438     1  Hard        3                7  \n",
              "436     1  Hard        3                7  \n",
              "399     0  Hard        3                8  \n",
              "1093    1  Hard        3                7  \n",
              "\n",
              "[1456 rows x 15 columns]"
            ]
          },
          "metadata": {},
          "output_type": "display_data"
        },
        {
          "data": {
            "image/png": "[encoded data removed]",
            "text/plain": [
              "<Figure size 436x360 with 1 Axes>"
            ]
          },
          "metadata": {
            "needs_background": "light"
          },
          "output_type": "display_data"
        }
      ],
      "source": [
        "# perform regplot by level with Acc and number of clues per row\n",
        "temp_online_clues = online_clues.sort_values(['Ranking'])\n",
        "display(temp_online_clues)\n",
        "sns.lmplot(data = temp_online_clues, x = 'Number of Clues', y = 'Acc', hue = 'Level')\n",
        "plt.ylim([0-0.1, 1+0.1])\n",
        "plt.savefig(os.path.join(plot_path, 'regression_acc_by_num_clues_per_level.png'))\n",
        "plt.show()"
      ]
    },
    {
      "cell_type": "markdown",
      "metadata": {
        "id": "X-QmA2MtCw8S"
      },
      "source": [
        "## - We evaluate whether the responses show signatures of clustering and/or foraging typically found in semantic retrieval tasks. we use a patchy semantic space and ask whether the candidate responses show any evidence of transitions within and outside the patch, and whether these are related to correct responses from the listener. "
      ]
    },
    {
      "cell_type": "code",
      "execution_count": 36,
      "metadata": {
        "id": "WgLWjXjsCxiV"
      },
      "outputs": [],
      "source": [
        "def _patch1(data = online):\n",
        "  wpid = data['wordpair_id'].unique()\n",
        "  rows = []\n",
        "  for t in wpid:\n",
        "    temp = online[online['wordpair_id'] == t].reset_index()\n",
        "    temp = temp.loc[:, ['wordpair_id', 'clueOption1', 'target1', 'target2', 'Level', 'Acc', 'clueFinal', 'index']].reset_index(drop = True)\n",
        "    row_frame = temp[['clueFinal', 'Acc', 'index', 'Level']]\n",
        "    row_frame['wordpair_id'] = t\n",
        "    row_frame['target1'] = temp.loc[0, 'target1']\n",
        "    row_frame['target2'] = temp.loc[0, 'target2']\n",
        "    clues = list(temp['clueOption1'].unique())\n",
        "    row_frame['words_in_patch'] = ','.join(clues)\n",
        "    row_frame['patchsize'] = len(clues)\n",
        "    row_frame['Level'] = temp.loc[0, 'Level']\n",
        "\n",
        "    rows.append(row_frame)\n",
        "\n",
        "  frame = pd.concat(rows).reset_index(drop = True).rename({'index': 'row_id'}, axis = 1)\n",
        "  return frame\n",
        "\n",
        "def _patch2(p1, source = 'glove'):\n",
        "  if source == 'glove':\n",
        "    source_emb = glove\n",
        "  else:\n",
        "    source_emb = swow\n",
        "  frame = p1.copy().drop('words_in_patch', axis = 1)\n",
        "  rows = []\n",
        "  wpid = frame['wordpair_id'].unique()\n",
        "  for r in tqdm(wpid):\n",
        "    d = frame[frame['wordpair_id'] == r].reset_index()\n",
        "    avg_vector = np.mean(np.c_[source_emb[d.loc[0,'target1']], source_emb[d.loc[0, 'target2']]], axis = 1)\n",
        "    words_frame = pd.DataFrame.from_dict([{'word': w, 'sim': cosine_similarity(source_emb[w], avg_vector)} for w in glove.columns.to_list()])\n",
        "    words_frame = words_frame.sort_values('sim', ascending = False)[~words_frame['word'].isin([d.loc[0,'target1'], d.loc[0, 'target2']])].head(d.loc[0, 'patchsize'])\n",
        "    patch_words = ','.join(words_frame['word'])\n",
        "    row = {'wordpair_id': r, 'words_in_patch': patch_words}\n",
        "    rows.append(row)\n",
        "  dat = pd.DataFrame.from_dict(rows)\n",
        "  frame = frame.merge(dat, on = 'wordpair_id', how = 'outer')\n",
        "  return frame\n",
        "\n",
        "def _movement(words):\n",
        "  first, second = words\n",
        "  if first[1] == 1 and second[1] == 1:\n",
        "    return 'In-In'\n",
        "  elif first[1] == 1 and second[1] == 0:\n",
        "    return 'In-Out'\n",
        "  elif first[1] == 0 and second[1] == 1:\n",
        "    return 'Out-In'\n",
        "  else:\n",
        "    return 'Out-Out'\n",
        "\n",
        "def _determine_movement(patch_data, typ):\n",
        "  temp_options = online[['wordpair_id', 'clueOption1', 'clueOption2', 'clueOption3','clueOption4', 'clueOption5', 'clueOption6', 'clueOption7', 'clueOption8', 'clueFinal', 'Acc']]\n",
        "  temp_options = temp_options.reset_index().rename({'index': 'row_id'}, axis = 1)\n",
        "  rows = []\n",
        "  for i in tqdm(range(len(temp_options))):\n",
        "    r = {}\n",
        "    row = temp_options.loc[i, :].dropna()\n",
        "    r['wordpair_id'] = row.wordpair_id\n",
        "    r['In-In'] = 0\n",
        "    r['In-Out'] = 0\n",
        "    r['Out-In'] = 0\n",
        "    r['Out-Out'] = 0\n",
        "\n",
        "    words = list(row.drop(['wordpair_id', 'Acc', 'clueFinal']).to_list())\n",
        "    words = [w for w in words if isinstance(w, str)]\n",
        "    patch_wordpair = patch_data.loc[patch_data['wordpair_id'] == row.wordpair_id, :]\n",
        "    words_in_patch = [(w, 1) if w in patch_wordpair['words_in_patch'].to_list()[0].split(',') else (w, 0) for w in words ]\n",
        "    perms = [(words_in_patch[i], words_in_patch[i+1]) for i in range(0, len(words_in_patch)-1)]\n",
        "    movements = pd.Series([_movement(p) for p in perms])\n",
        "    ps = pd.DataFrame(movements.value_counts().reset_index()).rename({'index': 'Type', 0: 'Count'}, axis = 1)\n",
        "\n",
        "    ps_d = dict(zip(ps['Type'], ps['Count']))\n",
        "    for k, v in ps_d.items():\n",
        "      r[k] = v\n",
        "    r['Acc'] = row.Acc\n",
        "    r['ClueFinal'] = row.clueFinal\n",
        "    r['row_id'] = row.row_id\n",
        "    rows.append(r)\n",
        "    \n",
        "  total = pd.DataFrame.from_dict(rows)\n",
        "  total['PatchMethod'] = typ\n",
        "  return total\n",
        "\n",
        "def _join_data(p1, p2, p3 = None):\n",
        "  join_cols = ['wordpair_id', 'target1', 'target2', 'patchsize', 'Level', 'clueFinal', 'Acc', 'row_id']\n",
        "  if p3 is not None:\n",
        "    interp_data = pd.merge(p1, p2, on = join_cols, suffixes = ('_num_unique', '_glove'))\n",
        "    joined_data = pd.merge(interp_data, p3, on = join_cols).rename({'words_in_patch': 'words_in_patch_swow'}, axis = 1)\n",
        "  else:\n",
        "    joined_data = pd.merge(p1, p2, on = join_cols, suffixes=('_num_unique', '_glove'))\n",
        "\n",
        "  for typ in ['glove', 'swow']:\n",
        "    sim_word_name = f'Similar Words ({typ})'\n",
        "    joined_data[sim_word_name] = [','.join(list(set(joined_data.loc[i, 'words_in_patch_num_unique'].split(',')) &  set(joined_data.loc[i, f'words_in_patch_{typ}'].split(',')))).strip() for i in range(len(joined_data))]\n",
        "    joined_data[f'Similar Words Size ({typ})'] = joined_data[sim_word_name].apply(lambda x: len(x.split(',')) if ',' in x else 0)\n",
        "    joined_data[f'Dissimilar Words ({typ})'] = [','.join(list((Counter(joined_data.loc[i, 'words_in_patch_num_unique'].split(',')) - Counter(joined_data.loc[i, f'words_in_patch_{typ}'].split(','))).elements())) for i in range(len(joined_data))]\n",
        "    joined_data[f'Dissimilar Words Size ({typ})'] = joined_data[f'Dissimilar Words ({typ})'].apply(lambda x: len(x.split(',')) if ',' in x else 0)\n",
        "    joined_data[f'Overlap Similarity ({typ})'] = [joined_data.loc[i, f'Similar Words Size ({typ})'] / joined_data.loc[i, 'patchsize'] for i in range(len(joined_data))]\n",
        "  return joined_data"
      ]
    },
    {
      "cell_type": "code",
      "execution_count": 37,
      "metadata": {
        "colab": {
          "base_uri": "https://localhost:8080/"
        },
        "id": "Q5uuWHK7W47w",
        "outputId": "5ba2fcfe-1773-42cd-aa6e-7bf49ebb3a82"
      },
      "outputs": [
        {
          "name": "stderr",
          "output_type": "stream",
          "text": [
            "100%|██████████| 30/30 [00:10<00:00,  2.82it/s]\n",
            "100%|██████████| 30/30 [00:12<00:00,  2.45it/s]\n",
            "100%|██████████| 1456/1456 [00:05<00:00, 272.52it/s]\n",
            "100%|██████████| 1456/1456 [00:05<00:00, 275.82it/s]\n",
            "100%|██████████| 1456/1456 [00:05<00:00, 285.77it/s]\n"
          ]
        }
      ],
      "source": [
        "patch1 = _patch1()\n",
        "patch2_glove = _patch2(patch1, source = 'glove')\n",
        "patch2_swow = _patch2(patch1, source = 'swow')\n",
        "movement1 = _determine_movement(patch1, 'NumberOfUniqueClues')\n",
        "movement2_glove = _determine_movement(patch2_glove, 'TopNByAvgVectorGloveEmbeddings')\n",
        "movement2_swow = _determine_movement(patch2_swow, 'TopNByAvgVectorSWOWEmbeddings')\n",
        "total = pd.concat([movement1, movement2_glove, movement2_swow], axis =0, ignore_index=True)\n",
        "joined_data = _join_data(patch1, patch2_glove, patch2_swow)"
      ]
    },
    {
      "cell_type": "code",
      "execution_count": 38,
      "metadata": {
        "id": "SGf26gvlgVOX"
      },
      "outputs": [],
      "source": [
        "#write out joined data and total to csv\n",
        "joined_data.to_csv(r\"./data/processed/joined_patch_movement.csv\", index = False)\n",
        "total.to_csv(r\"./data/processed/total_patch_movement.csv\", index = False)"
      ]
    },
    {
      "cell_type": "markdown",
      "metadata": {
        "id": "BITz5BC4fzd3"
      },
      "source": [
        "- Patches are defined using user-generated data and average vector method, correlation is reported"
      ]
    },
    {
      "cell_type": "code",
      "execution_count": 39,
      "metadata": {
        "colab": {
          "base_uri": "https://localhost:8080/"
        },
        "id": "uEIUNmayfz9T",
        "outputId": "07f334bd-3ba6-4221-be22-5038c05a81c1"
      },
      "outputs": [
        {
          "name": "stdout",
          "output_type": "stream",
          "text": [
            "Pearsons correlation: -0.444\n",
            "Spearmans correlation: -0.414\n"
          ]
        }
      ],
      "source": [
        "from scipy.stats import pearsonr, spearmanr\n",
        "corr, _ = pearsonr(patch1['Acc'], patch1['patchsize'])\n",
        "print('Pearsons correlation: %.3f' % corr)\n",
        "corr, _ = spearmanr(patch1['Acc'], patch1['patchsize'])\n",
        "print('Spearmans correlation: %.3f' % corr)"
      ]
    },
    {
      "cell_type": "markdown",
      "metadata": {
        "id": "JUFxVK-KXVb7"
      },
      "source": [
        "  - Patch size vs. accuracy relationship reported"
      ]
    },
    {
      "cell_type": "code",
      "execution_count": 40,
      "metadata": {
        "colab": {
          "base_uri": "https://localhost:8080/",
          "height": 513
        },
        "id": "nze51_voXAEi",
        "outputId": "ad3b7280-5271-40cc-ae9e-1ed4db970e2c"
      },
      "outputs": [
        {
          "data": {
            "image/png": "[encoded data removed]",
            "text/plain": [
              "<Figure size 864x576 with 1 Axes>"
            ]
          },
          "metadata": {
            "needs_background": "light"
          },
          "output_type": "display_data"
        }
      ],
      "source": [
        "fig, ax = plt.subplots(figsize = (12, 8))\n",
        "sns.regplot(data = joined_data[['Acc', 'patchsize']], x = 'patchsize', y = 'Acc', ax = ax)\n",
        "plt.xlabel(\"Patch Size\")\n",
        "plt.ylabel(\"Accuracy\")\n",
        "plt.title(\"Accuracy by Patch Size of all Instances\")\n",
        "plt.savefig(os.path.join(plot_path, 'regression_acc_by_patchsize.png'))\n",
        "plt.show()"
      ]
    },
    {
      "cell_type": "markdown",
      "metadata": {
        "id": "5g-_oHgPXa9-"
      },
      "source": [
        "  - Proportion of transitions reported"
      ]
    },
    {
      "cell_type": "code",
      "execution_count": 41,
      "metadata": {
        "colab": {
          "base_uri": "https://localhost:8080/",
          "height": 906
        },
        "id": "gUnW6e2KXcwd",
        "outputId": "6fe8d95c-880b-4445-ba83-65d33ebc83a9"
      },
      "outputs": [
        {
          "data": {
            "text/html": [
              "<div>\n",
              "<style scoped>\n",
              "    .dataframe tbody tr th:only-of-type {\n",
              "        vertical-align: middle;\n",
              "    }\n",
              "\n",
              "    .dataframe tbody tr th {\n",
              "        vertical-align: top;\n",
              "    }\n",
              "\n",
              "    .dataframe thead th {\n",
              "        text-align: right;\n",
              "    }\n",
              "</style>\n",
              "<table border=\"1\" class=\"dataframe\">\n",
              "  <thead>\n",
              "    <tr style=\"text-align: right;\">\n",
              "      <th></th>\n",
              "      <th>PatchMethod</th>\n",
              "      <th>Movement</th>\n",
              "      <th>Amount of Movement</th>\n",
              "    </tr>\n",
              "  </thead>\n",
              "  <tbody>\n",
              "    <tr>\n",
              "      <th>0</th>\n",
              "      <td>NumberOfUniqueClues</td>\n",
              "      <td>In-In</td>\n",
              "      <td>0.333696</td>\n",
              "    </tr>\n",
              "    <tr>\n",
              "      <th>1</th>\n",
              "      <td>NumberOfUniqueClues</td>\n",
              "      <td>In-Out</td>\n",
              "      <td>0.377753</td>\n",
              "    </tr>\n",
              "    <tr>\n",
              "      <th>2</th>\n",
              "      <td>NumberOfUniqueClues</td>\n",
              "      <td>Out-In</td>\n",
              "      <td>0.112224</td>\n",
              "    </tr>\n",
              "    <tr>\n",
              "      <th>3</th>\n",
              "      <td>NumberOfUniqueClues</td>\n",
              "      <td>Out-Out</td>\n",
              "      <td>0.176327</td>\n",
              "    </tr>\n",
              "    <tr>\n",
              "      <th>4</th>\n",
              "      <td>TopNByAvgVectorGloveEmbeddings</td>\n",
              "      <td>In-In</td>\n",
              "      <td>0.035190</td>\n",
              "    </tr>\n",
              "    <tr>\n",
              "      <th>5</th>\n",
              "      <td>TopNByAvgVectorGloveEmbeddings</td>\n",
              "      <td>In-Out</td>\n",
              "      <td>0.137626</td>\n",
              "    </tr>\n",
              "    <tr>\n",
              "      <th>6</th>\n",
              "      <td>TopNByAvgVectorGloveEmbeddings</td>\n",
              "      <td>Out-In</td>\n",
              "      <td>0.117050</td>\n",
              "    </tr>\n",
              "    <tr>\n",
              "      <th>7</th>\n",
              "      <td>TopNByAvgVectorGloveEmbeddings</td>\n",
              "      <td>Out-Out</td>\n",
              "      <td>0.710134</td>\n",
              "    </tr>\n",
              "    <tr>\n",
              "      <th>8</th>\n",
              "      <td>TopNByAvgVectorSWOWEmbeddings</td>\n",
              "      <td>In-In</td>\n",
              "      <td>0.065416</td>\n",
              "    </tr>\n",
              "    <tr>\n",
              "      <th>9</th>\n",
              "      <td>TopNByAvgVectorSWOWEmbeddings</td>\n",
              "      <td>In-Out</td>\n",
              "      <td>0.194621</td>\n",
              "    </tr>\n",
              "    <tr>\n",
              "      <th>10</th>\n",
              "      <td>TopNByAvgVectorSWOWEmbeddings</td>\n",
              "      <td>Out-In</td>\n",
              "      <td>0.151910</td>\n",
              "    </tr>\n",
              "    <tr>\n",
              "      <th>11</th>\n",
              "      <td>TopNByAvgVectorSWOWEmbeddings</td>\n",
              "      <td>Out-Out</td>\n",
              "      <td>0.588052</td>\n",
              "    </tr>\n",
              "  </tbody>\n",
              "</table>\n",
              "</div>"
            ],
            "text/plain": [
              "                       PatchMethod Movement  Amount of Movement\n",
              "0              NumberOfUniqueClues    In-In            0.333696\n",
              "1              NumberOfUniqueClues   In-Out            0.377753\n",
              "2              NumberOfUniqueClues   Out-In            0.112224\n",
              "3              NumberOfUniqueClues  Out-Out            0.176327\n",
              "4   TopNByAvgVectorGloveEmbeddings    In-In            0.035190\n",
              "5   TopNByAvgVectorGloveEmbeddings   In-Out            0.137626\n",
              "6   TopNByAvgVectorGloveEmbeddings   Out-In            0.117050\n",
              "7   TopNByAvgVectorGloveEmbeddings  Out-Out            0.710134\n",
              "8    TopNByAvgVectorSWOWEmbeddings    In-In            0.065416\n",
              "9    TopNByAvgVectorSWOWEmbeddings   In-Out            0.194621\n",
              "10   TopNByAvgVectorSWOWEmbeddings   Out-In            0.151910\n",
              "11   TopNByAvgVectorSWOWEmbeddings  Out-Out            0.588052"
            ]
          },
          "metadata": {},
          "output_type": "display_data"
        },
        {
          "data": {
            "image/png": "[encoded data removed]",
            "text/plain": [
              "<Figure size 864x576 with 1 Axes>"
            ]
          },
          "metadata": {
            "needs_background": "light"
          },
          "output_type": "display_data"
        }
      ],
      "source": [
        "p = total.merge(online[['wordpair_id', 'AvgAcc']], on = 'wordpair_id')\n",
        "p = p.melt(id_vars = ['wordpair_id', 'ClueFinal', 'AvgAcc', 'Acc', 'PatchMethod', 'row_id']).drop_duplicates().reset_index(drop = True)\n",
        "p = p.rename({'variable': 'Movement', 'value': 'Amount of Movement', 'AvgAcc': 'Average Accuracy at Wordpair'}, axis = 1)\n",
        "tp = p[['wordpair_id', 'Movement', 'Amount of Movement', 'PatchMethod']].groupby(['PatchMethod','wordpair_id', 'Movement']).agg({'Amount of Movement': 'sum'})\n",
        "tp = tp.groupby(level=[0,1]).apply(lambda x: x / x.sum()).reset_index()\n",
        "tp = tp.groupby(['PatchMethod', 'Movement']).mean().reset_index()\n",
        "display(tp)\n",
        "\n",
        "fig, ax = plt.subplots(figsize = (12, 8))\n",
        "sns.barplot(data = tp, x = 'Movement', y = 'Amount of Movement', hue = 'PatchMethod', ax = ax)\n",
        "plt.ylabel('Proportion of Amount of Movement')\n",
        "plt.savefig(os.path.join(plot_path, 'barplot_movement_patchmethod.png'))\n",
        "plt.show()"
      ]
    },
    {
      "cell_type": "markdown",
      "metadata": {
        "id": "fb16eO2-XdNl"
      },
      "source": [
        " - Accuracy as a function of number of transitions of each type reported"
      ]
    },
    {
      "cell_type": "code",
      "execution_count": 42,
      "metadata": {
        "colab": {
          "base_uri": "https://localhost:8080/",
          "height": 313
        },
        "id": "AwP5wPRKXevJ",
        "outputId": "a44e27cd-7bfb-455a-9e44-12fa6c43e72d"
      },
      "outputs": [
        {
          "data": {
            "image/png": "[encoded data removed]",
            "text/plain": [
              "<Figure size 652x288 with 1 Axes>"
            ]
          },
          "metadata": {
            "needs_background": "light"
          },
          "output_type": "display_data"
        }
      ],
      "source": [
        "fixed_patch1 = patch1.drop(['clueFinal', 'Acc'], axis = 1).reset_index(drop = True)[['wordpair_id', 'Level', 'patchsize']]\n",
        "avg_wp = online[['wordpair_id', 'Level', 'Acc']].groupby(['wordpair_id', 'Level']).mean().reset_index()\n",
        "total_g = fixed_patch1.merge(avg_wp, on = ['wordpair_id', 'Level']).sort_values(['wordpair_id', 'Level'], ascending = [True, False]).reset_index(drop = True)\n",
        "sns.lmplot(x = 'patchsize', y = 'Acc', hue = 'Level', data = total_g, size = 4, aspect = 2, palette='Set1', markers = ['o', 'x', '+'])\n",
        "plt.ylabel('Accuracy')\n",
        "plt.xlabel('Patchsize')\n",
        "plt.title('At the Wordpair Level')\n",
        "plt.savefig(os.path.join(plot_path, \"regression_acc_by_patchsize_per_level_at_wordpair.png\"))\n",
        "plt.show()"
      ]
    },
    {
      "cell_type": "markdown",
      "metadata": {
        "id": "qjTBYwuiXfP4"
      },
      "source": [
        " - Compute similarity between successive responses\n",
        "  - Sim of ClueOption1 to ClueOption2, Cluetopion2 to clueoption3\n",
        "  - Do this over the Level\n",
        "  - Lineplot for overall average\n",
        "  - write out to a .csv file"
      ]
    },
    {
      "cell_type": "code",
      "execution_count": 44,
      "metadata": {
        "colab": {
          "base_uri": "https://localhost:8080/"
        },
        "id": "G2lvDSDZXgYK",
        "outputId": "bc644d84-9377-416d-e2be-96c5c4be4a66"
      },
      "outputs": [
        {
          "name": "stderr",
          "output_type": "stream",
          "text": [
            "100%|██████████| 1456/1456 [00:00<00:00, 2001.66it/s]\n",
            "100%|██████████| 1456/1456 [00:00<00:00, 2042.34it/s]\n"
          ]
        }
      ],
      "source": [
        "succ_clues = []\n",
        "for sourc in ['glove', 'swow']:\n",
        "  if sourc == 'glove':\n",
        "    source_emb = glove\n",
        "  else:\n",
        "    source_emb = swow\n",
        "\n",
        "  for i in tqdm(range(len(online_clues))):\n",
        "    row_dict = {}\n",
        "    row = dict(online_clues.loc[i, :].dropna())\n",
        "    row_dict['Level'] = row['Level']\n",
        "    row_dict['Source'] = sourc\n",
        "    for j in range(1, 8):\n",
        "      curr = f\"clueOption{j}\"\n",
        "      next = f\"clueOption{j+1}\"\n",
        "      if next in row:\n",
        "        curr_emb_word = return_emb(row[curr], glove)\n",
        "        next_emb_word = return_emb(row[next], glove)\n",
        "        if not isinstance(curr_emb_word, float) and not isinstance(next_emb_word, float):\n",
        "          sim = cosine_similarity(source_emb[curr_emb_word], source_emb[next_emb_word])\n",
        "        else:\n",
        "          sim = np.NaN\n",
        "      else:\n",
        "        sim = np.NaN\n",
        "      move = f\"{j}->{j+1}\"\n",
        "      row_dict[move] = sim\n",
        "      \n",
        "    succ_clues.append(row_dict)\n",
        "\n",
        "succession = pd.DataFrame.from_dict(succ_clues)\n",
        "succession = succession.melt(id_vars = ['Level', 'Source']).rename({'variable': \"Movement\", \"value\": \"Similarity\"}, axis = 1)"
      ]
    },
    {
      "cell_type": "code",
      "execution_count": 45,
      "metadata": {
        "colab": {
          "base_uri": "https://localhost:8080/",
          "height": 369
        },
        "id": "f_dq4TX6ceJS",
        "outputId": "a8818982-6ad3-4334-f943-7f9afe0a7878"
      },
      "outputs": [
        {
          "data": {
            "image/png": "[encoded data removed]",
            "text/plain": [
              "<Figure size 796x360 with 2 Axes>"
            ]
          },
          "metadata": {
            "needs_background": "light"
          },
          "output_type": "display_data"
        }
      ],
      "source": [
        "# plot again with standard error maybe change to barplot\n",
        "sns.catplot(data = succession, x = 'Movement', y = 'Similarity', hue = 'Level', col = 'Source',\n",
        "             hue_order = ['Easy', 'Medium', 'Hard'], kind = 'bar', palette = ['green', 'yellow', 'red'])\n",
        "plt.savefig(os.path.join(plot_path, \"barplot_similarity_per_level_per_emebedding_given_movement.png\"))\n",
        "plt.show()"
      ]
    },
    {
      "cell_type": "markdown",
      "metadata": {
        "id": "S6G4NaPAXgy4"
      },
      "source": [
        "  - Compute adjusted ratio of clustering\n",
        "    - https://rdrr.io/github/ggreeley/MemoryOrg/man/ARC_correct.html\n",
        "    - for this, we need a dataframe that records 1 or 0 for each clue candidate being an “in” or “out” transition in separate columns for example for the wordpair “quick-glow” we have the candidates “lighter, match, fire” then we need 3 columns signifying whether lighter was an in/out transition, match was in/out, and fire was in/out then we can compute the ARC\n"
      ]
    },
    {
      "cell_type": "code",
      "execution_count": 47,
      "metadata": {
        "colab": {
          "base_uri": "https://localhost:8080/"
        },
        "id": "FqgPWmv1XhRH",
        "outputId": "fec947d9-3310-4744-d8f6-3019a81a2057"
      },
      "outputs": [
        {
          "name": "stderr",
          "output_type": "stream",
          "text": [
            "100%|██████████| 1456/1456 [00:01<00:00, 1254.47it/s]\n"
          ]
        }
      ],
      "source": [
        "patches = joined_data[['wordpair_id', 'words_in_patch_num_unique', 'words_in_patch_glove', 'words_in_patch_swow']].drop_duplicates().reset_index(drop = True)\n",
        "patch_clues = online_clues.merge(patches, on = 'wordpair_id')\n",
        "records = []\n",
        "for i in tqdm(range(len(patch_clues))):\n",
        "  row = patch_clues.loc[i, :].dropna()\n",
        "  patches = {'num_unique': row.words_in_patch_num_unique.split(','), \n",
        "             'glove': row.words_in_patch_glove.split(','), \n",
        "             'swow': row.words_in_patch_swow.split(',')\n",
        "  }\n",
        "  co = list(map(lambda x: 'clueOption' + str(x), range(1, 9)))\n",
        "  \n",
        "  for typ, p in patches.items():\n",
        "    for c in co:\n",
        "      record = {}\n",
        "      record['wordpair_id'] = row.wordpair_id\n",
        "      record['gameID'] = row.gameID\n",
        "      record['clueOption'] = c[-1]\n",
        "      record['Method'] = typ\n",
        "\n",
        "      if c in row.index.to_list():\n",
        "        record['clueOption_word'] = row[c]\n",
        "        if row[c] in p:\n",
        "          record[\"In/Out\"] = 'In'\n",
        "          records.append(record)\n",
        "        else:\n",
        "          record[f\"In/Out\"] = 'Out'\n",
        "          records.append(record)\n",
        "      else:\n",
        "        record['clueOption_word'] = np.NaN\n",
        "        record[\"In/Out\"] = np.NaN\n",
        "        records.append(record)\n",
        "total_records = pd.DataFrame.from_dict(records)[['wordpair_id', 'gameID', 'clueOption', 'clueOption_word', 'Method', 'In/Out']]\n",
        "total_records = total_records.sort_values(['wordpair_id', 'gameID', 'clueOption', 'Method'])\n",
        "total_records.to_csv(\"./data/processed/arc_data.csv\", index = False)"
      ]
    },
    {
      "cell_type": "code",
      "execution_count": 48,
      "metadata": {
        "colab": {
          "base_uri": "https://localhost:8080/",
          "height": 423
        },
        "id": "bsIX69-QapHg",
        "outputId": "5c6b4cba-1efb-4c33-f1c2-a30b8e70a1bc"
      },
      "outputs": [
        {
          "data": {
            "text/html": [
              "<div>\n",
              "<style scoped>\n",
              "    .dataframe tbody tr th:only-of-type {\n",
              "        vertical-align: middle;\n",
              "    }\n",
              "\n",
              "    .dataframe tbody tr th {\n",
              "        vertical-align: top;\n",
              "    }\n",
              "\n",
              "    .dataframe thead th {\n",
              "        text-align: right;\n",
              "    }\n",
              "</style>\n",
              "<table border=\"1\" class=\"dataframe\">\n",
              "  <thead>\n",
              "    <tr style=\"text-align: right;\">\n",
              "      <th></th>\n",
              "      <th>wordpair_id</th>\n",
              "      <th>gameID</th>\n",
              "      <th>clueOption</th>\n",
              "      <th>clueOption_word</th>\n",
              "      <th>Method</th>\n",
              "      <th>In/Out</th>\n",
              "    </tr>\n",
              "  </thead>\n",
              "  <tbody>\n",
              "    <tr>\n",
              "      <th>6656</th>\n",
              "      <td>ankle-travel</td>\n",
              "      <td>455383-451866</td>\n",
              "      <td>1</td>\n",
              "      <td>run</td>\n",
              "      <td>glove</td>\n",
              "      <td>Out</td>\n",
              "    </tr>\n",
              "    <tr>\n",
              "      <th>6648</th>\n",
              "      <td>ankle-travel</td>\n",
              "      <td>455383-451866</td>\n",
              "      <td>1</td>\n",
              "      <td>run</td>\n",
              "      <td>num_unique</td>\n",
              "      <td>In</td>\n",
              "    </tr>\n",
              "    <tr>\n",
              "      <th>6664</th>\n",
              "      <td>ankle-travel</td>\n",
              "      <td>455383-451866</td>\n",
              "      <td>1</td>\n",
              "      <td>run</td>\n",
              "      <td>swow</td>\n",
              "      <td>Out</td>\n",
              "    </tr>\n",
              "    <tr>\n",
              "      <th>6657</th>\n",
              "      <td>ankle-travel</td>\n",
              "      <td>455383-451866</td>\n",
              "      <td>2</td>\n",
              "      <td>dance</td>\n",
              "      <td>glove</td>\n",
              "      <td>Out</td>\n",
              "    </tr>\n",
              "    <tr>\n",
              "      <th>6649</th>\n",
              "      <td>ankle-travel</td>\n",
              "      <td>455383-451866</td>\n",
              "      <td>2</td>\n",
              "      <td>dance</td>\n",
              "      <td>num_unique</td>\n",
              "      <td>Out</td>\n",
              "    </tr>\n",
              "    <tr>\n",
              "      <th>...</th>\n",
              "      <td>...</td>\n",
              "      <td>...</td>\n",
              "      <td>...</td>\n",
              "      <td>...</td>\n",
              "      <td>...</td>\n",
              "      <td>...</td>\n",
              "    </tr>\n",
              "    <tr>\n",
              "      <th>34926</th>\n",
              "      <td>trauma-weird</td>\n",
              "      <td>491095-486542</td>\n",
              "      <td>7</td>\n",
              "      <td>NaN</td>\n",
              "      <td>num_unique</td>\n",
              "      <td>NaN</td>\n",
              "    </tr>\n",
              "    <tr>\n",
              "      <th>34942</th>\n",
              "      <td>trauma-weird</td>\n",
              "      <td>491095-486542</td>\n",
              "      <td>7</td>\n",
              "      <td>NaN</td>\n",
              "      <td>swow</td>\n",
              "      <td>NaN</td>\n",
              "    </tr>\n",
              "    <tr>\n",
              "      <th>34935</th>\n",
              "      <td>trauma-weird</td>\n",
              "      <td>491095-486542</td>\n",
              "      <td>8</td>\n",
              "      <td>NaN</td>\n",
              "      <td>glove</td>\n",
              "      <td>NaN</td>\n",
              "    </tr>\n",
              "    <tr>\n",
              "      <th>34927</th>\n",
              "      <td>trauma-weird</td>\n",
              "      <td>491095-486542</td>\n",
              "      <td>8</td>\n",
              "      <td>NaN</td>\n",
              "      <td>num_unique</td>\n",
              "      <td>NaN</td>\n",
              "    </tr>\n",
              "    <tr>\n",
              "      <th>34943</th>\n",
              "      <td>trauma-weird</td>\n",
              "      <td>491095-486542</td>\n",
              "      <td>8</td>\n",
              "      <td>NaN</td>\n",
              "      <td>swow</td>\n",
              "      <td>NaN</td>\n",
              "    </tr>\n",
              "  </tbody>\n",
              "</table>\n",
              "<p>34944 rows × 6 columns</p>\n",
              "</div>"
            ],
            "text/plain": [
              "        wordpair_id         gameID clueOption clueOption_word      Method  \\\n",
              "6656   ankle-travel  455383-451866          1             run       glove   \n",
              "6648   ankle-travel  455383-451866          1             run  num_unique   \n",
              "6664   ankle-travel  455383-451866          1             run        swow   \n",
              "6657   ankle-travel  455383-451866          2           dance       glove   \n",
              "6649   ankle-travel  455383-451866          2           dance  num_unique   \n",
              "...             ...            ...        ...             ...         ...   \n",
              "34926  trauma-weird  491095-486542          7             NaN  num_unique   \n",
              "34942  trauma-weird  491095-486542          7             NaN        swow   \n",
              "34935  trauma-weird  491095-486542          8             NaN       glove   \n",
              "34927  trauma-weird  491095-486542          8             NaN  num_unique   \n",
              "34943  trauma-weird  491095-486542          8             NaN        swow   \n",
              "\n",
              "      In/Out  \n",
              "6656     Out  \n",
              "6648      In  \n",
              "6664     Out  \n",
              "6657     Out  \n",
              "6649     Out  \n",
              "...      ...  \n",
              "34926    NaN  \n",
              "34942    NaN  \n",
              "34935    NaN  \n",
              "34927    NaN  \n",
              "34943    NaN  \n",
              "\n",
              "[34944 rows x 6 columns]"
            ]
          },
          "execution_count": 48,
          "metadata": {},
          "output_type": "execute_result"
        }
      ],
      "source": [
        "# add in gameID and all of clue options\n",
        "total_records"
      ]
    },
    {
      "cell_type": "markdown",
      "metadata": {},
      "source": [
        "- For each sequence of candidates generated by a person (lighter-flash-bright-lightning), find out whether they are closer to one word (quick) or another (glow) and assign a 1 or 2 to each candidate response (use swow embeddings for determining semantic similarity)"
      ]
    },
    {
      "cell_type": "code",
      "execution_count": 50,
      "metadata": {},
      "outputs": [],
      "source": [
        "class Predictions:\n",
        "  swow_similarity: pd.DataFrame = None\n",
        "\n",
        "  def __init__(self, \n",
        "               clue: pd.DataFrame = online_unique_clues, \n",
        "               emb_class: pd.DataFrame = swow):\n",
        "    self.processed_path = \"./data/processed\"\n",
        "    self.clue = clue\n",
        "    self.melted_clue = self._melt_clue()\n",
        "    self.embeddings = self._create_embeddings()\n",
        "\n",
        "    if Predictions.swow_similarity is None:\n",
        "      Predictions.swow_similarity = self.swow_similarity_clustering()\n",
        "\n",
        "  def _melt_clue(self):\n",
        "    melted_clue = pd.melt(self.clue, id_vars = ['wordpair_id', 'gameID', 'target1', 'target2']).sort_values(['target1', 'target2']).dropna().reset_index(drop = True)\n",
        "    melted_clue['value'] = melted_clue['value'].str.lower()\n",
        "    return melted_clue\n",
        "\n",
        "  def _create_embeddings(self):\n",
        "    all_words = pd.Series(self.melted_clue['target1'].to_list() + self.melted_clue['target2'].to_list() + self.melted_clue['value'].to_list())\n",
        "    unq_words = list(set(all_words))\n",
        "    rows = []\n",
        "    index_ = []\n",
        "    none_vector = [np.NaN for _ in range(300)]\n",
        "    for word in unq_words:\n",
        "\n",
        "      # collect the embeddings for the targets and the given word\n",
        "      try:\n",
        "        emb = swow[return_emb(word, source = 'swow')].values.tolist()\n",
        "      except:\n",
        "        emb = none_vector\n",
        "\n",
        "      rows.append(emb)\n",
        "      index_.append(word)\n",
        "    emb_data = pd.DataFrame(rows, index = index_)\n",
        "    emb_data = emb_data.reset_index().rename({'index': 'value'}, axis = 1)\n",
        "    return emb_data\n",
        "\n",
        "  def swow_similarity_clustering(self):\n",
        "    swow_path = os.path.join(self.processed_path, 'swow_similarity.csv')\n",
        "    if os.path.exists(swow_path):\n",
        "      return pd.read_csv(swow_path)\n",
        "\n",
        "    swow_data = self.melted_clue.copy()\n",
        "    closesttarget = []\n",
        "    for i, row in tqdm(self.melted_clue.iterrows()):\n",
        "      target1, target2, word = row.target1, row.target2, row.value\n",
        "      \n",
        "      # extract words and check if the word is None\n",
        "      target1 = self.embeddings[self.embeddings.value == target1].drop('value', axis = 1).values\n",
        "      target2 = self.embeddings[self.embeddings.value == target2].drop('value', axis = 1).values\n",
        "      word = self.embeddings[self.embeddings.value == word].drop('value', axis = 1).values\n",
        "\n",
        "      if word is not None:\n",
        "        sim_target1_word = cosine_similarity(target1, word)\n",
        "        sim_target2_word = cosine_similarity(target2, word)\n",
        "      else:\n",
        "        sim_target1_word = sim_target2_word = 0\n",
        "\n",
        "      # find similarity\n",
        "      if sim_target1_word > sim_target2_word:\n",
        "        closesttarget.append(1)\n",
        "      else:\n",
        "        closesttarget.append(2)\n",
        "\n",
        "    swow_data['Prediction_SWOW'] = closesttarget\n",
        "    swow_data = swow_data.sort_values(['wordpair_id', 'gameID', 'variable']).reset_index(drop = True)\n",
        "    swow_data.to_csv(swow_path, index = False)\n",
        "    return swow_data\n"
      ]
    },
    {
      "cell_type": "code",
      "execution_count": 51,
      "metadata": {},
      "outputs": [
        {
          "name": "stderr",
          "output_type": "stream",
          "text": [
            "4821it [00:12, 387.80it/s]\n"
          ]
        }
      ],
      "source": [
        "predictions = Predictions()"
      ]
    }
  ],
  "metadata": {
    "colab": {
      "authorship_tag": "ABX9TyOVXA20kgbvBp2lLmJdvWMn",
      "include_colab_link": true,
      "name": "paper.ipynb",
      "provenance": []
    },
    "kernelspec": {
      "display_name": "Python 3",
      "name": "python3"
    },
    "language_info": {
      "codemirror_mode": {
        "name": "ipython",
        "version": 3
      },
      "file_extension": ".py",
      "mimetype": "text/x-python",
      "name": "python",
      "nbconvert_exporter": "python",
      "pygments_lexer": "ipython3",
      "version": "3.9.12"
    }
  },
  "nbformat": 4,
  "nbformat_minor": 0
}
