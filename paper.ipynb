{
  "nbformat": 4,
  "nbformat_minor": 0,
  "metadata": {
    "colab": {
      "name": "paper.ipynb",
      "provenance": [],
      "authorship_tag": "ABX9TyOVXA20kgbvBp2lLmJdvWMn",
      "include_colab_link": true
    },
    "kernelspec": {
      "name": "python3",
      "display_name": "Python 3"
    },
    "language_info": {
      "name": "python"
    }
  },
  "cells": [
    {
      "cell_type": "markdown",
      "metadata": {
        "id": "view-in-github",
        "colab_type": "text"
      },
      "source": [
        "<a href=\"https://colab.research.google.com/github/cjk5642/Connector/blob/main/paper.ipynb\" target=\"_parent\"><img src=\"https://colab.research.google.com/assets/colab-badge.svg\" alt=\"Open In Colab\"/></a>"
      ]
    },
    {
      "cell_type": "markdown",
      "source": [
        "# Mount Drive"
      ],
      "metadata": {
        "id": "gOATTA_oDdlV"
      }
    },
    {
      "cell_type": "code",
      "source": [
        "from google.colab import drive\n",
        "drive.mount('/content/drive', force_remount=True)"
      ],
      "metadata": {
        "colab": {
          "base_uri": "https://localhost:8080/"
        },
        "id": "CT7sioXMDdY_",
        "outputId": "b6b0b6e7-dad2-4239-f35b-8f923fbad39b"
      },
      "execution_count": 1,
      "outputs": [
        {
          "output_type": "stream",
          "name": "stdout",
          "text": [
            "Mounted at /content/drive\n"
          ]
        }
      ]
    },
    {
      "cell_type": "markdown",
      "source": [
        "#Imports"
      ],
      "metadata": {
        "id": "tINRhKuwC89m"
      }
    },
    {
      "cell_type": "code",
      "source": [
        "import os\n",
        "import pandas as pd\n",
        "import numpy as np\n",
        "from tqdm import tqdm\n",
        "import matplotlib.pyplot as plt\n",
        "import seaborn as sns\n",
        "import warnings\n",
        "import statsmodels.formula.api as smf\n",
        "from collections import Counter, defaultdict\n",
        "from sklearn.decomposition import PCA\n",
        "warnings.filterwarnings('ignore')\n",
        "\n",
        "from nltk.stem import PorterStemmer\n",
        "ps = PorterStemmer()\n",
        "\n",
        "plot_path = \"/content/drive/MyDrive/Classes/Fall 2021/Word Embeddings Project (Connector)/Plots\""
      ],
      "metadata": {
        "id": "EyD2S81EC5yq"
      },
      "execution_count": 30,
      "outputs": []
    },
    {
      "cell_type": "markdown",
      "source": [
        "# Load Data"
      ],
      "metadata": {
        "id": "uCmL2HQCDyn0"
      }
    },
    {
      "cell_type": "code",
      "source": [
        "def cosine_similarity(v1, v2):\n",
        "  v1 = np.array(v1)\n",
        "  v2 = np.array(v2)\n",
        "  return np.dot(v1, v2) / (np.linalg.norm(v1) * np.linalg.norm(v2))\n",
        "\n",
        "def return_emb(word, source = 'glove'):\n",
        "  if source == 'glove':\n",
        "    source_emb = glove\n",
        "  else:\n",
        "    source_emb = swow\n",
        "    \n",
        "  try:\n",
        "    emb = source_emb[word]\n",
        "    return word\n",
        "  except KeyError:\n",
        "    word_stem = ps.stem(word)\n",
        "    try:\n",
        "      emb = source_emb[word_stem]\n",
        "      return word_stem\n",
        "    except KeyError:\n",
        "      return np.NaN\n",
        "\n",
        "def return_clue(data):\n",
        "  values = []\n",
        "  options = ['clueOption1', 'clueOption2', 'clueOption3', 'clueOption4', 'clueOption5', 'clueOption6', 'clueOption7', 'clueOption8']\n",
        "  for i in range(len(data)):\n",
        "    row = data.loc[i, options].dropna().to_list()\n",
        "    try:\n",
        "      option = row.index(data.loc[i, 'clueFinal'])\n",
        "      values.append(int(options[option].lstrip('clueOption')))\n",
        "    except ValueError:\n",
        "      values.append(None)\n",
        "  return values\n",
        "\n",
        "def return_guess(data):\n",
        "  values = {'GUESS_1_FINAL': [], 'GUESS_2_FINAL': []}\n",
        "  options = ['GuessOption1', 'GuessOption2', 'GuessOption3', 'GuessOption4', 'GuessOption5', 'GuessOption6', 'GuessOption7', 'GuessOption8']\n",
        "  guesses = ['GUESS_1_FINAL', 'GUESS_2_FINAL']\n",
        "  for i in range(len(data)):\n",
        "    row = data.loc[i, options].dropna().to_list()\n",
        "    finals = data.loc[i, guesses]\n",
        "    for f in guesses:\n",
        "      try:\n",
        "        option = row.index(finals[f])\n",
        "        values[f].append(int(options[option].lstrip('GuessOption')))\n",
        "      except ValueError:\n",
        "        values[f].append(None)\n",
        "  return values.values()\n",
        "\n",
        "rankings = {'Easy': 1, 'Medium': 2, 'Hard': 3}\n",
        "wordpairs_path = \"/content/drive/MyDrive/Classes/Fall 2021/Word Embeddings Project (Connector)/Data/wordpairs.csv\"\n",
        "wordpairs = pd.read_csv(wordpairs_path)"
      ],
      "metadata": {
        "id": "nihQIHADDzEH"
      },
      "execution_count": 3,
      "outputs": []
    },
    {
      "cell_type": "code",
      "source": [
        "wordpairs.head()"
      ],
      "metadata": {
        "colab": {
          "base_uri": "https://localhost:8080/",
          "height": 206
        },
        "id": "UfEocUY_JFHZ",
        "outputId": "78fd120c-631b-449c-a050-d1829a90a969"
      },
      "execution_count": 4,
      "outputs": [
        {
          "output_type": "execute_result",
          "data": {
            "text/html": [
              "\n",
              "  <div id=\"df-d7808a28-c3f0-4ccd-b351-ee6b88f56c02\">\n",
              "    <div class=\"colab-df-container\">\n",
              "      <div>\n",
              "<style scoped>\n",
              "    .dataframe tbody tr th:only-of-type {\n",
              "        vertical-align: middle;\n",
              "    }\n",
              "\n",
              "    .dataframe tbody tr th {\n",
              "        vertical-align: top;\n",
              "    }\n",
              "\n",
              "    .dataframe thead th {\n",
              "        text-align: right;\n",
              "    }\n",
              "</style>\n",
              "<table border=\"1\" class=\"dataframe\">\n",
              "  <thead>\n",
              "    <tr style=\"text-align: right;\">\n",
              "      <th></th>\n",
              "      <th>wordpair</th>\n",
              "      <th>wordpair_id</th>\n",
              "      <th>Level</th>\n",
              "    </tr>\n",
              "  </thead>\n",
              "  <tbody>\n",
              "    <tr>\n",
              "      <th>0</th>\n",
              "      <td>ankle-travel</td>\n",
              "      <td>ankle-travel</td>\n",
              "      <td>medium</td>\n",
              "    </tr>\n",
              "    <tr>\n",
              "      <th>1</th>\n",
              "      <td>travel-ankle</td>\n",
              "      <td>ankle-travel</td>\n",
              "      <td>medium</td>\n",
              "    </tr>\n",
              "    <tr>\n",
              "      <th>2</th>\n",
              "      <td>army-drum</td>\n",
              "      <td>army-drum</td>\n",
              "      <td>medium</td>\n",
              "    </tr>\n",
              "    <tr>\n",
              "      <th>3</th>\n",
              "      <td>drum-army</td>\n",
              "      <td>army-drum</td>\n",
              "      <td>medium</td>\n",
              "    </tr>\n",
              "    <tr>\n",
              "      <th>4</th>\n",
              "      <td>ash-snake</td>\n",
              "      <td>ash-snake</td>\n",
              "      <td>hard</td>\n",
              "    </tr>\n",
              "  </tbody>\n",
              "</table>\n",
              "</div>\n",
              "      <button class=\"colab-df-convert\" onclick=\"convertToInteractive('df-d7808a28-c3f0-4ccd-b351-ee6b88f56c02')\"\n",
              "              title=\"Convert this dataframe to an interactive table.\"\n",
              "              style=\"display:none;\">\n",
              "        \n",
              "  <svg xmlns=\"http://www.w3.org/2000/svg\" height=\"24px\"viewBox=\"0 0 24 24\"\n",
              "       width=\"24px\">\n",
              "    <path d=\"M0 0h24v24H0V0z\" fill=\"none\"/>\n",
              "    <path d=\"M18.56 5.44l.94 2.06.94-2.06 2.06-.94-2.06-.94-.94-2.06-.94 2.06-2.06.94zm-11 1L8.5 8.5l.94-2.06 2.06-.94-2.06-.94L8.5 2.5l-.94 2.06-2.06.94zm10 10l.94 2.06.94-2.06 2.06-.94-2.06-.94-.94-2.06-.94 2.06-2.06.94z\"/><path d=\"M17.41 7.96l-1.37-1.37c-.4-.4-.92-.59-1.43-.59-.52 0-1.04.2-1.43.59L10.3 9.45l-7.72 7.72c-.78.78-.78 2.05 0 2.83L4 21.41c.39.39.9.59 1.41.59.51 0 1.02-.2 1.41-.59l7.78-7.78 2.81-2.81c.8-.78.8-2.07 0-2.86zM5.41 20L4 18.59l7.72-7.72 1.47 1.35L5.41 20z\"/>\n",
              "  </svg>\n",
              "      </button>\n",
              "      \n",
              "  <style>\n",
              "    .colab-df-container {\n",
              "      display:flex;\n",
              "      flex-wrap:wrap;\n",
              "      gap: 12px;\n",
              "    }\n",
              "\n",
              "    .colab-df-convert {\n",
              "      background-color: #E8F0FE;\n",
              "      border: none;\n",
              "      border-radius: 50%;\n",
              "      cursor: pointer;\n",
              "      display: none;\n",
              "      fill: #1967D2;\n",
              "      height: 32px;\n",
              "      padding: 0 0 0 0;\n",
              "      width: 32px;\n",
              "    }\n",
              "\n",
              "    .colab-df-convert:hover {\n",
              "      background-color: #E2EBFA;\n",
              "      box-shadow: 0px 1px 2px rgba(60, 64, 67, 0.3), 0px 1px 3px 1px rgba(60, 64, 67, 0.15);\n",
              "      fill: #174EA6;\n",
              "    }\n",
              "\n",
              "    [theme=dark] .colab-df-convert {\n",
              "      background-color: #3B4455;\n",
              "      fill: #D2E3FC;\n",
              "    }\n",
              "\n",
              "    [theme=dark] .colab-df-convert:hover {\n",
              "      background-color: #434B5C;\n",
              "      box-shadow: 0px 1px 3px 1px rgba(0, 0, 0, 0.15);\n",
              "      filter: drop-shadow(0px 1px 2px rgba(0, 0, 0, 0.3));\n",
              "      fill: #FFFFFF;\n",
              "    }\n",
              "  </style>\n",
              "\n",
              "      <script>\n",
              "        const buttonEl =\n",
              "          document.querySelector('#df-d7808a28-c3f0-4ccd-b351-ee6b88f56c02 button.colab-df-convert');\n",
              "        buttonEl.style.display =\n",
              "          google.colab.kernel.accessAllowed ? 'block' : 'none';\n",
              "\n",
              "        async function convertToInteractive(key) {\n",
              "          const element = document.querySelector('#df-d7808a28-c3f0-4ccd-b351-ee6b88f56c02');\n",
              "          const dataTable =\n",
              "            await google.colab.kernel.invokeFunction('convertToInteractive',\n",
              "                                                     [key], {});\n",
              "          if (!dataTable) return;\n",
              "\n",
              "          const docLinkHtml = 'Like what you see? Visit the ' +\n",
              "            '<a target=\"_blank\" href=https://colab.research.google.com/notebooks/data_table.ipynb>data table notebook</a>'\n",
              "            + ' to learn more about interactive tables.';\n",
              "          element.innerHTML = '';\n",
              "          dataTable['output_type'] = 'display_data';\n",
              "          await google.colab.output.renderOutput(dataTable, element);\n",
              "          const docLink = document.createElement('div');\n",
              "          docLink.innerHTML = docLinkHtml;\n",
              "          element.appendChild(docLink);\n",
              "        }\n",
              "      </script>\n",
              "    </div>\n",
              "  </div>\n",
              "  "
            ],
            "text/plain": [
              "       wordpair   wordpair_id   Level\n",
              "0  ankle-travel  ankle-travel  medium\n",
              "1  travel-ankle  ankle-travel  medium\n",
              "2     army-drum     army-drum  medium\n",
              "3     drum-army     army-drum  medium\n",
              "4     ash-snake     ash-snake    hard"
            ]
          },
          "metadata": {},
          "execution_count": 4
        }
      ]
    },
    {
      "cell_type": "code",
      "source": [
        "#raw_path = parentdirectory + \"raw_data.csv\"\n",
        "############# Extract Raw\n",
        "raw_path = \"/content/drive/MyDrive/Classes/Fall 2021/Word Embeddings Project (Connector)/Data/raw_data.csv\"\n",
        "raw = pd.read_csv(raw_path, usecols = ['Experiment', 'Word1', 'Word2', 'Clue1', 'Level', 'Player2.ACC', 'Clue2', 'Clue3'])\n",
        "raw['Word Pair'] = raw['Word1'] + '-' + raw['Word2']\n",
        "raw = raw[raw['Word Pair'].isin(wordpairs['wordpair'].to_list())].reset_index(drop = True)\n",
        "raw['wordpair_id'] = [wordpairs.loc[wordpairs['wordpair'] == raw.loc[i, 'Word Pair'], 'wordpair_id'].values[0] for i in range(len(raw))]\n",
        "raw_clues = raw.loc[:, ['wordpair_id', 'Clue1', 'Clue2', 'Clue3', 'Player2.ACC']]\n",
        "\n",
        "raw_temp = raw.rename({'Word1': 'target1', 'Word2': 'target2'}, axis = 1)"
      ],
      "metadata": {
        "id": "VL7nRYwlurdA"
      },
      "execution_count": 5,
      "outputs": []
    },
    {
      "cell_type": "code",
      "source": [
        "#parentdirectory = \"/content/drive/My Drive/connector-collin/\"\n",
        "#online_path = parentdirectory + \"connector-online-data.csv\"\n",
        "########### Extract Online\n",
        "online_path = \"/content/drive/MyDrive/Classes/Fall 2021/Word Embeddings Project (Connector)/Data/online.csv\"\n",
        "\n",
        "online = pd.read_csv(online_path)\n",
        "online['Ranking'] = online['Level'].apply(lambda x: rankings[x])\n",
        "online_clues = online.loc[:, ['wordpair_id', 'gameID', 'clueOption1', 'clueOption2', 'clueOption3', 'clueOption4', 'clueOption5', 'clueOption6', 'clueOption7', 'clueOption8', 'clueFinal', 'Acc', 'Level', 'Ranking']]\n",
        "online_unique_clues = online_clues[['clueOption1', 'clueOption2', 'clueOption3', 'clueOption4', 'clueOption5', 'clueOption6', 'clueOption7', 'clueOption8']]\n",
        "online_clues['Number of Clues'] = [len(online_unique_clues.loc[i,:].dropna().to_list()) for i in range(len(online_clues))]\n",
        "online.to_csv(r\"/content/drive/MyDrive/Classes/Fall 2021/Word Embeddings Project (Connector)/Data/Processed/online.csv\", index = False)"
      ],
      "metadata": {
        "id": "tA0kUaYVD5DH"
      },
      "execution_count": 6,
      "outputs": []
    },
    {
      "cell_type": "code",
      "source": [
        "#glove_path = parentdirectory + \"glove_embeddings.csv\"\n",
        "glove_path = \"/content/drive/MyDrive/Classes/Fall 2021/Word Embeddings Project (Connector)/Data/glove_embeddings.csv\"\n",
        "glove = pd.read_csv(glove_path)"
      ],
      "metadata": {
        "id": "NqzK-9fiutXA"
      },
      "execution_count": 7,
      "outputs": []
    },
    {
      "cell_type": "code",
      "source": [
        "swow_path = \"/content/drive/MyDrive/Classes/Fall 2021/Word Embeddings Project (Connector)/Data/swow_embeddings.csv\"\n",
        "swow = pd.read_csv(swow_path)"
      ],
      "metadata": {
        "id": "dSfcu77BuuBl"
      },
      "execution_count": 8,
      "outputs": []
    },
    {
      "cell_type": "markdown",
      "source": [
        "#*Searching for multiple concepts within semantic memory*\n",
        "\n",
        "Collin J. Kovacs, Jasper M. Wilson, and Abhilasha A. Kumar\n",
        "\n",
        "[Latex paper draft](https://www.overleaf.com/3682451699jnphdztfwskz)\n",
        "\n",
        "There is not a lot of work investigating the explicit search processes in ambiguous multi-referent contexts. Previous work in this area has shown that speakers tend to use some form of context sensitivity judgment and pragmatic inference to come up with the final response, BUT the explicit generation process remains obscure in these communication tasks. How might we study this process by which an individual arrives upon the final referent? In this work, we introduce and evaluate a think-aloud paradigm for capturing interim responses during semantic search, borrowing from tasks such as fluency and variants of RAT. (explain task)"
      ],
      "metadata": {
        "id": "U1h_OWB4BpeW"
      }
    },
    {
      "cell_type": "markdown",
      "source": [
        "##- We discuss whether and how it differs from the standard paradigm. \n",
        "  - Average accuracy in easy/medium/hard for both datasets"
      ],
      "metadata": {
        "id": "ArK3OmFFEN21"
      }
    },
    {
      "cell_type": "code",
      "source": [
        "avg_acc_level_raw = raw.groupby('Level').mean().reset_index().rename({'Player2.ACC': 'Average Accuracy'}, axis = 1)\n",
        "avg_acc_level_raw['Type'] = 'Raw'\n",
        "avg_acc_level_online = online[['Level', 'Acc']].groupby('Level').mean().reset_index().rename({'Acc': 'Average Accuracy'}, axis = 1)\n",
        "avg_acc_level_online['Type'] = 'Online'\n",
        "avg_acc_level_total = pd.concat([avg_acc_level_raw, avg_acc_level_online], axis = 0, ignore_index = True)\n",
        "avg_acc_level_total['Ranking'] = avg_acc_level_total['Level'].apply(lambda x: rankings[x])\n",
        "avg_acc_level_total = avg_acc_level_total.sort_values(['Ranking'], ascending = True).reset_index(drop = True)\n",
        "\n",
        "fig, ax = plt.subplots(figsize = (12, 8))\n",
        "sns.barplot(data = avg_acc_level_total, x = 'Level', y = 'Average Accuracy', hue = 'Type', ax = ax)\n",
        "ax.title.set_text(\"Average Accuracy by Difficulty per Dataset\")\n",
        "plt.savefig(os.path.join(plot_path, 'average_acc_by_diff_per_dataset.png'))\n",
        "plt.show()"
      ],
      "metadata": {
        "colab": {
          "base_uri": "https://localhost:8080/",
          "height": 513
        },
        "id": "Sp3lh3DKEZ-m",
        "outputId": "bac378ae-ee8d-45a8-9ac2-8ebe79962696"
      },
      "execution_count": 31,
      "outputs": [
        {
          "output_type": "display_data",
          "data": {
            "image/png": "[encoded data removed]",
            "text/plain": [
              "<Figure size 864x576 with 1 Axes>"
            ]
          },
          "metadata": {
            "needs_background": "light"
          }
        }
      ]
    },
    {
      "cell_type": "markdown",
      "source": [
        "- Number of unique clues produced for both datasets (do by level)"
      ],
      "metadata": {
        "id": "OQ9mDw9sEas1"
      }
    },
    {
      "cell_type": "code",
      "source": [
        "online_unique = online[['wordpair_id','clueFinal']].value_counts().reset_index().groupby(['wordpair_id']).size().reset_index(name='count1')\n",
        "raw_unique = raw[['wordpair_id','Clue1']].value_counts().reset_index().groupby(['wordpair_id']).size().reset_index(name='count2')\n",
        "raw_unique = raw_unique.merge(online_unique)\n",
        "raw_long = pd.wide_to_long(raw_unique, stubnames='count', i=['wordpair_id'], j='count_type').reset_index()\n",
        "display(raw_long.head())\n",
        "count_means = raw_long[['wordpair_id','count_type', 'count']].groupby(['count_type']).mean().reset_index()\n",
        "display(count_means)\n",
        "ax = count_means.plot.bar(x='count_type', y='count', rot=0)\n",
        "plt.savefig(os.path.join(plot_path, 'num_unique_clues_both_dataset.png'))"
      ],
      "metadata": {
        "colab": {
          "base_uri": "https://localhost:8080/",
          "height": 564
        },
        "id": "bwjxhS_hEdFy",
        "outputId": "90893a61-1303-4efa-ebc4-7fb2be0c57a3"
      },
      "execution_count": 33,
      "outputs": [
        {
          "output_type": "display_data",
          "data": {
            "text/html": [
              "\n",
              "  <div id=\"df-96f4ed75-dd71-4dce-9c63-65c0cf5f70d4\">\n",
              "    <div class=\"colab-df-container\">\n",
              "      <div>\n",
              "<style scoped>\n",
              "    .dataframe tbody tr th:only-of-type {\n",
              "        vertical-align: middle;\n",
              "    }\n",
              "\n",
              "    .dataframe tbody tr th {\n",
              "        vertical-align: top;\n",
              "    }\n",
              "\n",
              "    .dataframe thead th {\n",
              "        text-align: right;\n",
              "    }\n",
              "</style>\n",
              "<table border=\"1\" class=\"dataframe\">\n",
              "  <thead>\n",
              "    <tr style=\"text-align: right;\">\n",
              "      <th></th>\n",
              "      <th>wordpair_id</th>\n",
              "      <th>count_type</th>\n",
              "      <th>count</th>\n",
              "    </tr>\n",
              "  </thead>\n",
              "  <tbody>\n",
              "    <tr>\n",
              "      <th>0</th>\n",
              "      <td>ankle-travel</td>\n",
              "      <td>2</td>\n",
              "      <td>29</td>\n",
              "    </tr>\n",
              "    <tr>\n",
              "      <th>1</th>\n",
              "      <td>army-drum</td>\n",
              "      <td>2</td>\n",
              "      <td>17</td>\n",
              "    </tr>\n",
              "    <tr>\n",
              "      <th>2</th>\n",
              "      <td>ash-snake</td>\n",
              "      <td>2</td>\n",
              "      <td>29</td>\n",
              "    </tr>\n",
              "    <tr>\n",
              "      <th>3</th>\n",
              "      <td>bet-dream</td>\n",
              "      <td>2</td>\n",
              "      <td>23</td>\n",
              "    </tr>\n",
              "    <tr>\n",
              "      <th>4</th>\n",
              "      <td>birth-hand</td>\n",
              "      <td>2</td>\n",
              "      <td>23</td>\n",
              "    </tr>\n",
              "  </tbody>\n",
              "</table>\n",
              "</div>\n",
              "      <button class=\"colab-df-convert\" onclick=\"convertToInteractive('df-96f4ed75-dd71-4dce-9c63-65c0cf5f70d4')\"\n",
              "              title=\"Convert this dataframe to an interactive table.\"\n",
              "              style=\"display:none;\">\n",
              "        \n",
              "  <svg xmlns=\"http://www.w3.org/2000/svg\" height=\"24px\"viewBox=\"0 0 24 24\"\n",
              "       width=\"24px\">\n",
              "    <path d=\"M0 0h24v24H0V0z\" fill=\"none\"/>\n",
              "    <path d=\"M18.56 5.44l.94 2.06.94-2.06 2.06-.94-2.06-.94-.94-2.06-.94 2.06-2.06.94zm-11 1L8.5 8.5l.94-2.06 2.06-.94-2.06-.94L8.5 2.5l-.94 2.06-2.06.94zm10 10l.94 2.06.94-2.06 2.06-.94-2.06-.94-.94-2.06-.94 2.06-2.06.94z\"/><path d=\"M17.41 7.96l-1.37-1.37c-.4-.4-.92-.59-1.43-.59-.52 0-1.04.2-1.43.59L10.3 9.45l-7.72 7.72c-.78.78-.78 2.05 0 2.83L4 21.41c.39.39.9.59 1.41.59.51 0 1.02-.2 1.41-.59l7.78-7.78 2.81-2.81c.8-.78.8-2.07 0-2.86zM5.41 20L4 18.59l7.72-7.72 1.47 1.35L5.41 20z\"/>\n",
              "  </svg>\n",
              "      </button>\n",
              "      \n",
              "  <style>\n",
              "    .colab-df-container {\n",
              "      display:flex;\n",
              "      flex-wrap:wrap;\n",
              "      gap: 12px;\n",
              "    }\n",
              "\n",
              "    .colab-df-convert {\n",
              "      background-color: #E8F0FE;\n",
              "      border: none;\n",
              "      border-radius: 50%;\n",
              "      cursor: pointer;\n",
              "      display: none;\n",
              "      fill: #1967D2;\n",
              "      height: 32px;\n",
              "      padding: 0 0 0 0;\n",
              "      width: 32px;\n",
              "    }\n",
              "\n",
              "    .colab-df-convert:hover {\n",
              "      background-color: #E2EBFA;\n",
              "      box-shadow: 0px 1px 2px rgba(60, 64, 67, 0.3), 0px 1px 3px 1px rgba(60, 64, 67, 0.15);\n",
              "      fill: #174EA6;\n",
              "    }\n",
              "\n",
              "    [theme=dark] .colab-df-convert {\n",
              "      background-color: #3B4455;\n",
              "      fill: #D2E3FC;\n",
              "    }\n",
              "\n",
              "    [theme=dark] .colab-df-convert:hover {\n",
              "      background-color: #434B5C;\n",
              "      box-shadow: 0px 1px 3px 1px rgba(0, 0, 0, 0.15);\n",
              "      filter: drop-shadow(0px 1px 2px rgba(0, 0, 0, 0.3));\n",
              "      fill: #FFFFFF;\n",
              "    }\n",
              "  </style>\n",
              "\n",
              "      <script>\n",
              "        const buttonEl =\n",
              "          document.querySelector('#df-96f4ed75-dd71-4dce-9c63-65c0cf5f70d4 button.colab-df-convert');\n",
              "        buttonEl.style.display =\n",
              "          google.colab.kernel.accessAllowed ? 'block' : 'none';\n",
              "\n",
              "        async function convertToInteractive(key) {\n",
              "          const element = document.querySelector('#df-96f4ed75-dd71-4dce-9c63-65c0cf5f70d4');\n",
              "          const dataTable =\n",
              "            await google.colab.kernel.invokeFunction('convertToInteractive',\n",
              "                                                     [key], {});\n",
              "          if (!dataTable) return;\n",
              "\n",
              "          const docLinkHtml = 'Like what you see? Visit the ' +\n",
              "            '<a target=\"_blank\" href=https://colab.research.google.com/notebooks/data_table.ipynb>data table notebook</a>'\n",
              "            + ' to learn more about interactive tables.';\n",
              "          element.innerHTML = '';\n",
              "          dataTable['output_type'] = 'display_data';\n",
              "          await google.colab.output.renderOutput(dataTable, element);\n",
              "          const docLink = document.createElement('div');\n",
              "          docLink.innerHTML = docLinkHtml;\n",
              "          element.appendChild(docLink);\n",
              "        }\n",
              "      </script>\n",
              "    </div>\n",
              "  </div>\n",
              "  "
            ],
            "text/plain": [
              "    wordpair_id  count_type  count\n",
              "0  ankle-travel           2     29\n",
              "1     army-drum           2     17\n",
              "2     ash-snake           2     29\n",
              "3     bet-dream           2     23\n",
              "4    birth-hand           2     23"
            ]
          },
          "metadata": {}
        },
        {
          "output_type": "display_data",
          "data": {
            "text/html": [
              "\n",
              "  <div id=\"df-fa8ea0d8-7c38-425a-ba7e-7e429559f079\">\n",
              "    <div class=\"colab-df-container\">\n",
              "      <div>\n",
              "<style scoped>\n",
              "    .dataframe tbody tr th:only-of-type {\n",
              "        vertical-align: middle;\n",
              "    }\n",
              "\n",
              "    .dataframe tbody tr th {\n",
              "        vertical-align: top;\n",
              "    }\n",
              "\n",
              "    .dataframe thead th {\n",
              "        text-align: right;\n",
              "    }\n",
              "</style>\n",
              "<table border=\"1\" class=\"dataframe\">\n",
              "  <thead>\n",
              "    <tr style=\"text-align: right;\">\n",
              "      <th></th>\n",
              "      <th>count_type</th>\n",
              "      <th>count</th>\n",
              "    </tr>\n",
              "  </thead>\n",
              "  <tbody>\n",
              "    <tr>\n",
              "      <th>0</th>\n",
              "      <td>1</td>\n",
              "      <td>23.103448</td>\n",
              "    </tr>\n",
              "    <tr>\n",
              "      <th>1</th>\n",
              "      <td>2</td>\n",
              "      <td>21.172414</td>\n",
              "    </tr>\n",
              "  </tbody>\n",
              "</table>\n",
              "</div>\n",
              "      <button class=\"colab-df-convert\" onclick=\"convertToInteractive('df-fa8ea0d8-7c38-425a-ba7e-7e429559f079')\"\n",
              "              title=\"Convert this dataframe to an interactive table.\"\n",
              "              style=\"display:none;\">\n",
              "        \n",
              "  <svg xmlns=\"http://www.w3.org/2000/svg\" height=\"24px\"viewBox=\"0 0 24 24\"\n",
              "       width=\"24px\">\n",
              "    <path d=\"M0 0h24v24H0V0z\" fill=\"none\"/>\n",
              "    <path d=\"M18.56 5.44l.94 2.06.94-2.06 2.06-.94-2.06-.94-.94-2.06-.94 2.06-2.06.94zm-11 1L8.5 8.5l.94-2.06 2.06-.94-2.06-.94L8.5 2.5l-.94 2.06-2.06.94zm10 10l.94 2.06.94-2.06 2.06-.94-2.06-.94-.94-2.06-.94 2.06-2.06.94z\"/><path d=\"M17.41 7.96l-1.37-1.37c-.4-.4-.92-.59-1.43-.59-.52 0-1.04.2-1.43.59L10.3 9.45l-7.72 7.72c-.78.78-.78 2.05 0 2.83L4 21.41c.39.39.9.59 1.41.59.51 0 1.02-.2 1.41-.59l7.78-7.78 2.81-2.81c.8-.78.8-2.07 0-2.86zM5.41 20L4 18.59l7.72-7.72 1.47 1.35L5.41 20z\"/>\n",
              "  </svg>\n",
              "      </button>\n",
              "      \n",
              "  <style>\n",
              "    .colab-df-container {\n",
              "      display:flex;\n",
              "      flex-wrap:wrap;\n",
              "      gap: 12px;\n",
              "    }\n",
              "\n",
              "    .colab-df-convert {\n",
              "      background-color: #E8F0FE;\n",
              "      border: none;\n",
              "      border-radius: 50%;\n",
              "      cursor: pointer;\n",
              "      display: none;\n",
              "      fill: #1967D2;\n",
              "      height: 32px;\n",
              "      padding: 0 0 0 0;\n",
              "      width: 32px;\n",
              "    }\n",
              "\n",
              "    .colab-df-convert:hover {\n",
              "      background-color: #E2EBFA;\n",
              "      box-shadow: 0px 1px 2px rgba(60, 64, 67, 0.3), 0px 1px 3px 1px rgba(60, 64, 67, 0.15);\n",
              "      fill: #174EA6;\n",
              "    }\n",
              "\n",
              "    [theme=dark] .colab-df-convert {\n",
              "      background-color: #3B4455;\n",
              "      fill: #D2E3FC;\n",
              "    }\n",
              "\n",
              "    [theme=dark] .colab-df-convert:hover {\n",
              "      background-color: #434B5C;\n",
              "      box-shadow: 0px 1px 3px 1px rgba(0, 0, 0, 0.15);\n",
              "      filter: drop-shadow(0px 1px 2px rgba(0, 0, 0, 0.3));\n",
              "      fill: #FFFFFF;\n",
              "    }\n",
              "  </style>\n",
              "\n",
              "      <script>\n",
              "        const buttonEl =\n",
              "          document.querySelector('#df-fa8ea0d8-7c38-425a-ba7e-7e429559f079 button.colab-df-convert');\n",
              "        buttonEl.style.display =\n",
              "          google.colab.kernel.accessAllowed ? 'block' : 'none';\n",
              "\n",
              "        async function convertToInteractive(key) {\n",
              "          const element = document.querySelector('#df-fa8ea0d8-7c38-425a-ba7e-7e429559f079');\n",
              "          const dataTable =\n",
              "            await google.colab.kernel.invokeFunction('convertToInteractive',\n",
              "                                                     [key], {});\n",
              "          if (!dataTable) return;\n",
              "\n",
              "          const docLinkHtml = 'Like what you see? Visit the ' +\n",
              "            '<a target=\"_blank\" href=https://colab.research.google.com/notebooks/data_table.ipynb>data table notebook</a>'\n",
              "            + ' to learn more about interactive tables.';\n",
              "          element.innerHTML = '';\n",
              "          dataTable['output_type'] = 'display_data';\n",
              "          await google.colab.output.renderOutput(dataTable, element);\n",
              "          const docLink = document.createElement('div');\n",
              "          docLink.innerHTML = docLinkHtml;\n",
              "          element.appendChild(docLink);\n",
              "        }\n",
              "      </script>\n",
              "    </div>\n",
              "  </div>\n",
              "  "
            ],
            "text/plain": [
              "   count_type      count\n",
              "0           1  23.103448\n",
              "1           2  21.172414"
            ]
          },
          "metadata": {}
        },
        {
          "output_type": "display_data",
          "data": {
            "image/png": "[encoded data removed]",
            "text/plain": [
              "<Figure size 432x288 with 1 Axes>"
            ]
          },
          "metadata": {
            "needs_background": "light"
          }
        }
      ]
    },
    {
      "cell_type": "markdown",
      "source": [
        "## Compare this between raw and online\n",
        "- sim(clueFinal, t1) = x\n",
        "- sim(clueFinal, t2) = y\n",
        "- Assign the smaller of x or y to be the “closer” target\n",
        "- Assign the greater of x or y to be the “farther” target\n",
        "- Now calculate average similarity to “closer” vs. “farther\"\n",
        "- Do this by level to see if final clues are more skewed towards one of the targets\n"
      ],
      "metadata": {
        "id": "55kP2Mz6lz9L"
      }
    },
    {
      "cell_type": "code",
      "source": [
        "new_online = online[['clueFinal','target1', 'target2', 'Level', 'Ranking']]\n",
        "for j in ['clueFinal', 'target1', 'target2']:\n",
        "  new_online[f'{j}True'] = new_online[j].apply(lambda x: return_emb(x))\n",
        "new_online = new_online.dropna().reset_index(drop = True)\n",
        "\n",
        "x, y, closer, farther = [], [], [], []\n",
        "for i in range(len(new_online)):\n",
        "  xs = cosine_similarity(glove[new_online.loc[i, 'clueFinalTrue']], glove[new_online.loc[i, 'target1True']])\n",
        "  ys = cosine_similarity(glove[new_online.loc[i, 'clueFinalTrue']], glove[new_online.loc[i, 'target2True']])\n",
        "\n",
        "  x.append(xs)\n",
        "  y.append(ys)\n",
        "\n",
        "  if xs < ys:\n",
        "    closer.append(xs)\n",
        "    farther.append(ys)\n",
        "  else:\n",
        "    closer.append(ys)\n",
        "    farther.append(xs)\n",
        "new_online['x'] = x\n",
        "new_online['y'] = y\n",
        "new_online['closer'] = closer \n",
        "new_online['farther'] = farther\n",
        "new_online_grouped = new_online[['Level', 'closer', 'farther']].groupby(['Level']).mean().reset_index().melt(id_vars = ['Level'])\n",
        "new_online_grouped = new_online_grouped.rename({\"value\": 'Average Similarity', 'variable': 'Distance to Clue Final'}, axis = 1)\n",
        "new_online_grouped['Ranking'] = new_online_grouped['Level'].apply(lambda x: rankings[x])\n",
        "new_online_grouped = new_online_grouped.sort_values('Ranking')\n",
        "fig, ax = plt.subplots(figsize = (12, 8))\n",
        "sns.barplot(data = new_online_grouped, x = 'Level', y = 'Average Similarity', hue = 'Distance to Clue Final', ax = ax)\n",
        "plt.savefig(os.path.join(plot_path, 'distance_to_clue_final_similarity.png'))\n",
        "plt.show()"
      ],
      "metadata": {
        "colab": {
          "base_uri": "https://localhost:8080/",
          "height": 497
        },
        "id": "IOyhvPPsl1L4",
        "outputId": "e85c15f3-fbf5-4b0c-e24a-8a4435a1a893"
      },
      "execution_count": 34,
      "outputs": [
        {
          "output_type": "display_data",
          "data": {
            "image/png": "[encoded data removed]",
            "text/plain": [
              "<Figure size 864x576 with 1 Axes>"
            ]
          },
          "metadata": {
            "needs_background": "light"
          }
        }
      ]
    },
    {
      "cell_type": "markdown",
      "source": [
        "## - We discuss the extent to which participants select the different candidates as the final clue and the accuracy when these candidates are chosen as the final clue. We also break this down by level/difficulty\n"
      ],
      "metadata": {
        "id": "AornW3hoCrUh"
      }
    },
    {
      "cell_type": "code",
      "source": [
        "options = online[['wordpair_id', 'SelectedClue', 'Acc', 'Level']]\n",
        "avg_acc_selected = options.groupby(['wordpair_id', 'SelectedClue']).mean().reset_index()\n",
        "rows = []\n",
        "for wp in options['wordpair_id'].unique():\n",
        "  t = options[options['wordpair_id'] == wp].reset_index(drop = True)\n",
        "  ## make sure to count \"unique\" clues as well, coded as 0 here, otherwise the count is 0 for them\n",
        "  t[['SelectedClue']] = t[['SelectedClue']].fillna(value=0)\n",
        "  t_counts = t[['wordpair_id', 'SelectedClue', 'Level']].value_counts().reset_index().ffill()\n",
        "  t_counts[0] /= t_counts[0].sum() # get the proportions\n",
        "  t_acc = t.groupby(['wordpair_id', 'SelectedClue', 'Level']).mean().reset_index().ffill()\n",
        "  new_t = pd.merge(t_counts, t_acc, on = ['wordpair_id', 'SelectedClue', 'Level'])\n",
        "  new_t = new_t.set_index(['wordpair_id', 'SelectedClue', 'Level'])\n",
        "\n",
        "  idx = 3*(list(range(1, 10)))\n",
        "  w = [wp for i in idx]\n",
        "  diff = 9*['Easy'] + 9*['Medium'] + 9*['Hard']\n",
        "  ind = zip(w, idx, diff)\n",
        "  new_t = new_t.reindex(ind, fill_value=0).reset_index().ffill()\n",
        "  new_t.loc[new_t['SelectedClue'] == 9, 'SelectedClue'] = 'None'\n",
        "  rows.append(new_t)\n",
        "\n",
        "final_options = pd.concat(rows, axis = 0, ignore_index=True).rename({0: 'Proportion', 'Acc': 'AvgAcc', 'SelectedClue': 'Clue Option'}, axis = 1)\n",
        "final_options['Proportion'] = final_options['Proportion'].astype(float)\n",
        "avg_final_options = final_options.groupby(['Clue Option', 'Level']).mean().reset_index().ffill()\n",
        "avg_final_options['Ranking'] = avg_final_options['Level'].apply(lambda x: rankings[x])\n",
        "avg_final_options = avg_final_options.sort_values(['Clue Option', 'Ranking']).rename({'AvgAcc': 'Average Accuracy'}, axis = 1).melt(id_vars = ['Clue Option', 'Level', 'Ranking'])\n",
        "\n",
        "sns.catplot(x = 'Clue Option', y = 'value', hue = 'Level', row = 'variable', kind = 'bar', data = avg_final_options, aspect = 2)\n",
        "plt.savefig(os.path.join(plot_path, 'proportion_avg_acc_per_level_per_clue.png'))\n",
        "plt.show()"
      ],
      "metadata": {
        "id": "9D-NI__mCt48",
        "colab": {
          "base_uri": "https://localhost:8080/",
          "height": 729
        },
        "outputId": "89b15cdd-07f6-4158-97b1-5ca81e7a7f6f"
      },
      "execution_count": 35,
      "outputs": [
        {
          "output_type": "display_data",
          "data": {
            "image/png": "[encoded data removed]",
            "text/plain": [
              "<Figure size 796x720 with 2 Axes>"
            ]
          },
          "metadata": {
            "needs_background": "light"
          }
        }
      ]
    },
    {
      "cell_type": "markdown",
      "source": [
        "- If they are typing after search/threshold criterion is complete, then their first candidate time should be in the same ballpark as the original study clue time - plot histogram of RT for original data and online data.\n",
        "  - Look at the TBOption1 (online) and Player1.RT (raw)\n",
        "  - One hist overall and hist seperated by level"
      ],
      "metadata": {
        "id": "Rm4JOnW1niUI"
      }
    },
    {
      "cell_type": "code",
      "source": [
        "online_time = online[['TBOption1', 'Level']].rename({\"TBOption1\": 'Response Time'}, axis = 1)\n",
        "online_time['Type'] = 'Online'\n",
        "raw_time = pd.read_csv(raw_path, usecols = ['Player1.RT', 'Level']).rename({'Player1.RT': \"Response Time\"}, axis = 1)\n",
        "raw_time['Type'] = 'Raw'\n",
        "\n",
        "time_frame = pd.concat([online_time, raw_time], axis = 0, ignore_index = True)\n",
        "fig, ax = plt.subplots(2, 1, figsize = (12, 8))\n",
        "for i, t in enumerate(['Online', 'Raw']):\n",
        "  tmp = time_frame[time_frame['Type'] == t]\n",
        "  if i == 0:\n",
        "    sns.kdeplot(data = tmp, x = 'Response Time', hue = 'Level', fill = True, ax = ax[i], legend = False, palette = 'Set1', hue_order = ['Easy', 'Medium', 'Hard'])\n",
        "    ax[i].set_xticks([])\n",
        "    ax[i].set_xlabel(\"\")\n",
        "  else:\n",
        "    sns.kdeplot(data = tmp, x = 'Response Time', hue = 'Level', fill = True, ax = ax[i], legend = True, palette = 'Set1', hue_order = [\"Easy\", 'Medium', 'Hard'])\n",
        "  ax[i].set_xlim([0, 150_000])\n",
        "  ax[i].title.set_text(f\"{t} Dataset\")\n",
        "plt.subplots_adjust(wspace = 0, hspace = 0.1)\n",
        "plt.savefig(os.path.join(plot_path, 'density_estimation_between_datasets_per_level.png'))\n",
        "plt.show()"
      ],
      "metadata": {
        "colab": {
          "base_uri": "https://localhost:8080/",
          "height": 513
        },
        "id": "C0PUmFv8nRcI",
        "outputId": "c7c6e658-bf3f-49e5-c232-23a19dc2ebc1"
      },
      "execution_count": 36,
      "outputs": [
        {
          "output_type": "display_data",
          "data": {
            "image/png": "[encoded data removed]",
            "text/plain": [
              "<Figure size 864x576 with 2 Axes>"
            ]
          },
          "metadata": {
            "needs_background": "light"
          }
        }
      ]
    },
    {
      "cell_type": "markdown",
      "source": [
        "- compute cosine similarity of each candidate clue to the targets - are first candidates more similar to the two targets than other candidates? do this using glove and swow both"
      ],
      "metadata": {
        "id": "f8YNqwxgzWCg"
      }
    },
    {
      "cell_type": "code",
      "source": [
        "options_names = [i for i in online.columns if 'clueoption' in i.lower()]\n",
        "online_sim = online[options_names + ['target1', 'target2', 'wordpair_id', 'gameID']].melt(id_vars = ['target1', 'target2', 'wordpair_id', 'gameID']).dropna().reset_index(drop = True)\n",
        "online_glove = online_sim.copy()\n",
        "online_swow = online_sim.copy()\n",
        "\n",
        "online_glove['target1'] = online_glove['target1'].apply(lambda x: return_emb(x))\n",
        "online_glove['target2'] = online_glove['target2'].apply(lambda x: return_emb(x))\n",
        "online_glove['value'] = online_glove['value'].apply(lambda x: return_emb(x))\n",
        "online_glove = online_glove.dropna().reset_index(drop = True)\n",
        "online_glove['sim_of_t1_val'] = [cosine_similarity(glove[online_glove.loc[i, 'target1']], glove[online_glove.loc[i, 'value']]) for i in range(len(online_glove))]\n",
        "online_glove['sim_of_t2_val'] = [cosine_similarity(glove[online_glove.loc[i, 'target2']], glove[online_glove.loc[i, 'value']]) for i in range(len(online_glove))]\n",
        "online_glove = online_glove.rename({'variable': 'clues'}, axis = 1)#.melt(id_vars = ['wordpair_id', 'gameID', 'clues', 'value'])\n",
        "online_glove['embedding'] = 'glove'\n",
        "\n",
        "online_swow['target1'] = online_swow['target1'].apply(lambda x: return_emb(x, 'swow'))\n",
        "online_swow['target2'] = online_swow['target2'].apply(lambda x: return_emb(x, 'swow'))\n",
        "online_swow['value'] = online_swow['value'].apply(lambda x: return_emb(x, 'swow'))\n",
        "online_swow = online_swow.dropna().reset_index(drop = True)\n",
        "online_swow['sim_of_t1_val'] = [cosine_similarity(swow[online_swow.loc[i, 'target1']], swow[online_swow.loc[i, 'value']]) for i in range(len(online_swow))]\n",
        "online_swow['sim_of_t2_val'] = [cosine_similarity(swow[online_swow.loc[i, 'target2']], swow[online_swow.loc[i, 'value']]) for i in range(len(online_swow))]\n",
        "online_swow = online_swow.rename({'variable': 'clues'}, axis = 1)#.melt(id_vars = ['wordpair_id', 'gameID', 'clues', 'value'])\n",
        "online_swow['embedding'] = 'swow'\n",
        "\n",
        "total_online_emb = pd.concat([online_glove, online_swow], axis = 0, ignore_index=True)\n",
        "total_online_emb = total_online_emb.drop(['target1', 'target2', 'value'], axis = 1)\n",
        "total_online_emb['clues'] = total_online_emb['clues'].apply(lambda x: x[-1])\n",
        "total_online_emb = total_online_emb.melt(id_vars = ['wordpair_id', 'gameID', 'clues', 'embedding'])\n",
        "total_online_emb['variable'] = total_online_emb['variable'].apply(lambda x: x.split('_')[2][-1])\n",
        "total_online_emb.rename({'clues': 'Clue Option','variable': 'Target', 'embedding': 'Embedding', 'value': 'Similarity'}, axis = 1, inplace = True)"
      ],
      "metadata": {
        "id": "PGAUvOm9zWxT"
      },
      "execution_count": 14,
      "outputs": []
    },
    {
      "cell_type": "code",
      "source": [
        "total_online_emb"
      ],
      "metadata": {
        "id": "UDnAAFRfFeMJ",
        "outputId": "27b09457-be00-4fa9-a713-de4051a630b3",
        "colab": {
          "base_uri": "https://localhost:8080/",
          "height": 423
        }
      },
      "execution_count": 15,
      "outputs": [
        {
          "output_type": "execute_result",
          "data": {
            "text/html": [
              "\n",
              "  <div id=\"df-95f5a263-8149-4228-a75c-4084ed68ae52\">\n",
              "    <div class=\"colab-df-container\">\n",
              "      <div>\n",
              "<style scoped>\n",
              "    .dataframe tbody tr th:only-of-type {\n",
              "        vertical-align: middle;\n",
              "    }\n",
              "\n",
              "    .dataframe tbody tr th {\n",
              "        vertical-align: top;\n",
              "    }\n",
              "\n",
              "    .dataframe thead th {\n",
              "        text-align: right;\n",
              "    }\n",
              "</style>\n",
              "<table border=\"1\" class=\"dataframe\">\n",
              "  <thead>\n",
              "    <tr style=\"text-align: right;\">\n",
              "      <th></th>\n",
              "      <th>wordpair_id</th>\n",
              "      <th>gameID</th>\n",
              "      <th>Clue Option</th>\n",
              "      <th>Embedding</th>\n",
              "      <th>Target</th>\n",
              "      <th>Similarity</th>\n",
              "    </tr>\n",
              "  </thead>\n",
              "  <tbody>\n",
              "    <tr>\n",
              "      <th>0</th>\n",
              "      <td>bowl-sun</td>\n",
              "      <td>454955-472987</td>\n",
              "      <td>1</td>\n",
              "      <td>glove</td>\n",
              "      <td>1</td>\n",
              "      <td>0.109829</td>\n",
              "    </tr>\n",
              "    <tr>\n",
              "      <th>1</th>\n",
              "      <td>cave-knight</td>\n",
              "      <td>454955-472987</td>\n",
              "      <td>1</td>\n",
              "      <td>glove</td>\n",
              "      <td>1</td>\n",
              "      <td>0.268687</td>\n",
              "    </tr>\n",
              "    <tr>\n",
              "      <th>2</th>\n",
              "      <td>glow-quick</td>\n",
              "      <td>454955-472987</td>\n",
              "      <td>1</td>\n",
              "      <td>glove</td>\n",
              "      <td>1</td>\n",
              "      <td>0.386934</td>\n",
              "    </tr>\n",
              "    <tr>\n",
              "      <th>3</th>\n",
              "      <td>gold-silver</td>\n",
              "      <td>454955-472987</td>\n",
              "      <td>1</td>\n",
              "      <td>glove</td>\n",
              "      <td>1</td>\n",
              "      <td>0.434517</td>\n",
              "    </tr>\n",
              "    <tr>\n",
              "      <th>4</th>\n",
              "      <td>oak-tree</td>\n",
              "      <td>454955-472987</td>\n",
              "      <td>1</td>\n",
              "      <td>glove</td>\n",
              "      <td>1</td>\n",
              "      <td>0.380577</td>\n",
              "    </tr>\n",
              "    <tr>\n",
              "      <th>...</th>\n",
              "      <td>...</td>\n",
              "      <td>...</td>\n",
              "      <td>...</td>\n",
              "      <td>...</td>\n",
              "      <td>...</td>\n",
              "      <td>...</td>\n",
              "    </tr>\n",
              "    <tr>\n",
              "      <th>17679</th>\n",
              "      <td>bowl-sun</td>\n",
              "      <td>473115-463794</td>\n",
              "      <td>8</td>\n",
              "      <td>swow</td>\n",
              "      <td>2</td>\n",
              "      <td>0.687335</td>\n",
              "    </tr>\n",
              "    <tr>\n",
              "      <th>17680</th>\n",
              "      <td>glow-quick</td>\n",
              "      <td>473115-463794</td>\n",
              "      <td>8</td>\n",
              "      <td>swow</td>\n",
              "      <td>2</td>\n",
              "      <td>0.120511</td>\n",
              "    </tr>\n",
              "    <tr>\n",
              "      <th>17681</th>\n",
              "      <td>gold-silver</td>\n",
              "      <td>473115-463794</td>\n",
              "      <td>8</td>\n",
              "      <td>swow</td>\n",
              "      <td>2</td>\n",
              "      <td>0.567042</td>\n",
              "    </tr>\n",
              "    <tr>\n",
              "      <th>17682</th>\n",
              "      <td>oak-tree</td>\n",
              "      <td>473115-463794</td>\n",
              "      <td>8</td>\n",
              "      <td>swow</td>\n",
              "      <td>2</td>\n",
              "      <td>0.667645</td>\n",
              "    </tr>\n",
              "    <tr>\n",
              "      <th>17683</th>\n",
              "      <td>chapel-feet</td>\n",
              "      <td>486514-466626</td>\n",
              "      <td>8</td>\n",
              "      <td>swow</td>\n",
              "      <td>2</td>\n",
              "      <td>0.031457</td>\n",
              "    </tr>\n",
              "  </tbody>\n",
              "</table>\n",
              "<p>17684 rows × 6 columns</p>\n",
              "</div>\n",
              "      <button class=\"colab-df-convert\" onclick=\"convertToInteractive('df-95f5a263-8149-4228-a75c-4084ed68ae52')\"\n",
              "              title=\"Convert this dataframe to an interactive table.\"\n",
              "              style=\"display:none;\">\n",
              "        \n",
              "  <svg xmlns=\"http://www.w3.org/2000/svg\" height=\"24px\"viewBox=\"0 0 24 24\"\n",
              "       width=\"24px\">\n",
              "    <path d=\"M0 0h24v24H0V0z\" fill=\"none\"/>\n",
              "    <path d=\"M18.56 5.44l.94 2.06.94-2.06 2.06-.94-2.06-.94-.94-2.06-.94 2.06-2.06.94zm-11 1L8.5 8.5l.94-2.06 2.06-.94-2.06-.94L8.5 2.5l-.94 2.06-2.06.94zm10 10l.94 2.06.94-2.06 2.06-.94-2.06-.94-.94-2.06-.94 2.06-2.06.94z\"/><path d=\"M17.41 7.96l-1.37-1.37c-.4-.4-.92-.59-1.43-.59-.52 0-1.04.2-1.43.59L10.3 9.45l-7.72 7.72c-.78.78-.78 2.05 0 2.83L4 21.41c.39.39.9.59 1.41.59.51 0 1.02-.2 1.41-.59l7.78-7.78 2.81-2.81c.8-.78.8-2.07 0-2.86zM5.41 20L4 18.59l7.72-7.72 1.47 1.35L5.41 20z\"/>\n",
              "  </svg>\n",
              "      </button>\n",
              "      \n",
              "  <style>\n",
              "    .colab-df-container {\n",
              "      display:flex;\n",
              "      flex-wrap:wrap;\n",
              "      gap: 12px;\n",
              "    }\n",
              "\n",
              "    .colab-df-convert {\n",
              "      background-color: #E8F0FE;\n",
              "      border: none;\n",
              "      border-radius: 50%;\n",
              "      cursor: pointer;\n",
              "      display: none;\n",
              "      fill: #1967D2;\n",
              "      height: 32px;\n",
              "      padding: 0 0 0 0;\n",
              "      width: 32px;\n",
              "    }\n",
              "\n",
              "    .colab-df-convert:hover {\n",
              "      background-color: #E2EBFA;\n",
              "      box-shadow: 0px 1px 2px rgba(60, 64, 67, 0.3), 0px 1px 3px 1px rgba(60, 64, 67, 0.15);\n",
              "      fill: #174EA6;\n",
              "    }\n",
              "\n",
              "    [theme=dark] .colab-df-convert {\n",
              "      background-color: #3B4455;\n",
              "      fill: #D2E3FC;\n",
              "    }\n",
              "\n",
              "    [theme=dark] .colab-df-convert:hover {\n",
              "      background-color: #434B5C;\n",
              "      box-shadow: 0px 1px 3px 1px rgba(0, 0, 0, 0.15);\n",
              "      filter: drop-shadow(0px 1px 2px rgba(0, 0, 0, 0.3));\n",
              "      fill: #FFFFFF;\n",
              "    }\n",
              "  </style>\n",
              "\n",
              "      <script>\n",
              "        const buttonEl =\n",
              "          document.querySelector('#df-95f5a263-8149-4228-a75c-4084ed68ae52 button.colab-df-convert');\n",
              "        buttonEl.style.display =\n",
              "          google.colab.kernel.accessAllowed ? 'block' : 'none';\n",
              "\n",
              "        async function convertToInteractive(key) {\n",
              "          const element = document.querySelector('#df-95f5a263-8149-4228-a75c-4084ed68ae52');\n",
              "          const dataTable =\n",
              "            await google.colab.kernel.invokeFunction('convertToInteractive',\n",
              "                                                     [key], {});\n",
              "          if (!dataTable) return;\n",
              "\n",
              "          const docLinkHtml = 'Like what you see? Visit the ' +\n",
              "            '<a target=\"_blank\" href=https://colab.research.google.com/notebooks/data_table.ipynb>data table notebook</a>'\n",
              "            + ' to learn more about interactive tables.';\n",
              "          element.innerHTML = '';\n",
              "          dataTable['output_type'] = 'display_data';\n",
              "          await google.colab.output.renderOutput(dataTable, element);\n",
              "          const docLink = document.createElement('div');\n",
              "          docLink.innerHTML = docLinkHtml;\n",
              "          element.appendChild(docLink);\n",
              "        }\n",
              "      </script>\n",
              "    </div>\n",
              "  </div>\n",
              "  "
            ],
            "text/plain": [
              "       wordpair_id         gameID Clue Option Embedding Target  Similarity\n",
              "0         bowl-sun  454955-472987           1     glove      1    0.109829\n",
              "1      cave-knight  454955-472987           1     glove      1    0.268687\n",
              "2       glow-quick  454955-472987           1     glove      1    0.386934\n",
              "3      gold-silver  454955-472987           1     glove      1    0.434517\n",
              "4         oak-tree  454955-472987           1     glove      1    0.380577\n",
              "...            ...            ...         ...       ...    ...         ...\n",
              "17679     bowl-sun  473115-463794           8      swow      2    0.687335\n",
              "17680   glow-quick  473115-463794           8      swow      2    0.120511\n",
              "17681  gold-silver  473115-463794           8      swow      2    0.567042\n",
              "17682     oak-tree  473115-463794           8      swow      2    0.667645\n",
              "17683  chapel-feet  486514-466626           8      swow      2    0.031457\n",
              "\n",
              "[17684 rows x 6 columns]"
            ]
          },
          "metadata": {},
          "execution_count": 15
        }
      ]
    },
    {
      "cell_type": "code",
      "source": [
        "sns.catplot(data = total_online_emb, x = 'Clue Option', y = 'Similarity', hue = 'Target', col = 'Embedding', kind = 'bar')\n",
        "plt.savefig(os.path.join(plot_path, 'similarity_per_target_per_embedding.png'))\n",
        "plt.show()"
      ],
      "metadata": {
        "id": "0tv2THNN31eg",
        "outputId": "05931032-dc8e-45a7-c5f0-835861847d3b",
        "colab": {
          "base_uri": "https://localhost:8080/",
          "height": 369
        }
      },
      "execution_count": 37,
      "outputs": [
        {
          "output_type": "display_data",
          "data": {
            "image/png": "[encoded data removed]",
            "text/plain": [
              "<Figure size 762.375x360 with 2 Axes>"
            ]
          },
          "metadata": {
            "needs_background": "light"
          }
        }
      ]
    },
    {
      "cell_type": "markdown",
      "source": [
        "## - Next, we evaluate whether the number of candidates produced by participants correlate with performance across different levels"
      ],
      "metadata": {
        "id": "3ecRsPAICugq"
      }
    },
    {
      "cell_type": "code",
      "source": [
        "# perform regplot by level with Acc and number of clues per row\n",
        "temp_online_clues = online_clues.sort_values(['Ranking'])\n",
        "display(temp_online_clues)\n",
        "sns.lmplot(data = temp_online_clues, x = 'Number of Clues', y = 'Acc', hue = 'Level')\n",
        "plt.ylim([0-0.1, 1+0.1])\n",
        "plt.savefig(os.path.join(plot_path, 'regression_acc_by_num_clues_per_level.png'))\n",
        "plt.show()"
      ],
      "metadata": {
        "id": "muxlBIVsCwZc",
        "colab": {
          "base_uri": "https://localhost:8080/",
          "height": 1000
        },
        "outputId": "d2984a50-a43d-4545-a4bf-5ab8bfbfc0a4"
      },
      "execution_count": 38,
      "outputs": [
        {
          "output_type": "display_data",
          "data": {
            "text/html": [
              "\n",
              "  <div id=\"df-c7ff7f7a-0666-434c-905a-6bb5c38cc286\">\n",
              "    <div class=\"colab-df-container\">\n",
              "      <div>\n",
              "<style scoped>\n",
              "    .dataframe tbody tr th:only-of-type {\n",
              "        vertical-align: middle;\n",
              "    }\n",
              "\n",
              "    .dataframe tbody tr th {\n",
              "        vertical-align: top;\n",
              "    }\n",
              "\n",
              "    .dataframe thead th {\n",
              "        text-align: right;\n",
              "    }\n",
              "</style>\n",
              "<table border=\"1\" class=\"dataframe\">\n",
              "  <thead>\n",
              "    <tr style=\"text-align: right;\">\n",
              "      <th></th>\n",
              "      <th>wordpair_id</th>\n",
              "      <th>gameID</th>\n",
              "      <th>clueOption1</th>\n",
              "      <th>clueOption2</th>\n",
              "      <th>clueOption3</th>\n",
              "      <th>clueOption4</th>\n",
              "      <th>clueOption5</th>\n",
              "      <th>clueOption6</th>\n",
              "      <th>clueOption7</th>\n",
              "      <th>clueOption8</th>\n",
              "      <th>clueFinal</th>\n",
              "      <th>Acc</th>\n",
              "      <th>Level</th>\n",
              "      <th>Ranking</th>\n",
              "      <th>Number of Clues</th>\n",
              "    </tr>\n",
              "  </thead>\n",
              "  <tbody>\n",
              "    <tr>\n",
              "      <th>731</th>\n",
              "      <td>jump-leap</td>\n",
              "      <td>473184-487224</td>\n",
              "      <td>high</td>\n",
              "      <td>legs</td>\n",
              "      <td>quick</td>\n",
              "      <td>NaN</td>\n",
              "      <td>NaN</td>\n",
              "      <td>NaN</td>\n",
              "      <td>NaN</td>\n",
              "      <td>NaN</td>\n",
              "      <td>frog</td>\n",
              "      <td>1</td>\n",
              "      <td>Easy</td>\n",
              "      <td>1</td>\n",
              "      <td>3</td>\n",
              "    </tr>\n",
              "    <tr>\n",
              "      <th>729</th>\n",
              "      <td>gums-teeth</td>\n",
              "      <td>473184-487224</td>\n",
              "      <td>dentist</td>\n",
              "      <td>hygiene</td>\n",
              "      <td>flossing</td>\n",
              "      <td>NaN</td>\n",
              "      <td>NaN</td>\n",
              "      <td>NaN</td>\n",
              "      <td>NaN</td>\n",
              "      <td>NaN</td>\n",
              "      <td>dental</td>\n",
              "      <td>1</td>\n",
              "      <td>Easy</td>\n",
              "      <td>1</td>\n",
              "      <td>3</td>\n",
              "    </tr>\n",
              "    <tr>\n",
              "      <th>850</th>\n",
              "      <td>oak-tree</td>\n",
              "      <td>473749-473360</td>\n",
              "      <td>wood</td>\n",
              "      <td>earth</td>\n",
              "      <td>states</td>\n",
              "      <td>NaN</td>\n",
              "      <td>NaN</td>\n",
              "      <td>NaN</td>\n",
              "      <td>NaN</td>\n",
              "      <td>NaN</td>\n",
              "      <td>wood</td>\n",
              "      <td>1</td>\n",
              "      <td>Easy</td>\n",
              "      <td>1</td>\n",
              "      <td>3</td>\n",
              "    </tr>\n",
              "    <tr>\n",
              "      <th>849</th>\n",
              "      <td>new-old</td>\n",
              "      <td>473749-473360</td>\n",
              "      <td>time</td>\n",
              "      <td>measure</td>\n",
              "      <td>antonyms</td>\n",
              "      <td>NaN</td>\n",
              "      <td>NaN</td>\n",
              "      <td>NaN</td>\n",
              "      <td>NaN</td>\n",
              "      <td>NaN</td>\n",
              "      <td>time</td>\n",
              "      <td>1</td>\n",
              "      <td>Easy</td>\n",
              "      <td>1</td>\n",
              "      <td>3</td>\n",
              "    </tr>\n",
              "    <tr>\n",
              "      <th>848</th>\n",
              "      <td>lion-tiger</td>\n",
              "      <td>473749-473360</td>\n",
              "      <td>cat</td>\n",
              "      <td>animal</td>\n",
              "      <td>roar</td>\n",
              "      <td>NaN</td>\n",
              "      <td>NaN</td>\n",
              "      <td>NaN</td>\n",
              "      <td>NaN</td>\n",
              "      <td>NaN</td>\n",
              "      <td>cat</td>\n",
              "      <td>1</td>\n",
              "      <td>Easy</td>\n",
              "      <td>1</td>\n",
              "      <td>3</td>\n",
              "    </tr>\n",
              "    <tr>\n",
              "      <th>...</th>\n",
              "      <td>...</td>\n",
              "      <td>...</td>\n",
              "      <td>...</td>\n",
              "      <td>...</td>\n",
              "      <td>...</td>\n",
              "      <td>...</td>\n",
              "      <td>...</td>\n",
              "      <td>...</td>\n",
              "      <td>...</td>\n",
              "      <td>...</td>\n",
              "      <td>...</td>\n",
              "      <td>...</td>\n",
              "      <td>...</td>\n",
              "      <td>...</td>\n",
              "      <td>...</td>\n",
              "    </tr>\n",
              "    <tr>\n",
              "      <th>439</th>\n",
              "      <td>ankle-travel</td>\n",
              "      <td>464255-486078</td>\n",
              "      <td>cross up</td>\n",
              "      <td>basketball</td>\n",
              "      <td>walk</td>\n",
              "      <td>NaN</td>\n",
              "      <td>NaN</td>\n",
              "      <td>NaN</td>\n",
              "      <td>NaN</td>\n",
              "      <td>NaN</td>\n",
              "      <td>basketball</td>\n",
              "      <td>0</td>\n",
              "      <td>Hard</td>\n",
              "      <td>3</td>\n",
              "      <td>3</td>\n",
              "    </tr>\n",
              "    <tr>\n",
              "      <th>438</th>\n",
              "      <td>stern-wind</td>\n",
              "      <td>464103-465376</td>\n",
              "      <td>sailboat</td>\n",
              "      <td>strong</td>\n",
              "      <td>forceful</td>\n",
              "      <td>NaN</td>\n",
              "      <td>NaN</td>\n",
              "      <td>NaN</td>\n",
              "      <td>NaN</td>\n",
              "      <td>NaN</td>\n",
              "      <td>sailboat</td>\n",
              "      <td>1</td>\n",
              "      <td>Hard</td>\n",
              "      <td>3</td>\n",
              "      <td>3</td>\n",
              "    </tr>\n",
              "    <tr>\n",
              "      <th>436</th>\n",
              "      <td>regret-rude</td>\n",
              "      <td>464103-465376</td>\n",
              "      <td>actions</td>\n",
              "      <td>bad</td>\n",
              "      <td>past</td>\n",
              "      <td>NaN</td>\n",
              "      <td>NaN</td>\n",
              "      <td>NaN</td>\n",
              "      <td>NaN</td>\n",
              "      <td>NaN</td>\n",
              "      <td>bad</td>\n",
              "      <td>1</td>\n",
              "      <td>Hard</td>\n",
              "      <td>3</td>\n",
              "      <td>3</td>\n",
              "    </tr>\n",
              "    <tr>\n",
              "      <th>399</th>\n",
              "      <td>giant-subtle</td>\n",
              "      <td>463960-455649</td>\n",
              "      <td>nimble</td>\n",
              "      <td>noise</td>\n",
              "      <td>large</td>\n",
              "      <td>elephant</td>\n",
              "      <td>NaN</td>\n",
              "      <td>NaN</td>\n",
              "      <td>NaN</td>\n",
              "      <td>NaN</td>\n",
              "      <td>nimble</td>\n",
              "      <td>0</td>\n",
              "      <td>Hard</td>\n",
              "      <td>3</td>\n",
              "      <td>4</td>\n",
              "    </tr>\n",
              "    <tr>\n",
              "      <th>1093</th>\n",
              "      <td>ash-snake</td>\n",
              "      <td>486051-473300</td>\n",
              "      <td>shed</td>\n",
              "      <td>desert</td>\n",
              "      <td>burn</td>\n",
              "      <td>NaN</td>\n",
              "      <td>NaN</td>\n",
              "      <td>NaN</td>\n",
              "      <td>NaN</td>\n",
              "      <td>NaN</td>\n",
              "      <td>desert</td>\n",
              "      <td>1</td>\n",
              "      <td>Hard</td>\n",
              "      <td>3</td>\n",
              "      <td>3</td>\n",
              "    </tr>\n",
              "  </tbody>\n",
              "</table>\n",
              "<p>1456 rows × 15 columns</p>\n",
              "</div>\n",
              "      <button class=\"colab-df-convert\" onclick=\"convertToInteractive('df-c7ff7f7a-0666-434c-905a-6bb5c38cc286')\"\n",
              "              title=\"Convert this dataframe to an interactive table.\"\n",
              "              style=\"display:none;\">\n",
              "        \n",
              "  <svg xmlns=\"http://www.w3.org/2000/svg\" height=\"24px\"viewBox=\"0 0 24 24\"\n",
              "       width=\"24px\">\n",
              "    <path d=\"M0 0h24v24H0V0z\" fill=\"none\"/>\n",
              "    <path d=\"M18.56 5.44l.94 2.06.94-2.06 2.06-.94-2.06-.94-.94-2.06-.94 2.06-2.06.94zm-11 1L8.5 8.5l.94-2.06 2.06-.94-2.06-.94L8.5 2.5l-.94 2.06-2.06.94zm10 10l.94 2.06.94-2.06 2.06-.94-2.06-.94-.94-2.06-.94 2.06-2.06.94z\"/><path d=\"M17.41 7.96l-1.37-1.37c-.4-.4-.92-.59-1.43-.59-.52 0-1.04.2-1.43.59L10.3 9.45l-7.72 7.72c-.78.78-.78 2.05 0 2.83L4 21.41c.39.39.9.59 1.41.59.51 0 1.02-.2 1.41-.59l7.78-7.78 2.81-2.81c.8-.78.8-2.07 0-2.86zM5.41 20L4 18.59l7.72-7.72 1.47 1.35L5.41 20z\"/>\n",
              "  </svg>\n",
              "      </button>\n",
              "      \n",
              "  <style>\n",
              "    .colab-df-container {\n",
              "      display:flex;\n",
              "      flex-wrap:wrap;\n",
              "      gap: 12px;\n",
              "    }\n",
              "\n",
              "    .colab-df-convert {\n",
              "      background-color: #E8F0FE;\n",
              "      border: none;\n",
              "      border-radius: 50%;\n",
              "      cursor: pointer;\n",
              "      display: none;\n",
              "      fill: #1967D2;\n",
              "      height: 32px;\n",
              "      padding: 0 0 0 0;\n",
              "      width: 32px;\n",
              "    }\n",
              "\n",
              "    .colab-df-convert:hover {\n",
              "      background-color: #E2EBFA;\n",
              "      box-shadow: 0px 1px 2px rgba(60, 64, 67, 0.3), 0px 1px 3px 1px rgba(60, 64, 67, 0.15);\n",
              "      fill: #174EA6;\n",
              "    }\n",
              "\n",
              "    [theme=dark] .colab-df-convert {\n",
              "      background-color: #3B4455;\n",
              "      fill: #D2E3FC;\n",
              "    }\n",
              "\n",
              "    [theme=dark] .colab-df-convert:hover {\n",
              "      background-color: #434B5C;\n",
              "      box-shadow: 0px 1px 3px 1px rgba(0, 0, 0, 0.15);\n",
              "      filter: drop-shadow(0px 1px 2px rgba(0, 0, 0, 0.3));\n",
              "      fill: #FFFFFF;\n",
              "    }\n",
              "  </style>\n",
              "\n",
              "      <script>\n",
              "        const buttonEl =\n",
              "          document.querySelector('#df-c7ff7f7a-0666-434c-905a-6bb5c38cc286 button.colab-df-convert');\n",
              "        buttonEl.style.display =\n",
              "          google.colab.kernel.accessAllowed ? 'block' : 'none';\n",
              "\n",
              "        async function convertToInteractive(key) {\n",
              "          const element = document.querySelector('#df-c7ff7f7a-0666-434c-905a-6bb5c38cc286');\n",
              "          const dataTable =\n",
              "            await google.colab.kernel.invokeFunction('convertToInteractive',\n",
              "                                                     [key], {});\n",
              "          if (!dataTable) return;\n",
              "\n",
              "          const docLinkHtml = 'Like what you see? Visit the ' +\n",
              "            '<a target=\"_blank\" href=https://colab.research.google.com/notebooks/data_table.ipynb>data table notebook</a>'\n",
              "            + ' to learn more about interactive tables.';\n",
              "          element.innerHTML = '';\n",
              "          dataTable['output_type'] = 'display_data';\n",
              "          await google.colab.output.renderOutput(dataTable, element);\n",
              "          const docLink = document.createElement('div');\n",
              "          docLink.innerHTML = docLinkHtml;\n",
              "          element.appendChild(docLink);\n",
              "        }\n",
              "      </script>\n",
              "    </div>\n",
              "  </div>\n",
              "  "
            ],
            "text/plain": [
              "       wordpair_id         gameID clueOption1  ... Level Ranking Number of Clues\n",
              "731      jump-leap  473184-487224        high  ...  Easy       1               3\n",
              "729     gums-teeth  473184-487224     dentist  ...  Easy       1               3\n",
              "850       oak-tree  473749-473360        wood  ...  Easy       1               3\n",
              "849        new-old  473749-473360        time  ...  Easy       1               3\n",
              "848     lion-tiger  473749-473360         cat  ...  Easy       1               3\n",
              "...            ...            ...         ...  ...   ...     ...             ...\n",
              "439   ankle-travel  464255-486078    cross up  ...  Hard       3               3\n",
              "438     stern-wind  464103-465376    sailboat  ...  Hard       3               3\n",
              "436    regret-rude  464103-465376     actions  ...  Hard       3               3\n",
              "399   giant-subtle  463960-455649      nimble  ...  Hard       3               4\n",
              "1093     ash-snake  486051-473300        shed  ...  Hard       3               3\n",
              "\n",
              "[1456 rows x 15 columns]"
            ]
          },
          "metadata": {}
        },
        {
          "output_type": "display_data",
          "data": {
            "image/png": "[encoded data removed]",
            "text/plain": [
              "<Figure size 436x360 with 1 Axes>"
            ]
          },
          "metadata": {
            "needs_background": "light"
          }
        }
      ]
    },
    {
      "cell_type": "markdown",
      "source": [
        "## - We evaluate whether the responses show signatures of clustering and/or foraging typically found in semantic retrieval tasks. we use a patchy semantic space and ask whether the candidate responses show any evidence of transitions within and outside the patch, and whether these are related to correct responses from the listener. "
      ],
      "metadata": {
        "id": "X-QmA2MtCw8S"
      }
    },
    {
      "cell_type": "code",
      "source": [
        "def _patch1(data = online):\n",
        "  wpid = data['wordpair_id'].unique()\n",
        "  rows = []\n",
        "  for t in wpid:\n",
        "    temp = online[online['wordpair_id'] == t].reset_index()\n",
        "    temp = temp.loc[:, ['wordpair_id', 'clueOption1', 'target1', 'target2', 'Level', 'Acc', 'clueFinal', 'index']].reset_index(drop = True)\n",
        "    row_frame = temp[['clueFinal', 'Acc', 'index', 'Level']]\n",
        "    row_frame['wordpair_id'] = t\n",
        "    row_frame['target1'] = temp.loc[0, 'target1']\n",
        "    row_frame['target2'] = temp.loc[0, 'target2']\n",
        "    clues = list(temp['clueOption1'].unique())\n",
        "    row_frame['words_in_patch'] = ','.join(clues)\n",
        "    row_frame['patchsize'] = len(clues)\n",
        "    row_frame['Level'] = temp.loc[0, 'Level']\n",
        "\n",
        "    rows.append(row_frame)\n",
        "\n",
        "  frame = pd.concat(rows).reset_index(drop = True).rename({'index': 'row_id'}, axis = 1)\n",
        "  return frame\n",
        "\n",
        "def _patch2(p1, source = 'glove'):\n",
        "  if source == 'glove':\n",
        "    source_emb = glove\n",
        "  else:\n",
        "    source_emb = swow\n",
        "  frame = p1.copy().drop('words_in_patch', axis = 1)\n",
        "  rows = []\n",
        "  wpid = frame['wordpair_id'].unique()\n",
        "  for r in tqdm(wpid):\n",
        "    d = frame[frame['wordpair_id'] == r].reset_index()\n",
        "    avg_vector = np.mean(np.c_[source_emb[d.loc[0,'target1']], source_emb[d.loc[0, 'target2']]], axis = 1)\n",
        "    words_frame = pd.DataFrame.from_dict([{'word': w, 'sim': cosine_similarity(source_emb[w], avg_vector)} for w in glove.columns.to_list()])\n",
        "    words_frame = words_frame.sort_values('sim', ascending = False)[~words_frame['word'].isin([d.loc[0,'target1'], d.loc[0, 'target2']])].head(d.loc[0, 'patchsize'])\n",
        "    patch_words = ','.join(words_frame['word'])\n",
        "    row = {'wordpair_id': r, 'words_in_patch': patch_words}\n",
        "    rows.append(row)\n",
        "  dat = pd.DataFrame.from_dict(rows)\n",
        "  frame = frame.merge(dat, on = 'wordpair_id', how = 'outer')\n",
        "  return frame\n",
        "\n",
        "def _movement(words):\n",
        "  first, second = words\n",
        "  if first[1] == 1 and second[1] == 1:\n",
        "    return 'In-In'\n",
        "  elif first[1] == 1 and second[1] == 0:\n",
        "    return 'In-Out'\n",
        "  elif first[1] == 0 and second[1] == 1:\n",
        "    return 'Out-In'\n",
        "  else:\n",
        "    return 'Out-Out'\n",
        "\n",
        "def _determine_movement(patch_data, typ):\n",
        "  temp_options = online[['wordpair_id', 'clueOption1', 'clueOption2', 'clueOption3','clueOption4', 'clueOption5', 'clueOption6', 'clueOption7', 'clueOption8', 'clueFinal', 'Acc']]\n",
        "  temp_options = temp_options.reset_index().rename({'index': 'row_id'}, axis = 1)\n",
        "  rows = []\n",
        "  for i in tqdm(range(len(temp_options))):\n",
        "    r = {}\n",
        "    row = temp_options.loc[i, :].dropna()\n",
        "    r['wordpair_id'] = row.wordpair_id\n",
        "    r['In-In'] = 0\n",
        "    r['In-Out'] = 0\n",
        "    r['Out-In'] = 0\n",
        "    r['Out-Out'] = 0\n",
        "\n",
        "    words = list(row.drop(['wordpair_id', 'Acc', 'clueFinal']).to_list())\n",
        "    words = [w for w in words if isinstance(w, str)]\n",
        "    patch_wordpair = patch_data.loc[patch_data['wordpair_id'] == row.wordpair_id, :]\n",
        "    words_in_patch = [(w, 1) if w in patch_wordpair['words_in_patch'].to_list()[0].split(',') else (w, 0) for w in words ]\n",
        "    perms = [(words_in_patch[i], words_in_patch[i+1]) for i in range(0, len(words_in_patch)-1)]\n",
        "    movements = pd.Series([_movement(p) for p in perms])\n",
        "    ps = pd.DataFrame(movements.value_counts().reset_index()).rename({'index': 'Type', 0: 'Count'}, axis = 1)\n",
        "\n",
        "    ps_d = dict(zip(ps['Type'], ps['Count']))\n",
        "    for k, v in ps_d.items():\n",
        "      r[k] = v\n",
        "    r['Acc'] = row.Acc\n",
        "    r['ClueFinal'] = row.clueFinal\n",
        "    r['row_id'] = row.row_id\n",
        "    rows.append(r)\n",
        "    \n",
        "  total = pd.DataFrame.from_dict(rows)\n",
        "  total['PatchMethod'] = typ\n",
        "  return total\n",
        "\n",
        "def _join_data(p1, p2, p3 = None):\n",
        "  join_cols = ['wordpair_id', 'target1', 'target2', 'patchsize', 'Level', 'clueFinal', 'Acc', 'row_id']\n",
        "  if p3 is not None:\n",
        "    interp_data = pd.merge(p1, p2, on = join_cols, suffixes = ('_num_unique', '_glove'))\n",
        "    joined_data = pd.merge(interp_data, p3, on = join_cols).rename({'words_in_patch': 'words_in_patch_swow'}, axis = 1)\n",
        "  else:\n",
        "    joined_data = pd.merge(p1, p2, on = join_cols, suffixes=('_num_unique', '_glove'))\n",
        "\n",
        "  for typ in ['glove', 'swow']:\n",
        "    sim_word_name = f'Similar Words ({typ})'\n",
        "    joined_data[sim_word_name] = [','.join(list(set(joined_data.loc[i, 'words_in_patch_num_unique'].split(',')) &  set(joined_data.loc[i, f'words_in_patch_{typ}'].split(',')))).strip() for i in range(len(joined_data))]\n",
        "    joined_data[f'Similar Words Size ({typ})'] = joined_data[sim_word_name].apply(lambda x: len(x.split(',')) if ',' in x else 0)\n",
        "    joined_data[f'Dissimilar Words ({typ})'] = [','.join(list((Counter(joined_data.loc[i, 'words_in_patch_num_unique'].split(',')) - Counter(joined_data.loc[i, f'words_in_patch_{typ}'].split(','))).elements())) for i in range(len(joined_data))]\n",
        "    joined_data[f'Dissimilar Words Size ({typ})'] = joined_data[f'Dissimilar Words ({typ})'].apply(lambda x: len(x.split(',')) if ',' in x else 0)\n",
        "    joined_data[f'Overlap Similarity ({typ})'] = [joined_data.loc[i, f'Similar Words Size ({typ})'] / joined_data.loc[i, 'patchsize'] for i in range(len(joined_data))]\n",
        "  return joined_data"
      ],
      "metadata": {
        "id": "WgLWjXjsCxiV"
      },
      "execution_count": 18,
      "outputs": []
    },
    {
      "cell_type": "code",
      "source": [
        "patch1 = _patch1()\n",
        "patch2_glove = _patch2(patch1, source = 'glove')\n",
        "patch2_swow = _patch2(patch1, source = 'swow')\n",
        "movement1 = _determine_movement(patch1, 'NumberOfUniqueClues')\n",
        "movement2_glove = _determine_movement(patch2_glove, 'TopNByAvgVectorGloveEmbeddings')\n",
        "movement2_swow = _determine_movement(patch2_swow, 'TopNByAvgVectorSWOWEmbeddings')\n",
        "total = pd.concat([movement1, movement2_glove, movement2_swow], axis =0, ignore_index=True)\n",
        "joined_data = _join_data(patch1, patch2_glove, patch2_swow)"
      ],
      "metadata": {
        "colab": {
          "base_uri": "https://localhost:8080/"
        },
        "id": "Q5uuWHK7W47w",
        "outputId": "5ba2fcfe-1773-42cd-aa6e-7bf49ebb3a82"
      },
      "execution_count": 19,
      "outputs": [
        {
          "output_type": "stream",
          "name": "stderr",
          "text": [
            "100%|██████████| 30/30 [00:12<00:00,  2.39it/s]\n",
            "100%|██████████| 30/30 [00:12<00:00,  2.38it/s]\n",
            "100%|██████████| 1456/1456 [00:05<00:00, 246.61it/s]\n",
            "100%|██████████| 1456/1456 [00:06<00:00, 241.23it/s]\n",
            "100%|██████████| 1456/1456 [00:05<00:00, 249.56it/s]\n"
          ]
        }
      ]
    },
    {
      "cell_type": "code",
      "source": [
        "#write out joined data and total to csv\n",
        "joined_data.to_csv(r\"/content/drive/MyDrive/Classes/Fall 2021/Word Embeddings Project (Connector)/Data/Processed/joined_patch_movement.csv\", index = False)\n",
        "total.to_csv(r\"/content/drive/MyDrive/Classes/Fall 2021/Word Embeddings Project (Connector)/Data/Processed/total_patch_movement.csv\", index = False)"
      ],
      "metadata": {
        "id": "SGf26gvlgVOX"
      },
      "execution_count": 20,
      "outputs": []
    },
    {
      "cell_type": "markdown",
      "source": [
        "- Patches are defined using user-generated data and average vector method, correlation is reported"
      ],
      "metadata": {
        "id": "BITz5BC4fzd3"
      }
    },
    {
      "cell_type": "code",
      "source": [
        "from scipy.stats import pearsonr, spearmanr\n",
        "corr, _ = pearsonr(patch1['Acc'], patch1['patchsize'])\n",
        "print('Pearsons correlation: %.3f' % corr)\n",
        "corr, _ = spearmanr(patch1['Acc'], patch1['patchsize'])\n",
        "print('Spearmans correlation: %.3f' % corr)"
      ],
      "metadata": {
        "id": "uEIUNmayfz9T",
        "outputId": "07f334bd-3ba6-4221-be22-5038c05a81c1",
        "colab": {
          "base_uri": "https://localhost:8080/"
        }
      },
      "execution_count": 21,
      "outputs": [
        {
          "output_type": "stream",
          "name": "stdout",
          "text": [
            "Pearsons correlation: -0.444\n",
            "Spearmans correlation: -0.414\n"
          ]
        }
      ]
    },
    {
      "cell_type": "markdown",
      "source": [
        "  - Patch size vs. accuracy relationship reported"
      ],
      "metadata": {
        "id": "JUFxVK-KXVb7"
      }
    },
    {
      "cell_type": "code",
      "source": [
        "fig, ax = plt.subplots(figsize = (12, 8))\n",
        "sns.regplot(data = joined_data[['Acc', 'patchsize']], x = 'patchsize', y = 'Acc', ax = ax)\n",
        "plt.xlabel(\"Patch Size\")\n",
        "plt.ylabel(\"Accuracy\")\n",
        "plt.title(\"Accuracy by Patch Size of all Instances\")\n",
        "plt.savefig(os.path.join(plot_path, 'regression_acc_by_patchsize.png'))\n",
        "plt.show()"
      ],
      "metadata": {
        "colab": {
          "base_uri": "https://localhost:8080/",
          "height": 513
        },
        "id": "nze51_voXAEi",
        "outputId": "ad3b7280-5271-40cc-ae9e-1ed4db970e2c"
      },
      "execution_count": 39,
      "outputs": [
        {
          "output_type": "display_data",
          "data": {
            "image/png": "[encoded data removed]",
            "text/plain": [
              "<Figure size 864x576 with 1 Axes>"
            ]
          },
          "metadata": {
            "needs_background": "light"
          }
        }
      ]
    },
    {
      "cell_type": "markdown",
      "source": [
        "  - Proportion of transitions reported"
      ],
      "metadata": {
        "id": "5g-_oHgPXa9-"
      }
    },
    {
      "cell_type": "code",
      "source": [
        "p = total.merge(online[['wordpair_id', 'AvgAcc']], on = 'wordpair_id')\n",
        "p = p.melt(id_vars = ['wordpair_id', 'ClueFinal', 'AvgAcc', 'Acc', 'PatchMethod', 'row_id']).drop_duplicates().reset_index(drop = True)\n",
        "p = p.rename({'variable': 'Movement', 'value': 'Amount of Movement', 'AvgAcc': 'Average Accuracy at Wordpair'}, axis = 1)\n",
        "tp = p[['wordpair_id', 'Movement', 'Amount of Movement', 'PatchMethod']].groupby(['PatchMethod','wordpair_id', 'Movement']).agg({'Amount of Movement': 'sum'})\n",
        "tp = tp.groupby(level=[0,1]).apply(lambda x: x / x.sum()).reset_index()\n",
        "tp = tp.groupby(['PatchMethod', 'Movement']).mean().reset_index()\n",
        "display(tp)\n",
        "\n",
        "fig, ax = plt.subplots(figsize = (12, 8))\n",
        "sns.barplot(data = tp, x = 'Movement', y = 'Amount of Movement', hue = 'PatchMethod', ax = ax)\n",
        "plt.ylabel('Proportion of Amount of Movement')\n",
        "plt.savefig(os.path.join(plot_path, 'barplot_movement_patchmethod.png'))\n",
        "plt.show()"
      ],
      "metadata": {
        "colab": {
          "base_uri": "https://localhost:8080/",
          "height": 906
        },
        "id": "gUnW6e2KXcwd",
        "outputId": "6fe8d95c-880b-4445-ba83-65d33ebc83a9"
      },
      "execution_count": 40,
      "outputs": [
        {
          "output_type": "display_data",
          "data": {
            "text/html": [
              "\n",
              "  <div id=\"df-a0984dc6-2012-4317-b0c3-8348e228e824\">\n",
              "    <div class=\"colab-df-container\">\n",
              "      <div>\n",
              "<style scoped>\n",
              "    .dataframe tbody tr th:only-of-type {\n",
              "        vertical-align: middle;\n",
              "    }\n",
              "\n",
              "    .dataframe tbody tr th {\n",
              "        vertical-align: top;\n",
              "    }\n",
              "\n",
              "    .dataframe thead th {\n",
              "        text-align: right;\n",
              "    }\n",
              "</style>\n",
              "<table border=\"1\" class=\"dataframe\">\n",
              "  <thead>\n",
              "    <tr style=\"text-align: right;\">\n",
              "      <th></th>\n",
              "      <th>PatchMethod</th>\n",
              "      <th>Movement</th>\n",
              "      <th>Amount of Movement</th>\n",
              "    </tr>\n",
              "  </thead>\n",
              "  <tbody>\n",
              "    <tr>\n",
              "      <th>0</th>\n",
              "      <td>NumberOfUniqueClues</td>\n",
              "      <td>In-In</td>\n",
              "      <td>0.333696</td>\n",
              "    </tr>\n",
              "    <tr>\n",
              "      <th>1</th>\n",
              "      <td>NumberOfUniqueClues</td>\n",
              "      <td>In-Out</td>\n",
              "      <td>0.377753</td>\n",
              "    </tr>\n",
              "    <tr>\n",
              "      <th>2</th>\n",
              "      <td>NumberOfUniqueClues</td>\n",
              "      <td>Out-In</td>\n",
              "      <td>0.112224</td>\n",
              "    </tr>\n",
              "    <tr>\n",
              "      <th>3</th>\n",
              "      <td>NumberOfUniqueClues</td>\n",
              "      <td>Out-Out</td>\n",
              "      <td>0.176327</td>\n",
              "    </tr>\n",
              "    <tr>\n",
              "      <th>4</th>\n",
              "      <td>TopNByAvgVectorGloveEmbeddings</td>\n",
              "      <td>In-In</td>\n",
              "      <td>0.035190</td>\n",
              "    </tr>\n",
              "    <tr>\n",
              "      <th>5</th>\n",
              "      <td>TopNByAvgVectorGloveEmbeddings</td>\n",
              "      <td>In-Out</td>\n",
              "      <td>0.137626</td>\n",
              "    </tr>\n",
              "    <tr>\n",
              "      <th>6</th>\n",
              "      <td>TopNByAvgVectorGloveEmbeddings</td>\n",
              "      <td>Out-In</td>\n",
              "      <td>0.117050</td>\n",
              "    </tr>\n",
              "    <tr>\n",
              "      <th>7</th>\n",
              "      <td>TopNByAvgVectorGloveEmbeddings</td>\n",
              "      <td>Out-Out</td>\n",
              "      <td>0.710134</td>\n",
              "    </tr>\n",
              "    <tr>\n",
              "      <th>8</th>\n",
              "      <td>TopNByAvgVectorSWOWEmbeddings</td>\n",
              "      <td>In-In</td>\n",
              "      <td>0.065416</td>\n",
              "    </tr>\n",
              "    <tr>\n",
              "      <th>9</th>\n",
              "      <td>TopNByAvgVectorSWOWEmbeddings</td>\n",
              "      <td>In-Out</td>\n",
              "      <td>0.194621</td>\n",
              "    </tr>\n",
              "    <tr>\n",
              "      <th>10</th>\n",
              "      <td>TopNByAvgVectorSWOWEmbeddings</td>\n",
              "      <td>Out-In</td>\n",
              "      <td>0.151910</td>\n",
              "    </tr>\n",
              "    <tr>\n",
              "      <th>11</th>\n",
              "      <td>TopNByAvgVectorSWOWEmbeddings</td>\n",
              "      <td>Out-Out</td>\n",
              "      <td>0.588052</td>\n",
              "    </tr>\n",
              "  </tbody>\n",
              "</table>\n",
              "</div>\n",
              "      <button class=\"colab-df-convert\" onclick=\"convertToInteractive('df-a0984dc6-2012-4317-b0c3-8348e228e824')\"\n",
              "              title=\"Convert this dataframe to an interactive table.\"\n",
              "              style=\"display:none;\">\n",
              "        \n",
              "  <svg xmlns=\"http://www.w3.org/2000/svg\" height=\"24px\"viewBox=\"0 0 24 24\"\n",
              "       width=\"24px\">\n",
              "    <path d=\"M0 0h24v24H0V0z\" fill=\"none\"/>\n",
              "    <path d=\"M18.56 5.44l.94 2.06.94-2.06 2.06-.94-2.06-.94-.94-2.06-.94 2.06-2.06.94zm-11 1L8.5 8.5l.94-2.06 2.06-.94-2.06-.94L8.5 2.5l-.94 2.06-2.06.94zm10 10l.94 2.06.94-2.06 2.06-.94-2.06-.94-.94-2.06-.94 2.06-2.06.94z\"/><path d=\"M17.41 7.96l-1.37-1.37c-.4-.4-.92-.59-1.43-.59-.52 0-1.04.2-1.43.59L10.3 9.45l-7.72 7.72c-.78.78-.78 2.05 0 2.83L4 21.41c.39.39.9.59 1.41.59.51 0 1.02-.2 1.41-.59l7.78-7.78 2.81-2.81c.8-.78.8-2.07 0-2.86zM5.41 20L4 18.59l7.72-7.72 1.47 1.35L5.41 20z\"/>\n",
              "  </svg>\n",
              "      </button>\n",
              "      \n",
              "  <style>\n",
              "    .colab-df-container {\n",
              "      display:flex;\n",
              "      flex-wrap:wrap;\n",
              "      gap: 12px;\n",
              "    }\n",
              "\n",
              "    .colab-df-convert {\n",
              "      background-color: #E8F0FE;\n",
              "      border: none;\n",
              "      border-radius: 50%;\n",
              "      cursor: pointer;\n",
              "      display: none;\n",
              "      fill: #1967D2;\n",
              "      height: 32px;\n",
              "      padding: 0 0 0 0;\n",
              "      width: 32px;\n",
              "    }\n",
              "\n",
              "    .colab-df-convert:hover {\n",
              "      background-color: #E2EBFA;\n",
              "      box-shadow: 0px 1px 2px rgba(60, 64, 67, 0.3), 0px 1px 3px 1px rgba(60, 64, 67, 0.15);\n",
              "      fill: #174EA6;\n",
              "    }\n",
              "\n",
              "    [theme=dark] .colab-df-convert {\n",
              "      background-color: #3B4455;\n",
              "      fill: #D2E3FC;\n",
              "    }\n",
              "\n",
              "    [theme=dark] .colab-df-convert:hover {\n",
              "      background-color: #434B5C;\n",
              "      box-shadow: 0px 1px 3px 1px rgba(0, 0, 0, 0.15);\n",
              "      filter: drop-shadow(0px 1px 2px rgba(0, 0, 0, 0.3));\n",
              "      fill: #FFFFFF;\n",
              "    }\n",
              "  </style>\n",
              "\n",
              "      <script>\n",
              "        const buttonEl =\n",
              "          document.querySelector('#df-a0984dc6-2012-4317-b0c3-8348e228e824 button.colab-df-convert');\n",
              "        buttonEl.style.display =\n",
              "          google.colab.kernel.accessAllowed ? 'block' : 'none';\n",
              "\n",
              "        async function convertToInteractive(key) {\n",
              "          const element = document.querySelector('#df-a0984dc6-2012-4317-b0c3-8348e228e824');\n",
              "          const dataTable =\n",
              "            await google.colab.kernel.invokeFunction('convertToInteractive',\n",
              "                                                     [key], {});\n",
              "          if (!dataTable) return;\n",
              "\n",
              "          const docLinkHtml = 'Like what you see? Visit the ' +\n",
              "            '<a target=\"_blank\" href=https://colab.research.google.com/notebooks/data_table.ipynb>data table notebook</a>'\n",
              "            + ' to learn more about interactive tables.';\n",
              "          element.innerHTML = '';\n",
              "          dataTable['output_type'] = 'display_data';\n",
              "          await google.colab.output.renderOutput(dataTable, element);\n",
              "          const docLink = document.createElement('div');\n",
              "          docLink.innerHTML = docLinkHtml;\n",
              "          element.appendChild(docLink);\n",
              "        }\n",
              "      </script>\n",
              "    </div>\n",
              "  </div>\n",
              "  "
            ],
            "text/plain": [
              "                       PatchMethod Movement  Amount of Movement\n",
              "0              NumberOfUniqueClues    In-In            0.333696\n",
              "1              NumberOfUniqueClues   In-Out            0.377753\n",
              "2              NumberOfUniqueClues   Out-In            0.112224\n",
              "3              NumberOfUniqueClues  Out-Out            0.176327\n",
              "4   TopNByAvgVectorGloveEmbeddings    In-In            0.035190\n",
              "5   TopNByAvgVectorGloveEmbeddings   In-Out            0.137626\n",
              "6   TopNByAvgVectorGloveEmbeddings   Out-In            0.117050\n",
              "7   TopNByAvgVectorGloveEmbeddings  Out-Out            0.710134\n",
              "8    TopNByAvgVectorSWOWEmbeddings    In-In            0.065416\n",
              "9    TopNByAvgVectorSWOWEmbeddings   In-Out            0.194621\n",
              "10   TopNByAvgVectorSWOWEmbeddings   Out-In            0.151910\n",
              "11   TopNByAvgVectorSWOWEmbeddings  Out-Out            0.588052"
            ]
          },
          "metadata": {}
        },
        {
          "output_type": "display_data",
          "data": {
            "image/png": "[encoded data removed]",
            "text/plain": [
              "<Figure size 864x576 with 1 Axes>"
            ]
          },
          "metadata": {
            "needs_background": "light"
          }
        }
      ]
    },
    {
      "cell_type": "markdown",
      "source": [
        " - Accuracy as a function of number of transitions of each type reported"
      ],
      "metadata": {
        "id": "fb16eO2-XdNl"
      }
    },
    {
      "cell_type": "code",
      "source": [
        "fixed_patch1 = patch1.drop(['clueFinal', 'Acc'], axis = 1).reset_index(drop = True)[['wordpair_id', 'Level', 'patchsize']]\n",
        "avg_wp = online[['wordpair_id', 'Level', 'Acc']].groupby(['wordpair_id', 'Level']).mean().reset_index()\n",
        "total_g = fixed_patch1.merge(avg_wp, on = ['wordpair_id', 'Level']).sort_values(['wordpair_id', 'Level'], ascending = [True, False]).reset_index(drop = True)\n",
        "sns.lmplot(x = 'patchsize', y = 'Acc', hue = 'Level', data = total_g, size = 4, aspect = 2, palette='Set1', markers = ['o', 'x', '+'])\n",
        "plt.ylabel('Accuracy')\n",
        "plt.xlabel('Patchsize')\n",
        "plt.title('At the Wordpair Level')\n",
        "plt.savefig(os.path.join(plot_path, \"regression_acc_by_patchsize_per_level_at_wordpair.png\"))\n",
        "plt.show()"
      ],
      "metadata": {
        "colab": {
          "base_uri": "https://localhost:8080/",
          "height": 313
        },
        "id": "AwP5wPRKXevJ",
        "outputId": "a44e27cd-7bfb-455a-9e44-12fa6c43e72d"
      },
      "execution_count": 41,
      "outputs": [
        {
          "output_type": "display_data",
          "data": {
            "image/png": "[encoded data removed]",
            "text/plain": [
              "<Figure size 652x288 with 1 Axes>"
            ]
          },
          "metadata": {
            "needs_background": "light"
          }
        }
      ]
    },
    {
      "cell_type": "markdown",
      "source": [
        " - Compute similarity between successive responses\n",
        "  - Sim of ClueOption1 to ClueOption2, Cluetopion2 to clueoption3\n",
        "  - Do this over the Level\n",
        "  - Lineplot for overall average\n",
        "  - write out to a .csv file"
      ],
      "metadata": {
        "id": "qjTBYwuiXfP4"
      }
    },
    {
      "cell_type": "code",
      "source": [
        "succ_clues = []\n",
        "for sourc in ['glove', 'swow']:\n",
        "  if sourc == 'glove':\n",
        "    source_emb = glove\n",
        "  else:\n",
        "    source_emb = swow\n",
        "\n",
        "  for i in tqdm(range(len(online_clues))):\n",
        "    row_dict = {}\n",
        "    row = dict(online_clues.loc[i, :].dropna())\n",
        "    row_dict['Level'] = row['Level']\n",
        "    row_dict['Source'] = sourc\n",
        "    for j in range(1, 8):\n",
        "      curr = f\"clueOption{j}\"\n",
        "      next = f\"clueOption{j+1}\"\n",
        "      if next in row:\n",
        "        curr_emb_word = return_emb(row[curr])\n",
        "        next_emb_word = return_emb(row[next])\n",
        "        if not isinstance(curr_emb_word, float) and not isinstance(next_emb_word, float):\n",
        "          sim = cosine_similarity(source_emb[curr_emb_word], source_emb[next_emb_word])\n",
        "        else:\n",
        "          sim = np.NaN\n",
        "      else:\n",
        "        sim = np.NaN\n",
        "      move = f\"{j}->{j+1}\"\n",
        "      row_dict[move] = sim\n",
        "      \n",
        "    succ_clues.append(row_dict)\n",
        "\n",
        "succession = pd.DataFrame.from_dict(succ_clues)\n",
        "succession = succession.melt(id_vars = ['Level', 'Source']).rename({'variable': \"Movement\", \"value\": \"Similarity\"}, axis = 1)"
      ],
      "metadata": {
        "colab": {
          "base_uri": "https://localhost:8080/"
        },
        "id": "G2lvDSDZXgYK",
        "outputId": "bc644d84-9377-416d-e2be-96c5c4be4a66"
      },
      "execution_count": 25,
      "outputs": [
        {
          "output_type": "stream",
          "name": "stderr",
          "text": [
            "100%|██████████| 1456/1456 [00:00<00:00, 1463.91it/s]\n",
            "100%|██████████| 1456/1456 [00:00<00:00, 1462.87it/s]\n"
          ]
        }
      ]
    },
    {
      "cell_type": "code",
      "source": [
        "# plot again with standard error maybe change to barplot\n",
        "sns.catplot(data = succession, x = 'Movement', y = 'Similarity', hue = 'Level', col = 'Source',\n",
        "             hue_order = ['Easy', 'Medium', 'Hard'], kind = 'bar', palette = ['green', 'yellow', 'red'])\n",
        "plt.savefig(os.path.join(plot_path, \"barplot_similarity_per_level_per_emebedding_given_movement.png\"))\n",
        "plt.show()"
      ],
      "metadata": {
        "id": "f_dq4TX6ceJS",
        "outputId": "a8818982-6ad3-4334-f943-7f9afe0a7878",
        "colab": {
          "base_uri": "https://localhost:8080/",
          "height": 369
        }
      },
      "execution_count": 42,
      "outputs": [
        {
          "output_type": "display_data",
          "data": {
            "image/png": "[encoded data removed]",
            "text/plain": [
              "<Figure size 796x360 with 2 Axes>"
            ]
          },
          "metadata": {
            "needs_background": "light"
          }
        }
      ]
    },
    {
      "cell_type": "markdown",
      "source": [
        "  - Compute adjusted ratio of clustering\n",
        "    - https://rdrr.io/github/ggreeley/MemoryOrg/man/ARC_correct.html\n",
        "    - for this, we need a dataframe that records 1 or 0 for each clue candidate being an “in” or “out” transition in separate columns for example for the wordpair “quick-glow” we have the candidates “lighter, match, fire” then we need 3 columns signifying whether lighter was an in/out transition, match was in/out, and fire was in/out then we can compute the ARC\n"
      ],
      "metadata": {
        "id": "S6G4NaPAXgy4"
      }
    },
    {
      "cell_type": "code",
      "source": [
        "patches = joined_data[['wordpair_id', 'words_in_patch_num_unique', 'words_in_patch_glove', 'words_in_patch_swow']].drop_duplicates().reset_index(drop = True)\n",
        "patch_clues = online_clues.merge(patches, on = 'wordpair_id')\n",
        "records = []\n",
        "for i in tqdm(range(len(patch_clues))):\n",
        "  row = patch_clues.loc[i, :].dropna()\n",
        "  patches = {'num_unique': row.words_in_patch_num_unique.split(','), \n",
        "             'glove': row.words_in_patch_glove.split(','), \n",
        "             'swow': row.words_in_patch_swow.split(',')\n",
        "  }\n",
        "  co = list(map(lambda x: 'clueOption' + str(x), range(1, 9)))\n",
        "  \n",
        "  for typ, p in patches.items():\n",
        "    for c in co:\n",
        "      record = {}\n",
        "      record['wordpair_id'] = row.wordpair_id\n",
        "      record['gameID'] = row.gameID\n",
        "      record['clueOption'] = c[-1]\n",
        "      record['Method'] = typ\n",
        "\n",
        "      if c in row.index.to_list():\n",
        "        record['clueOption_word'] = row[c]\n",
        "        if row[c] in p:\n",
        "          record[\"In/Out\"] = 'In'\n",
        "          records.append(record)\n",
        "        else:\n",
        "          record[f\"In/Out\"] = 'Out'\n",
        "          records.append(record)\n",
        "      else:\n",
        "        record['clueOption_word'] = np.NaN\n",
        "        record[\"In/Out\"] = np.NaN\n",
        "        records.append(record)\n",
        "total_records = pd.DataFrame.from_dict(records)[['wordpair_id', 'gameID', 'clueOption', 'clueOption_word', 'Method', 'In/Out']]\n",
        "total_records = total_records.sort_values(['wordpair_id', 'gameID', 'clueOption', 'Method'])\n",
        "total_records.to_csv(\"/content/drive/MyDrive/Classes/Fall 2021/Word Embeddings Project (Connector)/Data/Processed/arc_data.csv\", index = False)"
      ],
      "metadata": {
        "id": "FqgPWmv1XhRH",
        "colab": {
          "base_uri": "https://localhost:8080/"
        },
        "outputId": "fec947d9-3310-4744-d8f6-3019a81a2057"
      },
      "execution_count": 27,
      "outputs": [
        {
          "output_type": "stream",
          "name": "stderr",
          "text": [
            "100%|██████████| 1456/1456 [00:01<00:00, 936.14it/s]\n"
          ]
        }
      ]
    },
    {
      "cell_type": "code",
      "source": [
        "# add in gameID and all of clue options\n",
        "total_records"
      ],
      "metadata": {
        "colab": {
          "base_uri": "https://localhost:8080/",
          "height": 423
        },
        "id": "bsIX69-QapHg",
        "outputId": "5c6b4cba-1efb-4c33-f1c2-a30b8e70a1bc"
      },
      "execution_count": 28,
      "outputs": [
        {
          "output_type": "execute_result",
          "data": {
            "text/html": [
              "\n",
              "  <div id=\"df-f78f5a56-b6a3-4d6a-99e6-81cfd52e6777\">\n",
              "    <div class=\"colab-df-container\">\n",
              "      <div>\n",
              "<style scoped>\n",
              "    .dataframe tbody tr th:only-of-type {\n",
              "        vertical-align: middle;\n",
              "    }\n",
              "\n",
              "    .dataframe tbody tr th {\n",
              "        vertical-align: top;\n",
              "    }\n",
              "\n",
              "    .dataframe thead th {\n",
              "        text-align: right;\n",
              "    }\n",
              "</style>\n",
              "<table border=\"1\" class=\"dataframe\">\n",
              "  <thead>\n",
              "    <tr style=\"text-align: right;\">\n",
              "      <th></th>\n",
              "      <th>wordpair_id</th>\n",
              "      <th>gameID</th>\n",
              "      <th>clueOption</th>\n",
              "      <th>clueOption_word</th>\n",
              "      <th>Method</th>\n",
              "      <th>In/Out</th>\n",
              "    </tr>\n",
              "  </thead>\n",
              "  <tbody>\n",
              "    <tr>\n",
              "      <th>6656</th>\n",
              "      <td>ankle-travel</td>\n",
              "      <td>455383-451866</td>\n",
              "      <td>1</td>\n",
              "      <td>run</td>\n",
              "      <td>glove</td>\n",
              "      <td>Out</td>\n",
              "    </tr>\n",
              "    <tr>\n",
              "      <th>6648</th>\n",
              "      <td>ankle-travel</td>\n",
              "      <td>455383-451866</td>\n",
              "      <td>1</td>\n",
              "      <td>run</td>\n",
              "      <td>num_unique</td>\n",
              "      <td>In</td>\n",
              "    </tr>\n",
              "    <tr>\n",
              "      <th>6664</th>\n",
              "      <td>ankle-travel</td>\n",
              "      <td>455383-451866</td>\n",
              "      <td>1</td>\n",
              "      <td>run</td>\n",
              "      <td>swow</td>\n",
              "      <td>Out</td>\n",
              "    </tr>\n",
              "    <tr>\n",
              "      <th>6657</th>\n",
              "      <td>ankle-travel</td>\n",
              "      <td>455383-451866</td>\n",
              "      <td>2</td>\n",
              "      <td>dance</td>\n",
              "      <td>glove</td>\n",
              "      <td>Out</td>\n",
              "    </tr>\n",
              "    <tr>\n",
              "      <th>6649</th>\n",
              "      <td>ankle-travel</td>\n",
              "      <td>455383-451866</td>\n",
              "      <td>2</td>\n",
              "      <td>dance</td>\n",
              "      <td>num_unique</td>\n",
              "      <td>Out</td>\n",
              "    </tr>\n",
              "    <tr>\n",
              "      <th>...</th>\n",
              "      <td>...</td>\n",
              "      <td>...</td>\n",
              "      <td>...</td>\n",
              "      <td>...</td>\n",
              "      <td>...</td>\n",
              "      <td>...</td>\n",
              "    </tr>\n",
              "    <tr>\n",
              "      <th>34926</th>\n",
              "      <td>trauma-weird</td>\n",
              "      <td>491095-486542</td>\n",
              "      <td>7</td>\n",
              "      <td>NaN</td>\n",
              "      <td>num_unique</td>\n",
              "      <td>NaN</td>\n",
              "    </tr>\n",
              "    <tr>\n",
              "      <th>34942</th>\n",
              "      <td>trauma-weird</td>\n",
              "      <td>491095-486542</td>\n",
              "      <td>7</td>\n",
              "      <td>NaN</td>\n",
              "      <td>swow</td>\n",
              "      <td>NaN</td>\n",
              "    </tr>\n",
              "    <tr>\n",
              "      <th>34935</th>\n",
              "      <td>trauma-weird</td>\n",
              "      <td>491095-486542</td>\n",
              "      <td>8</td>\n",
              "      <td>NaN</td>\n",
              "      <td>glove</td>\n",
              "      <td>NaN</td>\n",
              "    </tr>\n",
              "    <tr>\n",
              "      <th>34927</th>\n",
              "      <td>trauma-weird</td>\n",
              "      <td>491095-486542</td>\n",
              "      <td>8</td>\n",
              "      <td>NaN</td>\n",
              "      <td>num_unique</td>\n",
              "      <td>NaN</td>\n",
              "    </tr>\n",
              "    <tr>\n",
              "      <th>34943</th>\n",
              "      <td>trauma-weird</td>\n",
              "      <td>491095-486542</td>\n",
              "      <td>8</td>\n",
              "      <td>NaN</td>\n",
              "      <td>swow</td>\n",
              "      <td>NaN</td>\n",
              "    </tr>\n",
              "  </tbody>\n",
              "</table>\n",
              "<p>34944 rows × 6 columns</p>\n",
              "</div>\n",
              "      <button class=\"colab-df-convert\" onclick=\"convertToInteractive('df-f78f5a56-b6a3-4d6a-99e6-81cfd52e6777')\"\n",
              "              title=\"Convert this dataframe to an interactive table.\"\n",
              "              style=\"display:none;\">\n",
              "        \n",
              "  <svg xmlns=\"http://www.w3.org/2000/svg\" height=\"24px\"viewBox=\"0 0 24 24\"\n",
              "       width=\"24px\">\n",
              "    <path d=\"M0 0h24v24H0V0z\" fill=\"none\"/>\n",
              "    <path d=\"M18.56 5.44l.94 2.06.94-2.06 2.06-.94-2.06-.94-.94-2.06-.94 2.06-2.06.94zm-11 1L8.5 8.5l.94-2.06 2.06-.94-2.06-.94L8.5 2.5l-.94 2.06-2.06.94zm10 10l.94 2.06.94-2.06 2.06-.94-2.06-.94-.94-2.06-.94 2.06-2.06.94z\"/><path d=\"M17.41 7.96l-1.37-1.37c-.4-.4-.92-.59-1.43-.59-.52 0-1.04.2-1.43.59L10.3 9.45l-7.72 7.72c-.78.78-.78 2.05 0 2.83L4 21.41c.39.39.9.59 1.41.59.51 0 1.02-.2 1.41-.59l7.78-7.78 2.81-2.81c.8-.78.8-2.07 0-2.86zM5.41 20L4 18.59l7.72-7.72 1.47 1.35L5.41 20z\"/>\n",
              "  </svg>\n",
              "      </button>\n",
              "      \n",
              "  <style>\n",
              "    .colab-df-container {\n",
              "      display:flex;\n",
              "      flex-wrap:wrap;\n",
              "      gap: 12px;\n",
              "    }\n",
              "\n",
              "    .colab-df-convert {\n",
              "      background-color: #E8F0FE;\n",
              "      border: none;\n",
              "      border-radius: 50%;\n",
              "      cursor: pointer;\n",
              "      display: none;\n",
              "      fill: #1967D2;\n",
              "      height: 32px;\n",
              "      padding: 0 0 0 0;\n",
              "      width: 32px;\n",
              "    }\n",
              "\n",
              "    .colab-df-convert:hover {\n",
              "      background-color: #E2EBFA;\n",
              "      box-shadow: 0px 1px 2px rgba(60, 64, 67, 0.3), 0px 1px 3px 1px rgba(60, 64, 67, 0.15);\n",
              "      fill: #174EA6;\n",
              "    }\n",
              "\n",
              "    [theme=dark] .colab-df-convert {\n",
              "      background-color: #3B4455;\n",
              "      fill: #D2E3FC;\n",
              "    }\n",
              "\n",
              "    [theme=dark] .colab-df-convert:hover {\n",
              "      background-color: #434B5C;\n",
              "      box-shadow: 0px 1px 3px 1px rgba(0, 0, 0, 0.15);\n",
              "      filter: drop-shadow(0px 1px 2px rgba(0, 0, 0, 0.3));\n",
              "      fill: #FFFFFF;\n",
              "    }\n",
              "  </style>\n",
              "\n",
              "      <script>\n",
              "        const buttonEl =\n",
              "          document.querySelector('#df-f78f5a56-b6a3-4d6a-99e6-81cfd52e6777 button.colab-df-convert');\n",
              "        buttonEl.style.display =\n",
              "          google.colab.kernel.accessAllowed ? 'block' : 'none';\n",
              "\n",
              "        async function convertToInteractive(key) {\n",
              "          const element = document.querySelector('#df-f78f5a56-b6a3-4d6a-99e6-81cfd52e6777');\n",
              "          const dataTable =\n",
              "            await google.colab.kernel.invokeFunction('convertToInteractive',\n",
              "                                                     [key], {});\n",
              "          if (!dataTable) return;\n",
              "\n",
              "          const docLinkHtml = 'Like what you see? Visit the ' +\n",
              "            '<a target=\"_blank\" href=https://colab.research.google.com/notebooks/data_table.ipynb>data table notebook</a>'\n",
              "            + ' to learn more about interactive tables.';\n",
              "          element.innerHTML = '';\n",
              "          dataTable['output_type'] = 'display_data';\n",
              "          await google.colab.output.renderOutput(dataTable, element);\n",
              "          const docLink = document.createElement('div');\n",
              "          docLink.innerHTML = docLinkHtml;\n",
              "          element.appendChild(docLink);\n",
              "        }\n",
              "      </script>\n",
              "    </div>\n",
              "  </div>\n",
              "  "
            ],
            "text/plain": [
              "        wordpair_id         gameID  ...      Method In/Out\n",
              "6656   ankle-travel  455383-451866  ...       glove    Out\n",
              "6648   ankle-travel  455383-451866  ...  num_unique     In\n",
              "6664   ankle-travel  455383-451866  ...        swow    Out\n",
              "6657   ankle-travel  455383-451866  ...       glove    Out\n",
              "6649   ankle-travel  455383-451866  ...  num_unique    Out\n",
              "...             ...            ...  ...         ...    ...\n",
              "34926  trauma-weird  491095-486542  ...  num_unique    NaN\n",
              "34942  trauma-weird  491095-486542  ...        swow    NaN\n",
              "34935  trauma-weird  491095-486542  ...       glove    NaN\n",
              "34927  trauma-weird  491095-486542  ...  num_unique    NaN\n",
              "34943  trauma-weird  491095-486542  ...        swow    NaN\n",
              "\n",
              "[34944 rows x 6 columns]"
            ]
          },
          "metadata": {},
          "execution_count": 28
        }
      ]
    }
  ]
}